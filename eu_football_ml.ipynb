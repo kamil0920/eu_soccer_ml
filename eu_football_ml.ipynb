{
 "cells": [
  {
   "cell_type": "code",
   "execution_count": 1,
   "outputs": [],
   "source": [
    "import traceback\n",
    "\n",
    "import numpy as np\n",
    "import pandas as pd\n",
    "from IPython.core.display_functions import display\n",
    "from pandas_profiling import ProfileReport\n",
    "\n",
    "import seaborn as sns\n",
    "import matplotlib.pyplot as plt\n",
    "\n",
    "import sqlite3 as db\n",
    "\n",
    "import xml.etree.cElementTree as et\n",
    "from sklearn import preprocessing\n",
    "\n",
    "sns.set_context('paper')"
   ],
   "metadata": {
    "collapsed": false,
    "pycharm": {
     "name": "#%%\n"
    }
   }
  },
  {
   "cell_type": "code",
   "execution_count": 2,
   "outputs": [],
   "source": [
    "def process_xml_columns(df_new_cols, cols, match, xml_col):\n",
    "    path = match[xml_col]\n",
    "    if path is not None:\n",
    "        root = et.fromstring(path)\n",
    "        try:\n",
    "            temp_column_list = []\n",
    "            for column in cols:\n",
    "                row_elements = root.findall('.//{}'.format(column))\n",
    "                row_list = []\n",
    "                for row in row_elements:\n",
    "                    row_list.append(row.text)\n",
    "                temp_column_list.append(row_list)\n",
    "            df = pd.DataFrame(temp_column_list)\n",
    "            df = df.transpose()\n",
    "            df.columns = df_new_cols\n",
    "            df['match_api_id'] = match.match_api_id\n",
    "            return df\n",
    "        except Exception as e:\n",
    "            print(e)\n",
    "\n",
    "\n",
    "def create_new_df_from_xml(df, xml_column, df_cols, df_new_cols):\n",
    "    new_df = pd.DataFrame()\n",
    "    for index, row in df[df[xml_column].notna()].iterrows():\n",
    "        df = process_xml_columns(df_new_cols, df_cols, row, xml_column)\n",
    "        new_df = pd.concat([new_df, df], ignore_index=True)\n",
    "    return new_df\n",
    "\n",
    "\n",
    "def fill_nan_goals(df, col1, col2):\n",
    "    df_col1_nan = df.loc[df[col1].isna()]\n",
    "    df_col2_nan = df.loc[df[col2].isna()]\n",
    "    for index, row in df_col1_nan.iterrows():\n",
    "        avg_mean = df.loc[df.home_team == row.home_team][col1].mean()\n",
    "        if avg_mean == avg_mean:\n",
    "            df.loc[df.match_api_id == row.match_api_id, col1] = round(avg_mean)\n",
    "        else:\n",
    "            df.loc[df.match_api_id == row.match_api_id, col1] = 0\n",
    "    for index, row in df_col2_nan.iterrows():\n",
    "        avg_mean = df.loc[df.away_team == row.away_team][col2].mean()\n",
    "        if avg_mean == avg_mean:\n",
    "            df.loc[df.match_api_id == row.match_api_id, col2] = round(avg_mean)\n",
    "        else:\n",
    "            df.loc[df.match_api_id == row.match_api_id, col1] = 0\n",
    "    return df\n",
    "\n",
    "\n",
    "def missin_values(df):\n",
    "    percent_missing = df.isnull().sum() * 100 / len(df)\n",
    "    missing_value_df = pd.DataFrame({'column_name': df.columns,\n",
    "                                     'percent_missing': percent_missing})\n",
    "    return missing_value_df\n",
    "\n",
    "\n",
    "def get_winner(row):\n",
    "    if row['result_match'] == 'H':\n",
    "        m_winner = row['home_team']\n",
    "    elif row['home_team_goal'] == 'D':\n",
    "        m_winner = 'Draw'\n",
    "    else:\n",
    "        m_winner = row['away_team']\n",
    "    return m_winner\n",
    "\n",
    "\n",
    "def get_points(row, team):\n",
    "    if row['home_team'] == team:\n",
    "        if row['result_match'] == 'H':\n",
    "            return 3\n",
    "        elif row['result_match'] == 'A':\n",
    "            return 0\n",
    "        else:\n",
    "            return 1\n",
    "    else:\n",
    "        if row['home_team_goal'] == 'H':\n",
    "            return 0\n",
    "        elif row['home_team_goal'] == 'A':\n",
    "            return 3\n",
    "        else:\n",
    "            return 1"
   ],
   "metadata": {
    "collapsed": false,
    "pycharm": {
     "name": "#%%\n"
    }
   }
  },
  {
   "cell_type": "code",
   "execution_count": 3,
   "outputs": [],
   "source": [
    "conn = db.connect('eu_soccer_database/database.sqlite')\n",
    "chunk_size = 5000\n",
    "batch_no = 1\n",
    "for chunk in pd.read_sql(\"SELECT m.match_api_id,\"\n",
    "                         \" Country.name AS country_name,\"\n",
    "                         \" League.name AS league_name,\"\n",
    "                         \" season,\"\n",
    "                         \" stage,\"\n",
    "                         \" m.date,\"\n",
    "                         \" HT.team_long_name AS  home_team,\"\n",
    "                         \" AT.team_long_name AS away_team,\"\n",
    "                         \" home_team_goal,\"\n",
    "                         \" away_team_goal,\"\n",
    "                         \" m.possession,\"\n",
    "                         \" CASE\"\n",
    "                         \" WHEN m.home_team_goal > m.away_team_goal THEN 'H'\"\n",
    "                         \" WHEN m.home_team_goal < m.away_team_goal THEN 'A'\"\n",
    "                         \" WHEN m.home_team_goal = m.away_team_goal THEN 'D'\"\n",
    "                         \" END AS result_match,\"\n",
    "                         \" m.B365H,\"\n",
    "                         \" m.B365D,\"\n",
    "                         \" m.B365A,\"\n",
    "                         \" m.BWH,\"\n",
    "                         \" m.BWD,\"\n",
    "                         \" m.BWA,\"\n",
    "                         \" m.IWH,\"\n",
    "                         \" m.IWD,\"\n",
    "                         \" m.IWA,\"\n",
    "                         \" m.LBH,\"\n",
    "                         \" m.LBD,\"\n",
    "                         \" m.LBA,\"\n",
    "                         \" m.PSH,\"\n",
    "                         \" m.PSD,\"\n",
    "                         \" m.PSA,\"\n",
    "                         \" m.WHH,\"\n",
    "                         \" m.WHD,\"\n",
    "                         \" m.WHA\"\n",
    "                         \" FROM Match as m\"\n",
    "                         \" JOIN Country on Country.id = m.country_id\"\n",
    "                         \" JOIN League on League.id = m.league_id\"\n",
    "                         \" LEFT JOIN Team AS HT on HT.team_api_id = m.home_team_api_id\"\n",
    "                         \" LEFT JOIN Team AS AT on AT.team_api_id = m.away_team_api_id\"\n",
    "                         \" LEFT JOIN Player AS H6 on H6.player_api_id = m.home_player_6\"\n",
    "                         \" LEFT JOIN Player AS H7 on H7.player_api_id = m.home_player_7\"\n",
    "                         \" LEFT JOIN Player AS H8 on H8.player_api_id = m.home_player_8\"\n",
    "                         \" LEFT JOIN Player AS H9 on H9.player_api_id = m.home_player_9\"\n",
    "                         \" LEFT JOIN Player AS H10 on H10.player_api_id = m.home_player_10\"\n",
    "                         \" LEFT JOIN Player AS H11 on H11.player_api_id = m.home_player_11\"\n",
    "                         \" LEFT JOIN Player AS A6 on A6.player_api_id = m.away_player_6\"\n",
    "                         \" LEFT JOIN Player AS A7 on A7.player_api_id = m.away_player_7\"\n",
    "                         \" LEFT JOIN Player AS A8 on A8.player_api_id = m.away_player_8\"\n",
    "                         \" LEFT JOIN Player AS A9 on A9.player_api_id = m.away_player_9\"\n",
    "                         \" LEFT JOIN Player AS A10 on A10.player_api_id = m.away_player_10\"\n",
    "                         \" LEFT JOIN Player AS A11 on A11.player_api_id = m.away_player_11\"\n",
    "                         \" WHERE League.id IN (1729, 4769, 7809, 10257, 21518)\"\n",
    "                         \" AND m.possession IS NOT NULL\"\n",
    "                         \" ORDER by date;\", conn, chunksize=chunk_size):\n",
    "    chunk.to_csv('chunk_data/chunk' + str(batch_no) + '.csv', index=False)\n",
    "    batch_no += 1"
   ],
   "metadata": {
    "collapsed": false,
    "pycharm": {
     "name": "#%%\n"
    }
   }
  },
  {
   "cell_type": "code",
   "execution_count": 4,
   "outputs": [],
   "source": [
    "df_detailed_matches = pd.read_csv('chunk_data/chunk1.csv')"
   ],
   "metadata": {
    "collapsed": false,
    "pycharm": {
     "name": "#%%\n"
    }
   }
  },
  {
   "cell_type": "code",
   "execution_count": 5,
   "outputs": [
    {
     "data": {
      "text/plain": "Summarize dataset:   0%|          | 0/5 [00:00<?, ?it/s]",
      "application/vnd.jupyter.widget-view+json": {
       "version_major": 2,
       "version_minor": 0,
       "model_id": "1d96644ab9a5464dacad48b81e2fe34f"
      }
     },
     "metadata": {},
     "output_type": "display_data"
    },
    {
     "data": {
      "text/plain": "Generate report structure:   0%|          | 0/1 [00:00<?, ?it/s]",
      "application/vnd.jupyter.widget-view+json": {
       "version_major": 2,
       "version_minor": 0,
       "model_id": "17e3c7627fe84c25b033e784de6897b1"
      }
     },
     "metadata": {},
     "output_type": "display_data"
    },
    {
     "data": {
      "text/plain": "Render HTML:   0%|          | 0/1 [00:00<?, ?it/s]",
      "application/vnd.jupyter.widget-view+json": {
       "version_major": 2,
       "version_minor": 0,
       "model_id": "eb73b3c8ae004f0ca3ee3a0789fcf346"
      }
     },
     "metadata": {},
     "output_type": "display_data"
    },
    {
     "data": {
      "text/plain": "Export report to file:   0%|          | 0/1 [00:00<?, ?it/s]",
      "application/vnd.jupyter.widget-view+json": {
       "version_major": 2,
       "version_minor": 0,
       "model_id": "15923f34f92543fe8f3d92d181128dda"
      }
     },
     "metadata": {},
     "output_type": "display_data"
    }
   ],
   "source": [
    "profile = ProfileReport(df_detailed_matches, title='Detailed matches', minimal=True)\n",
    "profile.to_file(output_file=\"report/first_profile.html\")"
   ],
   "metadata": {
    "collapsed": false,
    "pycharm": {
     "name": "#%%\n"
    }
   }
  },
  {
   "cell_type": "code",
   "execution_count": 6,
   "outputs": [],
   "source": [
    "df_detailed_matches['date'] = pd.to_datetime(df_detailed_matches['date']).dt.date\n",
    "df_detailed_matches[\n",
    "    ['country_name', 'league_name', 'season', 'home_team', 'away_team', 'result_match', 'possession']] = df_detailed_matches[\n",
    "    ['country_name', 'league_name', 'season', 'home_team', 'away_team', 'result_match', 'possession']].astype('category')"
   ],
   "metadata": {
    "collapsed": false,
    "pycharm": {
     "name": "#%%\n"
    }
   }
  },
  {
   "cell_type": "code",
   "execution_count": 7,
   "outputs": [],
   "source": [
    "df_detailed_matches = df_detailed_matches.drop(['PSH', 'PSD', 'PSA'], axis=1)"
   ],
   "metadata": {
    "collapsed": false,
    "pycharm": {
     "name": "#%%\n"
    }
   }
  },
  {
   "cell_type": "code",
   "execution_count": 8,
   "outputs": [],
   "source": [
    "teams = pd.unique(df_detailed_matches[['home_team', 'away_team']].values.ravel('K'))"
   ],
   "metadata": {
    "collapsed": false,
    "pycharm": {
     "name": "#%%\n"
    }
   }
  },
  {
   "cell_type": "code",
   "execution_count": 9,
   "outputs": [],
   "source": [
    "try:\n",
    "    for team in teams:\n",
    "        mask_team_matches = (df_detailed_matches['home_team'] == team) | (df_detailed_matches['away_team'] == team)\n",
    "        matches = df_detailed_matches.loc[mask_team_matches]\n",
    "        matches = matches.sort_values(by='date')\n",
    "\n",
    "        for index, row in matches.iterrows():\n",
    "            previous_match_goals = row['home_team_goal'] if team == row['home_team'] else row['away_team_goal']\n",
    "            last_match = matches.loc[matches['match_api_id'].shift(1) == row['match_api_id']].dropna(how='all')\n",
    "            if not last_match.empty:\n",
    "                if team == last_match['home_team'].values:\n",
    "                    df_detailed_matches.loc[\n",
    "                        df_detailed_matches['match_api_id'] == last_match.iloc[0]['match_api_id'], 'lm_goals_home'] = previous_match_goals\n",
    "                else:\n",
    "                    df_detailed_matches.loc[\n",
    "                        df_detailed_matches['match_api_id'] == last_match.iloc[0]['match_api_id'], 'lm_goals_away'] = previous_match_goals\n",
    "except Exception as e:\n",
    "    e.with_traceback()\n",
    "    print(e)\n",
    "\n",
    "df_detailed_matches = fill_nan_goals(df_detailed_matches, 'lm_goals_home', 'lm_goals_away')\n",
    "df_detailed_matches.lm_goals_home = df_detailed_matches.lm_goals_home.astype(int)\n",
    "df_detailed_matches.lm_goals_away = df_detailed_matches.lm_goals_away.astype(int)"
   ],
   "metadata": {
    "collapsed": false,
    "pycharm": {
     "name": "#%%\n"
    }
   }
  },
  {
   "cell_type": "code",
   "execution_count": 10,
   "outputs": [],
   "source": [
    "try:\n",
    "    for team in teams:\n",
    "        mask_find_team_matches = (df_detailed_matches['home_team'] == team) | (\n",
    "                df_detailed_matches['away_team'] == team)\n",
    "        team_matches = df_detailed_matches.loc[mask_find_team_matches]\n",
    "        team_matches = team_matches.sort_values(by='date')\n",
    "\n",
    "        for index, row in team_matches.iterrows():\n",
    "            mask_home = ((team_matches['home_team'] == row['home_team']) & (team_matches['date'] < row['date']))\n",
    "            mask_away = ((team_matches['away_team'] == row['away_team']) & (team_matches['date'] < row['date']))\n",
    "            mask_both = (team_matches['date'] < row['date'])\n",
    "\n",
    "            avg_l5m_hh = team_matches.loc[mask_home].iloc[-5:]['home_team_goal'].mean()\n",
    "            avg_l5m_aa = team_matches.loc[mask_away].iloc[-5:]['away_team_goal'].mean()\n",
    "            l5_m = team_matches.loc[mask_both].iloc[-5:]\n",
    "\n",
    "            goals = []\n",
    "\n",
    "            for idx, r in l5_m.iterrows():\n",
    "                if r['home_team'] == team:\n",
    "                    goals.append(r['home_team_goal'])\n",
    "                else:\n",
    "                    goals.append(r['away_team_goal'])\n",
    "\n",
    "            avg_l5_m = np.nan if len(goals) == 0 else sum(goals) / len(goals)\n",
    "            if team == row['home_team']:\n",
    "                if pd.isna(avg_l5m_aa):\n",
    "                    avg_l5m_aa = row['home_team_goal']\n",
    "                df_detailed_matches.loc[\n",
    "                    df_detailed_matches['match_api_id'] == row['match_api_id'], 'avg_l5m_hh'] = avg_l5m_hh\n",
    "                df_detailed_matches.loc[\n",
    "                    df_detailed_matches['match_api_id'] == row['match_api_id'], 'avg_l5m_h'] = avg_l5_m\n",
    "            else:\n",
    "                if pd.isna(avg_l5m_aa):\n",
    "                    avg_l5m_aa = row['away_team_goal']\n",
    "                df_detailed_matches.loc[\n",
    "                    df_detailed_matches['match_api_id'] == row['match_api_id'], 'avg_l5m_aa'] = avg_l5m_aa\n",
    "                df_detailed_matches.loc[\n",
    "                    df_detailed_matches['match_api_id'] == row['match_api_id'], 'avg_l5m_a'] = avg_l5_m\n",
    "except Exception as e:\n",
    "    print(e)\n",
    "\n",
    "df_detailed_matches = fill_nan_goals(df_detailed_matches, 'avg_l5m_h', 'avg_l5m_hh')\n",
    "df_detailed_matches = fill_nan_goals(df_detailed_matches, 'avg_l5m_a', 'avg_l5m_aa')"
   ],
   "metadata": {
    "collapsed": false,
    "pycharm": {
     "name": "#%%\n"
    }
   }
  },
  {
   "cell_type": "code",
   "execution_count": 11,
   "outputs": [],
   "source": [
    "try:\n",
    "    for team in teams:\n",
    "        mask_team_matches = (df_detailed_matches['home_team'] == team) | (df_detailed_matches['away_team'] == team)\n",
    "        team_matches = df_detailed_matches.loc[mask_team_matches]\n",
    "        team_matches = team_matches.sort_values(by='date', ascending=False)\n",
    "\n",
    "        for index, row in team_matches.iterrows():\n",
    "            mask_both = (team_matches['date'] < row['date'])\n",
    "            matches_filtering_by_date = team_matches.loc[mask_both]\n",
    "            win_counter = 0\n",
    "\n",
    "            for idx in range(len(matches_filtering_by_date)):\n",
    "                if team == matches_filtering_by_date.iloc[idx]['home_team']:\n",
    "                    match_goals = matches_filtering_by_date[['home_team_goal', 'away_team_goal']].iloc[idx]\n",
    "                    if match_goals.loc['home_team_goal'] > match_goals.loc['away_team_goal']:\n",
    "                        win_counter = win_counter + 1\n",
    "                    else:\n",
    "                        break\n",
    "                else:\n",
    "                    match_goals = matches_filtering_by_date[['home_team_goal', 'away_team_goal']].iloc[idx]\n",
    "                    if match_goals.loc['home_team_goal'] < match_goals.loc['away_team_goal']:\n",
    "                        win_counter = win_counter + 1\n",
    "                    else:\n",
    "                        break\n",
    "            if team == row['home_team']:\n",
    "                df_detailed_matches.loc[df_detailed_matches['match_api_id'] == row['match_api_id'], 'streak_last_wh'] = win_counter\n",
    "            else:\n",
    "                df_detailed_matches.loc[df_detailed_matches['match_api_id'] == row['match_api_id'], 'streak_last_wa'] = win_counter\n",
    "except Exception as e:\n",
    "    print(e)"
   ],
   "metadata": {
    "collapsed": false,
    "pycharm": {
     "name": "#%%\n"
    }
   }
  },
  {
   "cell_type": "code",
   "execution_count": 12,
   "outputs": [],
   "source": [
    "try:\n",
    "    for team in teams:\n",
    "        mask_team_matches = (df_detailed_matches['home_team'] == team) | (df_detailed_matches['away_team'] == team)\n",
    "        team_matches = df_detailed_matches.loc[mask_team_matches]\n",
    "        team_matches = team_matches.sort_values(by='date', ascending=False)\n",
    "\n",
    "        for index, row in team_matches.iterrows():\n",
    "            mask_both = (team_matches['date'] < row['date'])\n",
    "            matches_filtering_by_date = team_matches.loc[mask_both]\n",
    "            lose_counter = 0\n",
    "\n",
    "            for idx in range(len(matches_filtering_by_date)):\n",
    "                if team == matches_filtering_by_date.iloc[idx]['home_team']:\n",
    "                    match_goals = matches_filtering_by_date[['home_team_goal', 'away_team_goal']].iloc[idx]\n",
    "                    if match_goals.loc['home_team_goal'] > match_goals.loc['away_team_goal']:\n",
    "                        break\n",
    "                    else:\n",
    "                        lose_counter = lose_counter + 1\n",
    "                else:\n",
    "                    match_goals = matches_filtering_by_date[['home_team_goal', 'away_team_goal']].iloc[idx]\n",
    "                    if match_goals.loc['home_team_goal'] < match_goals.loc['away_team_goal']:\n",
    "                        break\n",
    "                    else:\n",
    "                        lose_counter = lose_counter + 1\n",
    "\n",
    "            if team == row['home_team']:\n",
    "                df_detailed_matches.loc[df_detailed_matches['match_api_id'] == row['match_api_id'], 'streak_last_lh'] = lose_counter\n",
    "            else:\n",
    "                df_detailed_matches.loc[df_detailed_matches['match_api_id'] == row['match_api_id'], 'streak_last_la'] = lose_counter\n",
    "except Exception as e:\n",
    "    print(e)\n",
    "\n",
    "df_detailed_matches.streak_last_la = df_detailed_matches.streak_last_la.astype(int)\n",
    "df_detailed_matches.streak_last_lh = df_detailed_matches.streak_last_lh.astype(int)\n",
    "\n",
    "df_detailed_matches.streak_last_wh = df_detailed_matches.streak_last_wh.astype(int)\n",
    "df_detailed_matches.streak_last_wa = df_detailed_matches.streak_last_wa.astype(int)"
   ],
   "metadata": {
    "collapsed": false,
    "pycharm": {
     "name": "#%%\n"
    }
   }
  },
  {
   "cell_type": "code",
   "execution_count": 13,
   "outputs": [],
   "source": [
    "columns_possession = ['awaypos', 'homepos', 'subtype', 'elapsed']\n",
    "new_columns_possession = ['awaypos', 'homepos', 'subtype', 'elapsed']\n",
    "df_possession = create_new_df_from_xml(df_detailed_matches, 'possession', columns_possession, new_columns_possession)"
   ],
   "metadata": {
    "collapsed": false,
    "pycharm": {
     "name": "#%%\n"
    }
   }
  },
  {
   "cell_type": "code",
   "execution_count": 14,
   "outputs": [],
   "source": [
    "df_possession[['awaypos', 'homepos']] = df_possession[['awaypos', 'homepos']].fillna(0).astype('int')\n",
    "df_possession[['awaypos', 'homepos']] = df_possession[['awaypos', 'homepos']].replace(0, np.nan)\n",
    "df_possession['awaypos'] = df_possession['awaypos'].fillna(df_possession.groupby('match_api_id')['awaypos'].transform('mean'))\n",
    "df_possession['homepos'] = df_possession['homepos'].fillna(df_possession.groupby('match_api_id')['homepos'].transform('mean'))\n",
    "df_possession[['awaypos', 'homepos']] = df_possession[['awaypos', 'homepos']].astype('int')"
   ],
   "metadata": {
    "collapsed": false,
    "pycharm": {
     "name": "#%%\n"
    }
   }
  },
  {
   "cell_type": "code",
   "execution_count": 15,
   "outputs": [],
   "source": [
    "df_possession = df_possession.loc[(df_possession['elapsed'] == '90') | df_possession['elapsed'].isna()]\n",
    "df_possession = df_possession.groupby(by=['match_api_id'])[['awaypos', 'homepos']].mean().astype(int)\n",
    "df_possession = df_possession.reset_index(level=0)"
   ],
   "metadata": {
    "collapsed": false,
    "pycharm": {
     "name": "#%%\n"
    }
   }
  },
  {
   "cell_type": "code",
   "execution_count": 16,
   "outputs": [],
   "source": [
    "df_detailed_matches = pd.merge(df_detailed_matches, df_possession, how='left', on='match_api_id')"
   ],
   "metadata": {
    "collapsed": false,
    "pycharm": {
     "name": "#%%\n"
    }
   }
  },
  {
   "cell_type": "code",
   "execution_count": 17,
   "outputs": [],
   "source": [
    "df_detailed_matches_nan_possession = df_detailed_matches.loc[(df_detailed_matches['awaypos'].isna()) | (df_detailed_matches['homepos'].isna())]"
   ],
   "metadata": {
    "collapsed": false,
    "pycharm": {
     "name": "#%%\n"
    }
   }
  },
  {
   "cell_type": "code",
   "execution_count": 19,
   "outputs": [],
   "source": [
    "for index, row in df_detailed_matches_nan_possession.iterrows():\n",
    "    home_team = row['home_team']\n",
    "    away_team = row['away_team']\n",
    "\n",
    "    mask_all_matches_between_teams = ((df_detailed_matches['home_team'] == home_team) | (df_detailed_matches['away_team'] == home_team)) &\\\n",
    "                                     ((df_detailed_matches['home_team'] == away_team) | (df_detailed_matches['away_team'] == away_team))\n",
    "    all_matches_between_teams = df_detailed_matches.loc[mask_all_matches_between_teams]\n",
    "\n",
    "    home_possessions = []\n",
    "    away_possessions = []\n",
    "\n",
    "    for idx, r in all_matches_between_teams.iterrows():\n",
    "        if (r['home_team'] == home_team) & (not pd.isna(r['homepos'])):\n",
    "            home_possessions.append(r['homepos'])\n",
    "        elif (r['away_team'] == home_team) & (not pd.isna(r['awaypos'])):\n",
    "            home_possessions.append(r['awaypos'])\n",
    "\n",
    "        if (r['home_team'] == away_team) & (not pd.isna(r['homepos'])):\n",
    "            away_possessions.append(r['homepos'])\n",
    "        elif (r['away_team'] == away_team) & (not pd.isna(r['awaypos'])):\n",
    "            away_possessions.append(r['awaypos'])\n",
    "\n",
    "    if (len(home_possessions) == 0) | (len(away_possessions) == 0):\n",
    "        res = df_detailed_matches.drop(df_detailed_matches[df_detailed_matches.match_api_id == row.match_api_id].index)\n",
    "    else:\n",
    "        avg_possession_home = sum(home_possessions) / len(home_possessions)\n",
    "        avg_possession_away = sum(away_possessions) / len(away_possessions)\n",
    "        df_detailed_matches.loc[df_detailed_matches['match_api_id'] == row['match_api_id'], 'homepos'] = int(avg_possession_home)\n",
    "        df_detailed_matches.loc[df_detailed_matches['match_api_id'] == row['match_api_id'], 'awaypos'] = int(avg_possession_away)\n",
    "\n",
    "df_detailed_matches['awaypos'] = df_detailed_matches['awaypos'].fillna(df_detailed_matches.groupby(['away_team'])['awaypos'].transform('mean'))\n",
    "df_detailed_matches['homepos'] = df_detailed_matches['homepos'].fillna(df_detailed_matches.groupby(['home_team'])['homepos'].transform('mean'))\n",
    "\n",
    "df_detailed_matches['awaypos'] = df_detailed_matches['awaypos'].fillna(df_detailed_matches.groupby(['league_name'])['awaypos'].transform('mean'))\n",
    "df_detailed_matches['homepos'] = df_detailed_matches['homepos'].fillna(df_detailed_matches.groupby(['league_name'])['homepos'].transform('mean'))"
   ],
   "metadata": {
    "collapsed": false,
    "pycharm": {
     "name": "#%%\n"
    }
   }
  },
  {
   "cell_type": "code",
   "execution_count": 20,
   "outputs": [],
   "source": [
    "try:\n",
    "    for team in teams:\n",
    "        mask_team_matches = (df_detailed_matches['home_team'] == team) | (df_detailed_matches['away_team'] == team)\n",
    "        matches = df_detailed_matches.loc[mask_team_matches]\n",
    "        matches = matches.sort_values(by='date')\n",
    "\n",
    "        for index, row in matches.iterrows():\n",
    "            previous_match_possession = row['homepos'] if team == row['home_team'] else row['awaypos']\n",
    "            last_match = matches.loc[matches['match_api_id'].shift(1) == row['match_api_id']].dropna(how='all')\n",
    "\n",
    "            if not last_match.empty:\n",
    "                if team == last_match['home_team'].values:\n",
    "                    df_detailed_matches.loc[df_detailed_matches['match_api_id'] == last_match['match_api_id'].values[0],\n",
    "                                            'last_match_possession_home'] = previous_match_possession\n",
    "                else:\n",
    "                    df_detailed_matches.loc[df_detailed_matches['match_api_id'] == last_match['match_api_id'].values[0],\n",
    "                                            'last_match_possession_away'] = previous_match_possession\n",
    "except Exception as e:\n",
    "    print(e)\n",
    "\n",
    "df_detailed_matches['last_match_possession_away'] = df_detailed_matches['last_match_possession_away'].fillna(\n",
    "    df_detailed_matches.groupby(['away_team'])['last_match_possession_away'].transform('mean'))\n",
    "df_detailed_matches['last_match_possession_home'] = df_detailed_matches['last_match_possession_home'].fillna(\n",
    "    df_detailed_matches.groupby(['home_team'])['last_match_possession_home'].transform('mean'))\n",
    "\n",
    "df_detailed_matches['last_match_possession_away'] = df_detailed_matches['last_match_possession_away'].fillna(\n",
    "    df_detailed_matches.groupby(['league_name'])['last_match_possession_away'].transform('mean'))\n",
    "df_detailed_matches['last_match_possession_home'] = df_detailed_matches['last_match_possession_home'].fillna(\n",
    "    df_detailed_matches.groupby(['league_name'])['last_match_possession_home'].transform('mean'))\n",
    "\n",
    "df_detailed_matches.last_match_possession_home = df_detailed_matches.last_match_possession_home.astype(int)\n",
    "df_detailed_matches.last_match_possession_away = df_detailed_matches.last_match_possession_away.astype(int)"
   ],
   "metadata": {
    "collapsed": false,
    "pycharm": {
     "name": "#%%\n"
    }
   }
  },
  {
   "cell_type": "code",
   "execution_count": 21,
   "outputs": [],
   "source": [
    "df_detailed_matches = df_detailed_matches.drop(['homepos', 'awaypos'], axis=1)"
   ],
   "metadata": {
    "collapsed": false,
    "pycharm": {
     "name": "#%%\n"
    }
   }
  },
  {
   "cell_type": "code",
   "execution_count": 22,
   "outputs": [],
   "source": [
    "try:\n",
    "    for team in teams:\n",
    "        mask_team_matches = (df_detailed_matches['home_team'] == team) | (df_detailed_matches['away_team'] == team)\n",
    "        matches = df_detailed_matches.loc[mask_team_matches]\n",
    "        matches = matches.sort_values(by='date')\n",
    "\n",
    "        for index, row in matches.iterrows():\n",
    "            match_date = row['date']\n",
    "            next_match = matches.loc[matches['match_api_id'].shift(1) == row['match_api_id']].dropna(how='all')\n",
    "\n",
    "            if not next_match.empty:\n",
    "                days_last_match = delta = next_match['date'].iloc[0] - match_date\n",
    "\n",
    "                if team == next_match.iloc[0]['home_team']:\n",
    "                    df_detailed_matches.loc[df_detailed_matches['match_api_id'] == next_match['match_api_id'].values[0],\n",
    "                                            'days_since_lmh'] = days_last_match.days\n",
    "                else:\n",
    "                    df_detailed_matches.loc[df_detailed_matches['match_api_id'] == next_match['match_api_id'].values[0],\n",
    "                                            'days_since_lma'] = days_last_match.days\n",
    "\n",
    "except Exception as e:\n",
    "    print(e)\n",
    "\n",
    "df_detailed_matches['days_since_lmh'] = df_detailed_matches['days_since_lmh'].fillna(\n",
    "    df_detailed_matches.groupby(['league_name'])['days_since_lmh'].transform('mean').astype(int))\n",
    "\n",
    "df_detailed_matches['days_since_lma'] = df_detailed_matches['days_since_lma'].fillna(\n",
    "    df_detailed_matches.groupby(['league_name'])['days_since_lma'].transform('mean').astype(int))\n",
    "\n",
    "df_detailed_matches.days_since_lma = df_detailed_matches.days_since_lma.astype(int)\n",
    "df_detailed_matches.days_since_lmh = df_detailed_matches.days_since_lmh.astype(int)"
   ],
   "metadata": {
    "collapsed": false,
    "pycharm": {
     "name": "#%%\n"
    }
   }
  },
  {
   "cell_type": "code",
   "execution_count": 24,
   "outputs": [],
   "source": [
    "for index, row in df_detailed_matches.iterrows():\n",
    "    home_team = row['home_team']\n",
    "    away_team = row['away_team']\n",
    "\n",
    "    mask_all_matches_between_teams = ((df_detailed_matches['home_team'] == home_team) | (df_detailed_matches['away_team'] == home_team)) &\\\n",
    "    ((df_detailed_matches['home_team'] == away_team) | (df_detailed_matches['away_team'] == away_team))\n",
    "    all_matches_between_teams = df_detailed_matches.loc[mask_all_matches_between_teams]\n",
    "\n",
    "    for idx, r in all_matches_between_teams.iterrows():\n",
    "        last_match = all_matches_between_teams.loc[all_matches_between_teams['match_api_id'].shift(1) == r['match_api_id']].dropna(how='all')\n",
    "        m_winner = ''\n",
    "        if not last_match.empty:\n",
    "            m_winner = get_winner(r)\n",
    "\n",
    "            match_api_id_ = df_detailed_matches['match_api_id'] == last_match.iloc[0]['match_api_id']\n",
    "            df_detailed_matches.loc[match_api_id_, 'lm_winner'] = m_winner"
   ],
   "metadata": {
    "collapsed": false,
    "pycharm": {
     "name": "#%%\n"
    }
   }
  },
  {
   "cell_type": "code",
   "execution_count": 25,
   "outputs": [
    {
     "data": {
      "text/plain": "(1355, 42)"
     },
     "execution_count": 25,
     "metadata": {},
     "output_type": "execute_result"
    }
   ],
   "source": [
    "df_detailed_matches_nan_lm_winner = df_detailed_matches.loc[df_detailed_matches.lm_winner.isna()]\n",
    "df_detailed_matches_nan_lm_winner.shape"
   ],
   "metadata": {
    "collapsed": false,
    "pycharm": {
     "name": "#%%\n"
    }
   }
  },
  {
   "cell_type": "code",
   "execution_count": 26,
   "outputs": [],
   "source": [
    "for index, row in df_detailed_matches_nan_lm_winner.iterrows():\n",
    "    home_team = row['home_team']\n",
    "    away_team = row['away_team']\n",
    "\n",
    "    mask_all_matches_between_teams = ((df_detailed_matches['home_team'] == home_team) | (\n",
    "            df_detailed_matches['away_team'] == home_team)) & ((df_detailed_matches['home_team'] == away_team) | (\n",
    "            df_detailed_matches['away_team'] == away_team))\n",
    "    all_matches_between_teams = df_detailed_matches.loc[mask_all_matches_between_teams]\n",
    "    all_matches_between_teams = all_matches_between_teams.sort_values(by='date')\n",
    "\n",
    "    lm_winner = all_matches_between_teams.mode()['lm_winner'][0]\n",
    "    if pd.isna(lm_winner):\n",
    "        lm_winner = get_winner(row)\n",
    "    df_detailed_matches.loc[df_detailed_matches['match_api_id'] == row['match_api_id'], 'lm_winner'] = lm_winner\n",
    "\n",
    "df_detailed_matches.lm_winner = df_detailed_matches.lm_winner.astype('category')"
   ],
   "metadata": {
    "collapsed": false,
    "pycharm": {
     "name": "#%%\n"
    }
   }
  },
  {
   "cell_type": "code",
   "execution_count": 27,
   "outputs": [],
   "source": [
    "try:\n",
    "    for team in teams:\n",
    "        mask_find_team_matches = (df_detailed_matches['home_team'] == team) | (df_detailed_matches['away_team'] == team)\n",
    "        team_matches = df_detailed_matches.loc[mask_find_team_matches]\n",
    "        team_matches = team_matches.sort_values(by='date')\n",
    "\n",
    "        for index, row in team_matches.iterrows():\n",
    "            mask = (((df_detailed_matches['home_team'] == team) | (df_detailed_matches['away_team'] == team)) & (team_matches['date'] < row['date']))\n",
    "\n",
    "            point_list = team_matches.loc[mask].iloc[-5:].apply(lambda row: get_points(row, team), axis=1)\n",
    "            avg_points_l5m = np.nan\n",
    "\n",
    "            if len(point_list) > 4:\n",
    "                avg_points_l5m = point_list.mean()\n",
    "\n",
    "            if row['home_team'] == team:\n",
    "                df_detailed_matches.loc[df_detailed_matches.match_api_id == row.match_api_id, 'avg_points_l5m_h'] = avg_points_l5m\n",
    "            else:\n",
    "                df_detailed_matches.loc[df_detailed_matches.match_api_id == row.match_api_id, 'avg_points_l5m_a'] = avg_points_l5m\n",
    "except Exception as e:\n",
    "    e.with_traceback()\n",
    "    print(e)"
   ],
   "metadata": {
    "collapsed": false,
    "pycharm": {
     "name": "#%%\n"
    }
   }
  },
  {
   "cell_type": "code",
   "execution_count": 29,
   "outputs": [],
   "source": [
    "try:\n",
    "    for team in teams:\n",
    "        mask_find_team_matches = (df_detailed_matches['home_team'] == team) | (df_detailed_matches['away_team'] == team)\n",
    "        team_matches = df_detailed_matches.loc[mask_find_team_matches]\n",
    "        team_matches = team_matches.sort_values(by='date')\n",
    "        seasons_unique = team_matches.season.unique()\n",
    "\n",
    "        for season in seasons_unique:\n",
    "            season_matches = team_matches.loc[team_matches.season == season]\n",
    "            for index, row in season_matches.iterrows():\n",
    "                mask = (((df_detailed_matches['home_team'] == team) | (df_detailed_matches['away_team'] == team)) & (\n",
    "                            team_matches['date'] < row['date']))\n",
    "\n",
    "                point_list = season_matches.loc[mask].apply(lambda row: get_points(row, team), axis=1)\n",
    "                points = 0\n",
    "\n",
    "                if len(point_list):\n",
    "                    points = point_list.sum()\n",
    "\n",
    "                if row['home_team'] == team:\n",
    "                    df_detailed_matches.loc[df_detailed_matches.match_api_id == row.match_api_id, 'points_home'] = points\n",
    "                else:\n",
    "                    df_detailed_matches.loc[df_detailed_matches.match_api_id == row.match_api_id, 'points_away'] = points\n",
    "except Exception as e:\n",
    "    e.with_traceback()\n",
    "    print(e)\n",
    "\n",
    "df_detailed_matches['avg_points_l5m_h'] = df_detailed_matches['avg_points_l5m_h'].fillna(\n",
    "    df_detailed_matches.groupby(['season', 'home_team'])['avg_points_l5m_h'].transform('mean'))\n",
    "\n",
    "df_detailed_matches['avg_points_l5m_a'] = df_detailed_matches['avg_points_l5m_a'].fillna(\n",
    "    df_detailed_matches.groupby(['season', 'away_team'])['avg_points_l5m_a'].transform('mean'))\n",
    "\n",
    "df_detailed_matches['avg_points_l5m_h'] = df_detailed_matches['avg_points_l5m_h'].fillna(0)\n",
    "df_detailed_matches['avg_points_l5m_a'] = df_detailed_matches['avg_points_l5m_a'].fillna(0)\n",
    "\n",
    "df_detailed_matches.points_home = df_detailed_matches.points_home.astype(int)\n",
    "df_detailed_matches.points_away = df_detailed_matches.points_away.astype(int)"
   ],
   "metadata": {
    "collapsed": false,
    "pycharm": {
     "name": "#%%\n"
    }
   }
  },
  {
   "cell_type": "code",
   "execution_count": 30,
   "outputs": [],
   "source": [
    "df = df_detailed_matches.drop(['home_team_goal', 'away_team_goal', 'possession', 'IWH', 'IWA', 'IWD'], axis=1)\n",
    "df = df.dropna(subset=['B365H', 'B365D', 'B365A', 'BWH', 'BWD', 'BWA', 'LBH', 'LBD', 'LBA', 'WHH', 'WHD', 'WHA'], thresh=4)"
   ],
   "metadata": {
    "collapsed": false,
    "pycharm": {
     "name": "#%%\n"
    }
   }
  },
  {
   "cell_type": "code",
   "execution_count": 31,
   "outputs": [],
   "source": [
    "bets_df = df[['match_api_id', 'B365H', 'B365D', 'B365A', 'BWH', 'BWD', 'BWA', 'LBH', 'LBD', 'LBA', 'WHH', 'WHD', 'WHA']]"
   ],
   "metadata": {
    "collapsed": false,
    "pycharm": {
     "name": "#%%\n"
    }
   }
  },
  {
   "cell_type": "code",
   "execution_count": 32,
   "outputs": [],
   "source": [
    "bets_df_nan = bets_df[bets_df.isna().any(axis=1)]\n",
    "for idx, row in bets_df_nan.iterrows():\n",
    "    df.loc[df.match_api_id == row.match_api_id, 'BWH'] = round(row[['B365H', 'LBH', 'WHH']].mean(), 2)\n",
    "    df.loc[df.match_api_id == row.match_api_id, 'BWD'] = round(row[['B365D', 'LBD', 'WHD']].mean(), 2)\n",
    "    df.loc[df.match_api_id == row.match_api_id, 'BWA'] = round(row[['B365A', 'LBA', 'WHA']].mean(), 2)"
   ],
   "metadata": {
    "collapsed": false,
    "pycharm": {
     "name": "#%%\n"
    }
   }
  },
  {
   "cell_type": "code",
   "execution_count": 33,
   "outputs": [
    {
     "data": {
      "text/plain": "               column_name  percent_missing\nmatch_api_id  match_api_id              0.0\ncountry_name  country_name              0.0\nleague_name    league_name              0.0\nseason              season              0.0\nstage                stage              0.0",
      "text/html": "<div>\n<style scoped>\n    .dataframe tbody tr th:only-of-type {\n        vertical-align: middle;\n    }\n\n    .dataframe tbody tr th {\n        vertical-align: top;\n    }\n\n    .dataframe thead th {\n        text-align: right;\n    }\n</style>\n<table border=\"1\" class=\"dataframe\">\n  <thead>\n    <tr style=\"text-align: right;\">\n      <th></th>\n      <th>column_name</th>\n      <th>percent_missing</th>\n    </tr>\n  </thead>\n  <tbody>\n    <tr>\n      <th>match_api_id</th>\n      <td>match_api_id</td>\n      <td>0.0</td>\n    </tr>\n    <tr>\n      <th>country_name</th>\n      <td>country_name</td>\n      <td>0.0</td>\n    </tr>\n    <tr>\n      <th>league_name</th>\n      <td>league_name</td>\n      <td>0.0</td>\n    </tr>\n    <tr>\n      <th>season</th>\n      <td>season</td>\n      <td>0.0</td>\n    </tr>\n    <tr>\n      <th>stage</th>\n      <td>stage</td>\n      <td>0.0</td>\n    </tr>\n  </tbody>\n</table>\n</div>"
     },
     "execution_count": 33,
     "metadata": {},
     "output_type": "execute_result"
    }
   ],
   "source": [
    "missin_values(df).head(5)"
   ],
   "metadata": {
    "collapsed": false,
    "pycharm": {
     "name": "#%%\n"
    }
   }
  },
  {
   "cell_type": "code",
   "execution_count": 34,
   "outputs": [
    {
     "data": {
      "text/plain": "(4994, 40)"
     },
     "execution_count": 34,
     "metadata": {},
     "output_type": "execute_result"
    }
   ],
   "source": [
    "df.shape"
   ],
   "metadata": {
    "collapsed": false,
    "pycharm": {
     "name": "#%%\n"
    }
   }
  },
  {
   "cell_type": "code",
   "execution_count": 35,
   "outputs": [],
   "source": [
    "# profile = ProfileReport(df, title='Detailed matches', dark_mode=True, minimal=True)\n",
    "# profile.config.interactions.targets = []\n",
    "# profile.to_file(output_file=\"report/second_profile.html\")"
   ],
   "metadata": {
    "collapsed": false,
    "pycharm": {
     "name": "#%%\n"
    }
   }
  },
  {
   "cell_type": "code",
   "execution_count": 36,
   "outputs": [],
   "source": [
    "df['date'] = pd.to_datetime(df['date'], format='%Y-%m-%d', errors='coerce')\n",
    "\n",
    "df['date_year'] = df['date'].dt.year\n",
    "df['date_month'] = df['date'].dt.month\n",
    "df['date_day'] = df['date'].dt.day\n",
    "df = df.drop(['date'], axis=1)"
   ],
   "metadata": {
    "collapsed": false,
    "pycharm": {
     "name": "#%%\n"
    }
   }
  },
  {
   "cell_type": "code",
   "execution_count": 37,
   "outputs": [
    {
     "data": {
      "text/plain": "         stage    B365H    B365D    B365A      BWH      BWD      BWA      LBH  \\\ncount  4987.00  4987.00  4987.00  4987.00  4987.00  4987.00  4987.00  4987.00   \nmean     18.33     2.54     3.71     4.66     2.47     3.65     4.35     2.43   \nstd      10.91     1.63     0.92     3.50     1.49     0.91     2.92     1.44   \nmin       1.00     1.04     1.40     1.10     1.03     1.40     1.10     1.04   \n25%       9.00     1.67     3.25     2.63     1.65     3.20     2.55     1.67   \n50%      18.00     2.10     3.40     3.60     2.05     3.35     3.45     2.10   \n75%      28.00     2.70     3.75     5.50     2.65     3.70     5.10     2.60   \nmax      38.00    23.00    13.00    34.00    21.00    15.00    31.00    17.00   \n\n           LBD      LBA  ...  last_match_possession_home  days_since_lma  \\\ncount  4987.00  4987.00  ...                     4987.00         4987.00   \nmean      3.58     4.30  ...                       48.16           10.09   \nstd       0.83     2.94  ...                        7.71           23.00   \nmin       1.40     1.10  ...                        4.00            2.00   \n25%       3.20     2.50  ...                       44.00            6.00   \n50%       3.30     3.40  ...                       48.00            7.00   \n75%       3.60     5.00  ...                       53.00            8.00   \nmax      12.00    26.00  ...                       96.00          818.00   \n\n       days_since_lmh  avg_points_l5m_h  avg_points_l5m_a  points_home  \\\ncount         4987.00           4987.00           4987.00      4987.00   \nmean             9.70              1.31              1.38        22.11   \nstd             15.61              0.41              0.46        15.60   \nmin              2.00              0.00              0.00         0.00   \n25%              6.00              1.00              1.00         9.00   \n50%              7.00              1.22              1.40        20.00   \n75%              8.00              1.80              1.80        34.00   \nmax            455.00              2.60              2.60        71.00   \n\n       points_away  date_year  date_month  date_day  \ncount      4987.00    4987.00     4987.00   4987.00  \nmean         22.45    2009.72        6.54     16.41  \nstd          15.69       1.02        3.78      8.75  \nmin           0.00    2008.00        1.00      1.00  \n25%           9.00    2009.00        3.00      9.00  \n50%          21.00    2010.00        5.00     17.00  \n75%          34.00    2011.00       10.00     24.00  \nmax          72.00    2011.00       12.00     31.00  \n\n[8 rows x 34 columns]",
      "text/html": "<div>\n<style scoped>\n    .dataframe tbody tr th:only-of-type {\n        vertical-align: middle;\n    }\n\n    .dataframe tbody tr th {\n        vertical-align: top;\n    }\n\n    .dataframe thead th {\n        text-align: right;\n    }\n</style>\n<table border=\"1\" class=\"dataframe\">\n  <thead>\n    <tr style=\"text-align: right;\">\n      <th></th>\n      <th>stage</th>\n      <th>B365H</th>\n      <th>B365D</th>\n      <th>B365A</th>\n      <th>BWH</th>\n      <th>BWD</th>\n      <th>BWA</th>\n      <th>LBH</th>\n      <th>LBD</th>\n      <th>LBA</th>\n      <th>...</th>\n      <th>last_match_possession_home</th>\n      <th>days_since_lma</th>\n      <th>days_since_lmh</th>\n      <th>avg_points_l5m_h</th>\n      <th>avg_points_l5m_a</th>\n      <th>points_home</th>\n      <th>points_away</th>\n      <th>date_year</th>\n      <th>date_month</th>\n      <th>date_day</th>\n    </tr>\n  </thead>\n  <tbody>\n    <tr>\n      <th>count</th>\n      <td>4987.00</td>\n      <td>4987.00</td>\n      <td>4987.00</td>\n      <td>4987.00</td>\n      <td>4987.00</td>\n      <td>4987.00</td>\n      <td>4987.00</td>\n      <td>4987.00</td>\n      <td>4987.00</td>\n      <td>4987.00</td>\n      <td>...</td>\n      <td>4987.00</td>\n      <td>4987.00</td>\n      <td>4987.00</td>\n      <td>4987.00</td>\n      <td>4987.00</td>\n      <td>4987.00</td>\n      <td>4987.00</td>\n      <td>4987.00</td>\n      <td>4987.00</td>\n      <td>4987.00</td>\n    </tr>\n    <tr>\n      <th>mean</th>\n      <td>18.33</td>\n      <td>2.54</td>\n      <td>3.71</td>\n      <td>4.66</td>\n      <td>2.47</td>\n      <td>3.65</td>\n      <td>4.35</td>\n      <td>2.43</td>\n      <td>3.58</td>\n      <td>4.30</td>\n      <td>...</td>\n      <td>48.16</td>\n      <td>10.09</td>\n      <td>9.70</td>\n      <td>1.31</td>\n      <td>1.38</td>\n      <td>22.11</td>\n      <td>22.45</td>\n      <td>2009.72</td>\n      <td>6.54</td>\n      <td>16.41</td>\n    </tr>\n    <tr>\n      <th>std</th>\n      <td>10.91</td>\n      <td>1.63</td>\n      <td>0.92</td>\n      <td>3.50</td>\n      <td>1.49</td>\n      <td>0.91</td>\n      <td>2.92</td>\n      <td>1.44</td>\n      <td>0.83</td>\n      <td>2.94</td>\n      <td>...</td>\n      <td>7.71</td>\n      <td>23.00</td>\n      <td>15.61</td>\n      <td>0.41</td>\n      <td>0.46</td>\n      <td>15.60</td>\n      <td>15.69</td>\n      <td>1.02</td>\n      <td>3.78</td>\n      <td>8.75</td>\n    </tr>\n    <tr>\n      <th>min</th>\n      <td>1.00</td>\n      <td>1.04</td>\n      <td>1.40</td>\n      <td>1.10</td>\n      <td>1.03</td>\n      <td>1.40</td>\n      <td>1.10</td>\n      <td>1.04</td>\n      <td>1.40</td>\n      <td>1.10</td>\n      <td>...</td>\n      <td>4.00</td>\n      <td>2.00</td>\n      <td>2.00</td>\n      <td>0.00</td>\n      <td>0.00</td>\n      <td>0.00</td>\n      <td>0.00</td>\n      <td>2008.00</td>\n      <td>1.00</td>\n      <td>1.00</td>\n    </tr>\n    <tr>\n      <th>25%</th>\n      <td>9.00</td>\n      <td>1.67</td>\n      <td>3.25</td>\n      <td>2.63</td>\n      <td>1.65</td>\n      <td>3.20</td>\n      <td>2.55</td>\n      <td>1.67</td>\n      <td>3.20</td>\n      <td>2.50</td>\n      <td>...</td>\n      <td>44.00</td>\n      <td>6.00</td>\n      <td>6.00</td>\n      <td>1.00</td>\n      <td>1.00</td>\n      <td>9.00</td>\n      <td>9.00</td>\n      <td>2009.00</td>\n      <td>3.00</td>\n      <td>9.00</td>\n    </tr>\n    <tr>\n      <th>50%</th>\n      <td>18.00</td>\n      <td>2.10</td>\n      <td>3.40</td>\n      <td>3.60</td>\n      <td>2.05</td>\n      <td>3.35</td>\n      <td>3.45</td>\n      <td>2.10</td>\n      <td>3.30</td>\n      <td>3.40</td>\n      <td>...</td>\n      <td>48.00</td>\n      <td>7.00</td>\n      <td>7.00</td>\n      <td>1.22</td>\n      <td>1.40</td>\n      <td>20.00</td>\n      <td>21.00</td>\n      <td>2010.00</td>\n      <td>5.00</td>\n      <td>17.00</td>\n    </tr>\n    <tr>\n      <th>75%</th>\n      <td>28.00</td>\n      <td>2.70</td>\n      <td>3.75</td>\n      <td>5.50</td>\n      <td>2.65</td>\n      <td>3.70</td>\n      <td>5.10</td>\n      <td>2.60</td>\n      <td>3.60</td>\n      <td>5.00</td>\n      <td>...</td>\n      <td>53.00</td>\n      <td>8.00</td>\n      <td>8.00</td>\n      <td>1.80</td>\n      <td>1.80</td>\n      <td>34.00</td>\n      <td>34.00</td>\n      <td>2011.00</td>\n      <td>10.00</td>\n      <td>24.00</td>\n    </tr>\n    <tr>\n      <th>max</th>\n      <td>38.00</td>\n      <td>23.00</td>\n      <td>13.00</td>\n      <td>34.00</td>\n      <td>21.00</td>\n      <td>15.00</td>\n      <td>31.00</td>\n      <td>17.00</td>\n      <td>12.00</td>\n      <td>26.00</td>\n      <td>...</td>\n      <td>96.00</td>\n      <td>818.00</td>\n      <td>455.00</td>\n      <td>2.60</td>\n      <td>2.60</td>\n      <td>71.00</td>\n      <td>72.00</td>\n      <td>2011.00</td>\n      <td>12.00</td>\n      <td>31.00</td>\n    </tr>\n  </tbody>\n</table>\n<p>8 rows × 34 columns</p>\n</div>"
     },
     "execution_count": 37,
     "metadata": {},
     "output_type": "execute_result"
    }
   ],
   "source": [
    "df_drop = df.drop(['match_api_id'], axis=1)\n",
    "df_drop = df_drop.dropna()\n",
    "df_describe_num = df_drop.select_dtypes(include='number').describe()\n",
    "df_describe_num = df_describe_num.round(2)\n",
    "df_describe_num"
   ],
   "metadata": {
    "collapsed": false,
    "pycharm": {
     "name": "#%%\n"
    }
   }
  },
  {
   "cell_type": "code",
   "execution_count": null,
   "outputs": [],
   "source": [],
   "metadata": {
    "collapsed": false,
    "pycharm": {
     "name": "#%%\n"
    }
   }
  },
  {
   "cell_type": "code",
   "execution_count": 38,
   "outputs": [
    {
     "data": {
      "text/plain": "       country_name             league_name     season  home_team  \\\ncount          4987                    4987       4987       4987   \nunique            5                       5          4        128   \ntop         England  England Premier League  2010/2011  Liverpool   \nfreq           1249                    1249       1671         63   \n\n           away_team result_match     lm_winner  \ncount           4987         4987          4987  \nunique           128            3           126  \ntop     RCD Espanyol            H  FC Barcelona  \nfreq              63         2386           109  ",
      "text/html": "<div>\n<style scoped>\n    .dataframe tbody tr th:only-of-type {\n        vertical-align: middle;\n    }\n\n    .dataframe tbody tr th {\n        vertical-align: top;\n    }\n\n    .dataframe thead th {\n        text-align: right;\n    }\n</style>\n<table border=\"1\" class=\"dataframe\">\n  <thead>\n    <tr style=\"text-align: right;\">\n      <th></th>\n      <th>country_name</th>\n      <th>league_name</th>\n      <th>season</th>\n      <th>home_team</th>\n      <th>away_team</th>\n      <th>result_match</th>\n      <th>lm_winner</th>\n    </tr>\n  </thead>\n  <tbody>\n    <tr>\n      <th>count</th>\n      <td>4987</td>\n      <td>4987</td>\n      <td>4987</td>\n      <td>4987</td>\n      <td>4987</td>\n      <td>4987</td>\n      <td>4987</td>\n    </tr>\n    <tr>\n      <th>unique</th>\n      <td>5</td>\n      <td>5</td>\n      <td>4</td>\n      <td>128</td>\n      <td>128</td>\n      <td>3</td>\n      <td>126</td>\n    </tr>\n    <tr>\n      <th>top</th>\n      <td>England</td>\n      <td>England Premier League</td>\n      <td>2010/2011</td>\n      <td>Liverpool</td>\n      <td>RCD Espanyol</td>\n      <td>H</td>\n      <td>FC Barcelona</td>\n    </tr>\n    <tr>\n      <th>freq</th>\n      <td>1249</td>\n      <td>1249</td>\n      <td>1671</td>\n      <td>63</td>\n      <td>63</td>\n      <td>2386</td>\n      <td>109</td>\n    </tr>\n  </tbody>\n</table>\n</div>"
     },
     "execution_count": 38,
     "metadata": {},
     "output_type": "execute_result"
    }
   ],
   "source": [
    "df_describe_cat = df_drop.select_dtypes(exclude='number').describe()\n",
    "df_describe_cat = df_describe_cat.round(2)\n",
    "df_describe_cat"
   ],
   "metadata": {
    "collapsed": false,
    "pycharm": {
     "name": "#%%\n"
    }
   }
  },
  {
   "cell_type": "code",
   "execution_count": 39,
   "outputs": [],
   "source": [
    "\n",
    "# df_drop[['result_match', 'B365H', 'B365A']].groupby('result_match')\n",
    "# .aggregate({'B365H': ['mean'], 'B365A': ['mean']})\n",
    "# .reset_index()\n",
    "# .sort_values(('loss', 'mean'), ascending=False)"
   ],
   "metadata": {
    "collapsed": false,
    "pycharm": {
     "name": "#%%\n"
    }
   }
  },
  {
   "cell_type": "code",
   "execution_count": 40,
   "outputs": [
    {
     "name": "stdout",
     "output_type": "stream",
     "text": [
      "value counts: H    2386\n",
      "A    1336\n",
      "D    1265\n",
      "Name: result_match, dtype: int64\n"
     ]
    },
    {
     "data": {
      "text/plain": "<Figure size 640x480 with 1 Axes>",
      "image/png": "[encoded data removed]"
     },
     "metadata": {},
     "output_type": "display_data"
    }
   ],
   "source": [
    "print(f'value counts: {df_drop.result_match.value_counts()}')\n",
    "\n",
    "df_drop.result_match.hist(bins=5)\n",
    "plt.show()"
   ],
   "metadata": {
    "collapsed": false,
    "pycharm": {
     "name": "#%%\n"
    }
   }
  },
  {
   "cell_type": "code",
   "execution_count": 41,
   "outputs": [],
   "source": [
    "def preprocess_category_string(category_row):\n",
    "    if category_row == 'H':\n",
    "        return 'yes'\n",
    "    else:\n",
    "        return 'no'"
   ],
   "metadata": {
    "collapsed": false,
    "pycharm": {
     "name": "#%%\n"
    }
   }
  },
  {
   "cell_type": "code",
   "execution_count": 42,
   "outputs": [
    {
     "data": {
      "text/plain": "no     2601\nyes    2386\nName: home_winner, dtype: int64"
     },
     "execution_count": 42,
     "metadata": {},
     "output_type": "execute_result"
    }
   ],
   "source": [
    "# change target to binary\n",
    "df_drop['home_winner'] = df_drop.result_match.apply(lambda x: preprocess_category_string(x))\n",
    "df_drop['home_winner'].value_counts()"
   ],
   "metadata": {
    "collapsed": false,
    "pycharm": {
     "name": "#%%\n"
    }
   }
  },
  {
   "cell_type": "code",
   "execution_count": 43,
   "outputs": [],
   "source": [
    "def preprocess_if_bet_placed_well(X, colH, colD, colA):\n",
    "    # print(f'B365H: {X.colH}, colD: {X.B365D}, colA: {X.B365A}, result: {X.result_match} ')\n",
    "    if (X.get(colH) < X.get(colA)) & (X.get('result_match') == 'H'):\n",
    "        return True\n",
    "    elif (X.get(colH) > X.get(colA)) & (X.get('result_match') == 'A'):\n",
    "        return True\n",
    "    elif ((X.get(colD) < X.get(colA)) & (X.get(colD) < X.get(colH))) & (X.get('result_match') == 'D'):\n",
    "        return True\n",
    "    else:\n",
    "        return False\n",
    "\n",
    "\n",
    "def get_result_name(short_name):\n",
    "    if short_name == 'H':\n",
    "        return 'home tem win.'\n",
    "    elif short_name == 'D':\n",
    "        return 'draw.'\n",
    "    else:\n",
    "        return 'away team win.'\n",
    "\n",
    "\n",
    "def get_bookmaker_type(short_name):\n",
    "    return [short_name[:-1], short_name[-1]]"
   ],
   "metadata": {
    "collapsed": false,
    "pycharm": {
     "name": "#%%\n"
    }
   }
  },
  {
   "cell_type": "code",
   "execution_count": 44,
   "outputs": [],
   "source": [
    "def aggregate_bookmarks_bets(X, colH, colD, colA):\n",
    "    df_ = pd.DataFrame(columns=['bookmaker', 'type', 'good_bet', 'wrong_bet'])\n",
    "\n",
    "    df_drop['bet_vs_result'] = X[[colH, colD, colA, 'result_match']].apply(\n",
    "        lambda x: preprocess_if_bet_placed_well(x, colH, colD, colA), axis=1)\n",
    "\n",
    "    # print(df_drop['bet_vs_result'].value_counts())\n",
    "\n",
    "    df_group = df_drop.groupby(by=['result_match', 'bet_vs_result'], )['bet_vs_result'].count()\n",
    "    uniques = df_group.index.get_level_values(0).unique()\n",
    "\n",
    "    for i in list(uniques):\n",
    "        df_single = df_group.get(i)\n",
    "        dict_ = {\n",
    "            'bookmaker': get_bookmaker_type(colH)[0],\n",
    "            'type': get_bookmaker_type(i)[1],\n",
    "            'good_bet': df_single[0],\n",
    "            'wrong_bet': df_single[1]\n",
    "        }\n",
    "        # print(dict_)\n",
    "        frame = pd.DataFrame(dict_, index=[0])\n",
    "        df_ = pd.concat([df_, frame])\n",
    "        return df_"
   ],
   "metadata": {
    "collapsed": false,
    "pycharm": {
     "name": "#%%\n"
    }
   }
  },
  {
   "cell_type": "code",
   "execution_count": 49,
   "outputs": [],
   "source": [
    "df_scoring_bet = pd.DataFrame(columns=['bookmaker', 'type', 'good_bet', 'wrong_bet'])"
   ],
   "metadata": {
    "collapsed": false,
    "pycharm": {
     "name": "#%%\n"
    }
   }
  },
  {
   "cell_type": "code",
   "execution_count": 46,
   "outputs": [],
   "source": [
    "b365_df = aggregate_bookmarks_bets(df_drop, 'B365H', 'B365D', 'B365A')\n",
    "bw_df = aggregate_bookmarks_bets(df_drop.iloc[0:3], 'BWH', 'BWD', 'BWA')\n",
    "lb_df = aggregate_bookmarks_bets(df_drop, 'LBH', 'LBD', 'LBA')\n",
    "wh_df = aggregate_bookmarks_bets(df_drop, 'WHH', 'WHD', 'WHA')"
   ],
   "metadata": {
    "collapsed": false,
    "pycharm": {
     "name": "#%%\n"
    }
   }
  },
  {
   "cell_type": "code",
   "execution_count": 47,
   "outputs": [
    {
     "data": {
      "text/plain": "  bookmaker type good_bet wrong_bet\n0        BW    A      731       605\n0        LB    A      741       595\n0      B365    A      726       610\n0        WH    A      739       597",
      "text/html": "<div>\n<style scoped>\n    .dataframe tbody tr th:only-of-type {\n        vertical-align: middle;\n    }\n\n    .dataframe tbody tr th {\n        vertical-align: top;\n    }\n\n    .dataframe thead th {\n        text-align: right;\n    }\n</style>\n<table border=\"1\" class=\"dataframe\">\n  <thead>\n    <tr style=\"text-align: right;\">\n      <th></th>\n      <th>bookmaker</th>\n      <th>type</th>\n      <th>good_bet</th>\n      <th>wrong_bet</th>\n    </tr>\n  </thead>\n  <tbody>\n    <tr>\n      <th>0</th>\n      <td>BW</td>\n      <td>A</td>\n      <td>731</td>\n      <td>605</td>\n    </tr>\n    <tr>\n      <th>0</th>\n      <td>LB</td>\n      <td>A</td>\n      <td>741</td>\n      <td>595</td>\n    </tr>\n    <tr>\n      <th>0</th>\n      <td>B365</td>\n      <td>A</td>\n      <td>726</td>\n      <td>610</td>\n    </tr>\n    <tr>\n      <th>0</th>\n      <td>WH</td>\n      <td>A</td>\n      <td>739</td>\n      <td>597</td>\n    </tr>\n  </tbody>\n</table>\n</div>"
     },
     "execution_count": 47,
     "metadata": {},
     "output_type": "execute_result"
    }
   ],
   "source": [
    "bets_bookmark_res = pd.concat([bw_df, lb_df, b365_df, wh_df])\n",
    "bets_bookmark_res"
   ],
   "metadata": {
    "collapsed": false,
    "pycharm": {
     "name": "#%%\n"
    }
   }
  },
  {
   "cell_type": "code",
   "execution_count": null,
   "outputs": [],
   "source": [
    "# true means good bet, false wrong bet\n",
    "df_drop['bet_vs_result'] = df_drop[['B365H', 'B365D', 'B365A', 'result_match']].apply(\n",
    "    lambda x: preprocess_if_bet_placed_well(x, 'B365H', 'B365D', 'B365A'), axis=1)\n",
    "df_drop['bet_vs_result'].value_counts()"
   ],
   "metadata": {
    "collapsed": false,
    "pycharm": {
     "name": "#%%\n"
    }
   }
  },
  {
   "cell_type": "code",
   "execution_count": null,
   "outputs": [],
   "source": [
    "ax = sns.catplot(y='bet_vs_result', data=df_drop, kind=\"count\")\n",
    "ax.fig.set_size_inches(3, 3)\n",
    "ax.set(ylabel='Correctness of bets')\n",
    "plt.show()"
   ],
   "metadata": {
    "collapsed": false,
    "pycharm": {
     "name": "#%%\n"
    }
   }
  },
  {
   "cell_type": "code",
   "execution_count": null,
   "outputs": [],
   "source": [
    "df_group = df_drop.groupby(by=['result_match', 'bet_vs_result'], )['bet_vs_result'].count()"
   ],
   "metadata": {
    "collapsed": false,
    "pycharm": {
     "name": "#%%\n"
    }
   }
  },
  {
   "cell_type": "code",
   "execution_count": null,
   "outputs": [],
   "source": [
    "uniques = df_group.index.get_level_values(0).unique()\n",
    "\n",
    "for i in list(uniques):\n",
    "    fig, ax = plt.subplots()\n",
    "    fig.set_size_inches(3, 3)\n",
    "    df_single = df_group.get(i)\n",
    "    df_single.plot.bar(stacked=True)\n",
    "    ax.set(xlabel='Correctness of bets ', ylabel='Total bets')\n",
    "    ax.set_title(f'Result: {get_result_name(i)}')\n",
    "    plt.xticks(rotation=45)\n",
    "    plt.show()\n",
    "\n",
    "    dict_ = {\n",
    "        'bookmaker': get_bookmaker_type('B365H')[0],\n",
    "        'type': get_bookmaker_type(i)[1],\n",
    "        'good_bet': df_single[0],\n",
    "        'wrong_bet': df_single[1]\n",
    "    }\n",
    "    print(dict_)\n",
    "    frame = pd.DataFrame(dict_, index=[0])\n",
    "    df_scoring_bet = pd.concat([df_scoring_bet, frame])\n",
    "    # df_scoring_bet.append(dict_, ignore_index=True)"
   ],
   "metadata": {
    "collapsed": false,
    "pycharm": {
     "name": "#%%\n"
    }
   }
  },
  {
   "cell_type": "code",
   "execution_count": null,
   "outputs": [],
   "source": [
    "df_scoring_bet.head()"
   ],
   "metadata": {
    "collapsed": false,
    "pycharm": {
     "name": "#%%\n"
    }
   }
  },
  {
   "cell_type": "code",
   "execution_count": 50,
   "outputs": [
    {
     "data": {
      "text/plain": "True     2668\nFalse    2319\nName: bet_vs_result, dtype: int64"
     },
     "execution_count": 50,
     "metadata": {},
     "output_type": "execute_result"
    }
   ],
   "source": [
    "# true means good bet, false wrong bet\n",
    "df_drop['bet_vs_result'] = df_drop[['BWH', 'BWD', 'BWA', 'result_match']].apply(\n",
    "    lambda x: preprocess_if_bet_placed_well(x, 'BWH', 'BWD', 'BWA'), axis=1)\n",
    "df_drop['bet_vs_result'].value_counts()"
   ],
   "metadata": {
    "collapsed": false,
    "pycharm": {
     "name": "#%%\n"
    }
   }
  },
  {
   "cell_type": "code",
   "execution_count": 217,
   "outputs": [
    {
     "data": {
      "text/plain": "<Figure size 300x300 with 1 Axes>",
      "image/png": "[encoded data removed]"
     },
     "metadata": {},
     "output_type": "display_data"
    }
   ],
   "source": [
    "ax = sns.catplot(y='bet_vs_result', data=df_drop, kind=\"count\")\n",
    "ax.fig.set_size_inches(3, 3)\n",
    "ax.set(ylabel='Correctness of bets')\n",
    "plt.show()"
   ],
   "metadata": {
    "collapsed": false,
    "pycharm": {
     "name": "#%%\n"
    }
   }
  },
  {
   "cell_type": "code",
   "execution_count": 218,
   "outputs": [],
   "source": [
    "df_group = df_drop.groupby(by=['result_match', 'bet_vs_result'], )['bet_vs_result'].count()"
   ],
   "metadata": {
    "collapsed": false,
    "pycharm": {
     "name": "#%%\n"
    }
   }
  },
  {
   "cell_type": "code",
   "execution_count": 214,
   "outputs": [
    {
     "data": {
      "text/plain": "<Figure size 300x300 with 1 Axes>",
      "image/png": "[encoded data removed]"
     },
     "metadata": {},
     "output_type": "display_data"
    },
    {
     "name": "stdout",
     "output_type": "stream",
     "text": [
      "{'bookmaker': 'BW', 'type': 'A', 'good_bet': 731, 'wrong_bet': 605}\n"
     ]
    },
    {
     "data": {
      "text/plain": "<Figure size 300x300 with 1 Axes>",
      "image/png": "[encoded data removed]"
     },
     "metadata": {},
     "output_type": "display_data"
    },
    {
     "name": "stdout",
     "output_type": "stream",
     "text": [
      "{'bookmaker': 'BW', 'type': 'D', 'good_bet': 1258, 'wrong_bet': 7}\n"
     ]
    },
    {
     "data": {
      "text/plain": "<Figure size 300x300 with 1 Axes>",
      "image/png": "[encoded data removed]"
     },
     "metadata": {},
     "output_type": "display_data"
    },
    {
     "name": "stdout",
     "output_type": "stream",
     "text": [
      "{'bookmaker': 'BW', 'type': 'H', 'good_bet': 330, 'wrong_bet': 2056}\n"
     ]
    }
   ],
   "source": [
    "uniques = df_group.index.get_level_values(0).unique()\n",
    "\n",
    "for i in list(uniques):\n",
    "    fig, ax = plt.subplots()\n",
    "    fig.set_size_inches(3, 3)\n",
    "    df_single = df_group.get(i)\n",
    "    df_single.plot.bar(stacked=True)\n",
    "    ax.set(xlabel='Correctness of bets ', ylabel='Total bets')\n",
    "    ax.set_title(f'Result: {get_result_name(i)}')\n",
    "    plt.xticks(rotation=45)\n",
    "    plt.show()\n",
    "\n",
    "    dict_ = {\n",
    "        'bookmaker': get_bookmaker_type('BWH')[0],\n",
    "        'type': get_bookmaker_type(i)[1],\n",
    "        'good_bet': df_single[0],\n",
    "        'wrong_bet': df_single[1]\n",
    "    }\n",
    "    print(dict_)\n",
    "    frame = pd.DataFrame(dict_, index=[0])\n",
    "    df_scoring_bet = pd.concat([df_scoring_bet, frame])"
   ],
   "metadata": {
    "collapsed": false,
    "pycharm": {
     "name": "#%%\n"
    }
   }
  },
  {
   "cell_type": "code",
   "execution_count": 215,
   "outputs": [
    {
     "data": {
      "text/plain": "  bookmaker type good_bet wrong_bet\n0      B365    A      726       610\n0      B365    D     1258         7\n0      B365    H      315      2071\n0        BW    A      731       605\n0        BW    D     1258         7",
      "text/html": "<div>\n<style scoped>\n    .dataframe tbody tr th:only-of-type {\n        vertical-align: middle;\n    }\n\n    .dataframe tbody tr th {\n        vertical-align: top;\n    }\n\n    .dataframe thead th {\n        text-align: right;\n    }\n</style>\n<table border=\"1\" class=\"dataframe\">\n  <thead>\n    <tr style=\"text-align: right;\">\n      <th></th>\n      <th>bookmaker</th>\n      <th>type</th>\n      <th>good_bet</th>\n      <th>wrong_bet</th>\n    </tr>\n  </thead>\n  <tbody>\n    <tr>\n      <th>0</th>\n      <td>B365</td>\n      <td>A</td>\n      <td>726</td>\n      <td>610</td>\n    </tr>\n    <tr>\n      <th>0</th>\n      <td>B365</td>\n      <td>D</td>\n      <td>1258</td>\n      <td>7</td>\n    </tr>\n    <tr>\n      <th>0</th>\n      <td>B365</td>\n      <td>H</td>\n      <td>315</td>\n      <td>2071</td>\n    </tr>\n    <tr>\n      <th>0</th>\n      <td>BW</td>\n      <td>A</td>\n      <td>731</td>\n      <td>605</td>\n    </tr>\n    <tr>\n      <th>0</th>\n      <td>BW</td>\n      <td>D</td>\n      <td>1258</td>\n      <td>7</td>\n    </tr>\n  </tbody>\n</table>\n</div>"
     },
     "execution_count": 215,
     "metadata": {},
     "output_type": "execute_result"
    }
   ],
   "source": [
    "df_scoring_bet.head()"
   ],
   "metadata": {
    "collapsed": false,
    "pycharm": {
     "name": "#%%\n"
    }
   }
  },
  {
   "cell_type": "code",
   "execution_count": 75,
   "outputs": [
    {
     "data": {
      "text/plain": "<Figure size 500x600 with 1 Axes>",
      "image/png": "[encoded data removed]"
     },
     "metadata": {},
     "output_type": "display_data"
    }
   ],
   "source": [
    "df_drop.boxplot('B365H', 'result_match', rot=30, figsize=(5, 6))\n",
    "plt.show()"
   ],
   "metadata": {
    "collapsed": false,
    "pycharm": {
     "name": "#%%\n"
    }
   }
  },
  {
   "cell_type": "code",
   "execution_count": 77,
   "outputs": [
    {
     "data": {
      "text/plain": "<Figure size 500x600 with 1 Axes>",
      "image/png": "[encoded data removed]"
     },
     "metadata": {},
     "output_type": "display_data"
    }
   ],
   "source": [
    "df_drop.boxplot('B365A', 'result_match', rot=30, figsize=(5, 6))\n",
    "plt.show()"
   ],
   "metadata": {
    "collapsed": false,
    "pycharm": {
     "name": "#%%\n"
    }
   }
  },
  {
   "cell_type": "code",
   "execution_count": 78,
   "outputs": [
    {
     "data": {
      "text/plain": "<Figure size 500x600 with 1 Axes>",
      "image/png": "[encoded data removed]"
     },
     "metadata": {},
     "output_type": "display_data"
    }
   ],
   "source": [
    "df_drop.boxplot('B365D', 'result_match', rot=30, figsize=(5, 6))\n",
    "plt.show()"
   ],
   "metadata": {
    "collapsed": false,
    "pycharm": {
     "name": "#%%\n"
    }
   }
  },
  {
   "cell_type": "code",
   "execution_count": null,
   "outputs": [],
   "source": [
    "df_drop.boxplot('B365H', 'result_match', rot=30, figsize=(5, 6))\n",
    "plt.show()"
   ],
   "metadata": {
    "collapsed": false,
    "pycharm": {
     "name": "#%%\n"
    }
   }
  },
  {
   "cell_type": "code",
   "execution_count": 79,
   "outputs": [
    {
     "data": {
      "text/plain": "<Figure size 500x600 with 1 Axes>",
      "image/png": "[encoded data removed]"
     },
     "metadata": {},
     "output_type": "display_data"
    }
   ],
   "source": [
    "df_drop.boxplot('last_match_possession_home', 'result_match', rot=30, figsize=(5, 6))\n",
    "plt.show()"
   ],
   "metadata": {
    "collapsed": false,
    "pycharm": {
     "name": "#%%\n"
    }
   }
  },
  {
   "cell_type": "code",
   "execution_count": 91,
   "outputs": [
    {
     "data": {
      "text/plain": "<Figure size 640x480 with 1 Axes>",
      "image/png": "[encoded data removed]"
     },
     "metadata": {},
     "output_type": "display_data"
    }
   ],
   "source": [
    "# df_drop[['result_match', 'B365H', 'B365A']].groupby('result_match')\\\n",
    "#     .aggregate({'B365H': ['mean'], 'B365A': ['mean']})\\\n",
    "#     .reset_index()\\\n",
    "df_drop['last_match_possession_home'].plot.kde()\n",
    "plt.show()"
   ],
   "metadata": {
    "collapsed": false,
    "pycharm": {
     "name": "#%%\n"
    }
   }
  },
  {
   "cell_type": "code",
   "execution_count": 97,
   "outputs": [
    {
     "data": {
      "text/plain": "count    4984.000000\nmean       48.162921\nstd         7.644228\nmin        22.000000\n25%        44.000000\n50%        48.000000\n75%        53.000000\nmax        78.000000\nName: last_match_possession_home, dtype: float64"
     },
     "execution_count": 97,
     "metadata": {},
     "output_type": "execute_result"
    }
   ],
   "source": [
    "df_drop['last_match_possession_home'].loc[(df_drop['last_match_possession_home'] < 80) & (df_drop['last_match_possession_home'] > 20)].describe()"
   ],
   "metadata": {
    "collapsed": false,
    "pycharm": {
     "name": "#%%\n"
    }
   }
  },
  {
   "cell_type": "code",
   "execution_count": 98,
   "outputs": [
    {
     "data": {
      "text/plain": "count    4987.000000\nmean       48.158011\nstd         7.707674\nmin         4.000000\n25%        44.000000\n50%        48.000000\n75%        53.000000\nmax        96.000000\nName: last_match_possession_home, dtype: float64"
     },
     "execution_count": 98,
     "metadata": {},
     "output_type": "execute_result"
    }
   ],
   "source": [
    "df_drop['last_match_possession_home'].describe()"
   ],
   "metadata": {
    "collapsed": false,
    "pycharm": {
     "name": "#%%\n"
    }
   }
  },
  {
   "cell_type": "code",
   "execution_count": null,
   "outputs": [],
   "source": [],
   "metadata": {
    "collapsed": false,
    "pycharm": {
     "name": "#%%\n"
    }
   }
  },
  {
   "cell_type": "code",
   "execution_count": 80,
   "outputs": [
    {
     "data": {
      "text/plain": "<Figure size 500x600 with 1 Axes>",
      "image/png": "[encoded data removed]"
     },
     "metadata": {},
     "output_type": "display_data"
    }
   ],
   "source": [
    "df_drop.boxplot('last_match_possession_away', 'result_match', rot=30, figsize=(5, 6))\n",
    "plt.show()"
   ],
   "metadata": {
    "collapsed": false,
    "pycharm": {
     "name": "#%%\n"
    }
   }
  },
  {
   "cell_type": "code",
   "execution_count": 76,
   "outputs": [
    {
     "data": {
      "text/plain": "H    0.478574\nA    0.267922\nD    0.253504\nName: result_match, dtype: float64"
     },
     "execution_count": 76,
     "metadata": {},
     "output_type": "execute_result"
    }
   ],
   "source": [
    "df.result_match.value_counts(normalize=True)"
   ],
   "metadata": {
    "collapsed": false,
    "pycharm": {
     "name": "#%%\n"
    }
   }
  },
  {
   "cell_type": "code",
   "execution_count": null,
   "outputs": [],
   "source": [
    "df_num = df_drop.select_dtypes(include='number')\n",
    "df_cat = df_drop.select_dtypes(exclude='number')"
   ],
   "metadata": {
    "collapsed": false,
    "pycharm": {
     "name": "#%%\n"
    }
   }
  },
  {
   "cell_type": "code",
   "execution_count": null,
   "outputs": [],
   "source": [
    "df_num.dropna()\n",
    "\n"
   ],
   "metadata": {
    "collapsed": false,
    "pycharm": {
     "name": "#%%\n"
    }
   }
  },
  {
   "cell_type": "code",
   "execution_count": null,
   "outputs": [],
   "source": [
    "le = preprocessing.LabelEncoder()\n",
    "X = df_drop\n",
    "y = le.fit_transform(X.result_match)"
   ],
   "metadata": {
    "collapsed": false,
    "pycharm": {
     "name": "#%%\n"
    }
   }
  },
  {
   "cell_type": "code",
   "execution_count": null,
   "outputs": [],
   "source": [
    "print(f'X shape: {X.shape}')\n",
    "print(f'y shape: {y.shape}')"
   ],
   "metadata": {
    "collapsed": false,
    "pycharm": {
     "name": "#%%\n"
    }
   }
  },
  {
   "cell_type": "code",
   "execution_count": null,
   "outputs": [],
   "source": [],
   "metadata": {
    "collapsed": false,
    "pycharm": {
     "name": "#%%\n"
    }
   }
  },
  {
   "cell_type": "code",
   "execution_count": null,
   "outputs": [],
   "source": [],
   "metadata": {
    "collapsed": false,
    "pycharm": {
     "name": "#%%\n"
    }
   }
  }
 ],
 "metadata": {
  "kernelspec": {
   "display_name": "Python 3",
   "language": "python",
   "name": "python3"
  },
  "language_info": {
   "codemirror_mode": {
    "name": "ipython",
    "version": 2
   },
   "file_extension": ".py",
   "mimetype": "text/x-python",
   "name": "python",
   "nbconvert_exporter": "python",
   "pygments_lexer": "ipython2",
   "version": "2.7.6"
  }
 },
 "nbformat": 4,
 "nbformat_minor": 0
}
{
 "cells": [
  {
   "cell_type": "code",
   "execution_count": 1,
   "outputs": [],
   "source": [
    "import traceback\n",
    "\n",
    "import numpy as np\n",
    "import pandas as pd\n",
    "from IPython.core.display_functions import display\n",
    "from pandas_profiling import ProfileReport\n",
    "\n",
    "import seaborn as sns\n",
    "import matplotlib.pyplot as plt\n",
    "\n",
    "import sqlite3 as db\n",
    "\n",
    "import xml.etree.cElementTree as et\n",
    "\n",
    "from sklearn import preprocessing\n",
    "from sklearn.neighbors import KNeighborsClassifier\n",
    "from sklearn.model_selection import train_test_split\n",
    "from sklearn.metrics import classification_report, ConfusionMatrixDisplay, confusion_matrix, roc_curve,auc, accuracy_score\n",
    "\n",
    "from scipy.stats import chi2_contingency\n",
    "\n",
    "import logging\n",
    "logger = logging.getLogger()\n",
    "logger.setLevel(logging.ERROR)\n",
    "logging.debug(\"test\")\n",
    "\n",
    "sns.set_context('paper')"
   ],
   "metadata": {
    "collapsed": false,
    "pycharm": {
     "name": "#%%\n"
    }
   }
  },
  {
   "cell_type": "code",
   "execution_count": 2,
   "outputs": [],
   "source": [
    "def process_xml_columns(df_new_cols, cols, match, xml_col):\n",
    "    path = match[xml_col]\n",
    "    if path is not None:\n",
    "        root = et.fromstring(path)\n",
    "        try:\n",
    "            temp_column_list = []\n",
    "            for column in cols:\n",
    "                row_elements = root.findall('.//{}'.format(column))\n",
    "                row_list = []\n",
    "                for row in row_elements:\n",
    "                    row_list.append(row.text)\n",
    "                temp_column_list.append(row_list)\n",
    "            df = pd.DataFrame(temp_column_list)\n",
    "            df = df.transpose()\n",
    "            df.columns = df_new_cols\n",
    "            df['match_api_id'] = match.match_api_id\n",
    "            return df\n",
    "        except Exception as e:\n",
    "            print(e)\n",
    "\n",
    "\n",
    "def create_new_df_from_xml(df, xml_column, df_cols, df_new_cols):\n",
    "    new_df = pd.DataFrame()\n",
    "    for index, row in df[df[xml_column].notna()].iterrows():\n",
    "        df = process_xml_columns(df_new_cols, df_cols, row, xml_column)\n",
    "        new_df = pd.concat([new_df, df], ignore_index=True)\n",
    "    return new_df\n",
    "\n",
    "\n",
    "def fill_nan_goals(df, col1, col2):\n",
    "    df_col1_nan = df.loc[df[col1].isna()]\n",
    "    df_col2_nan = df.loc[df[col2].isna()]\n",
    "    for index, row in df_col1_nan.iterrows():\n",
    "        avg_mean = df.loc[df.home_team == row.home_team][col1].mean()\n",
    "        if avg_mean == avg_mean:\n",
    "            df.loc[df.match_api_id == row.match_api_id, col1] = round(avg_mean)\n",
    "        else:\n",
    "            df.loc[df.match_api_id == row.match_api_id, col1] = 0\n",
    "    for index, row in df_col2_nan.iterrows():\n",
    "        avg_mean = df.loc[df.away_team == row.away_team][col2].mean()\n",
    "        if avg_mean == avg_mean:\n",
    "            df.loc[df.match_api_id == row.match_api_id, col2] = round(avg_mean)\n",
    "        else:\n",
    "            df.loc[df.match_api_id == row.match_api_id, col1] = 0\n",
    "    return df\n",
    "\n",
    "\n",
    "def missin_values(df):\n",
    "    percent_missing = df.isnull().sum() * 100 / len(df)\n",
    "    missing_value_df = pd.DataFrame({'column_name': df.columns,\n",
    "                                     'percent_missing': percent_missing})\n",
    "    return missing_value_df\n",
    "\n",
    "\n",
    "def get_winner(row):\n",
    "    if row['result_match'] == 'H':\n",
    "        m_winner = row['home_team']\n",
    "    elif row['home_team_goal'] == 'D':\n",
    "        m_winner = 'Draw'\n",
    "    else:\n",
    "        m_winner = row['away_team']\n",
    "    return m_winner\n",
    "\n",
    "\n",
    "def get_points(row, team):\n",
    "    if row['home_team'] == team:\n",
    "        if row['result_match'] == 'H':\n",
    "            return 3\n",
    "        elif row['result_match'] == 'A':\n",
    "            return 0\n",
    "        else:\n",
    "            return 1\n",
    "    else:\n",
    "        if row['home_team_goal'] == 'H':\n",
    "            return 0\n",
    "        elif row['home_team_goal'] == 'A':\n",
    "            return 3\n",
    "        else:\n",
    "            return 1"
   ],
   "metadata": {
    "collapsed": false,
    "pycharm": {
     "name": "#%%\n"
    }
   }
  },
  {
   "cell_type": "code",
   "execution_count": 3,
   "outputs": [],
   "source": [
    "conn = db.connect('eu_soccer_database/database.sqlite')\n",
    "chunk_size = 5000\n",
    "batch_no = 1\n",
    "for chunk in pd.read_sql(\"SELECT m.match_api_id,\"\n",
    "                         \" Country.name AS country_name,\"\n",
    "                         \" League.name AS league_name,\"\n",
    "                         \" season,\"\n",
    "                         \" stage,\"\n",
    "                         \" m.date,\"\n",
    "                         \" HT.team_long_name AS  home_team,\"\n",
    "                         \" AT.team_long_name AS away_team,\"\n",
    "                         \" home_team_goal,\"\n",
    "                         \" away_team_goal,\"\n",
    "                         \" m.possession,\"\n",
    "                         \" CASE\"\n",
    "                         \" WHEN m.home_team_goal > m.away_team_goal THEN 'H'\"\n",
    "                         \" WHEN m.home_team_goal < m.away_team_goal THEN 'A'\"\n",
    "                         \" WHEN m.home_team_goal = m.away_team_goal THEN 'D'\"\n",
    "                         \" END AS result_match,\"\n",
    "                         \" m.B365H,\"\n",
    "                         \" m.B365D,\"\n",
    "                         \" m.B365A,\"\n",
    "                         \" m.BWH,\"\n",
    "                         \" m.BWD,\"\n",
    "                         \" m.BWA,\"\n",
    "                         \" m.IWH,\"\n",
    "                         \" m.IWD,\"\n",
    "                         \" m.IWA,\"\n",
    "                         \" m.LBH,\"\n",
    "                         \" m.LBD,\"\n",
    "                         \" m.LBA,\"\n",
    "                         \" m.PSH,\"\n",
    "                         \" m.PSD,\"\n",
    "                         \" m.PSA,\"\n",
    "                         \" m.WHH,\"\n",
    "                         \" m.WHD,\"\n",
    "                         \" m.WHA\"\n",
    "                         \" FROM Match as m\"\n",
    "                         \" JOIN Country on Country.id = m.country_id\"\n",
    "                         \" JOIN League on League.id = m.league_id\"\n",
    "                         \" LEFT JOIN Team AS HT on HT.team_api_id = m.home_team_api_id\"\n",
    "                         \" LEFT JOIN Team AS AT on AT.team_api_id = m.away_team_api_id\"\n",
    "                         \" LEFT JOIN Player AS H6 on H6.player_api_id = m.home_player_6\"\n",
    "                         \" LEFT JOIN Player AS H7 on H7.player_api_id = m.home_player_7\"\n",
    "                         \" LEFT JOIN Player AS H8 on H8.player_api_id = m.home_player_8\"\n",
    "                         \" LEFT JOIN Player AS H9 on H9.player_api_id = m.home_player_9\"\n",
    "                         \" LEFT JOIN Player AS H10 on H10.player_api_id = m.home_player_10\"\n",
    "                         \" LEFT JOIN Player AS H11 on H11.player_api_id = m.home_player_11\"\n",
    "                         \" LEFT JOIN Player AS A6 on A6.player_api_id = m.away_player_6\"\n",
    "                         \" LEFT JOIN Player AS A7 on A7.player_api_id = m.away_player_7\"\n",
    "                         \" LEFT JOIN Player AS A8 on A8.player_api_id = m.away_player_8\"\n",
    "                         \" LEFT JOIN Player AS A9 on A9.player_api_id = m.away_player_9\"\n",
    "                         \" LEFT JOIN Player AS A10 on A10.player_api_id = m.away_player_10\"\n",
    "                         \" LEFT JOIN Player AS A11 on A11.player_api_id = m.away_player_11\"\n",
    "                         \" WHERE League.id IN (1729, 4769, 7809, 10257, 21518)\"\n",
    "                         \" AND m.possession IS NOT NULL\"\n",
    "                         \" ORDER by date;\", conn, chunksize=chunk_size):\n",
    "    chunk.to_csv('chunk_data/chunk' + str(batch_no) + '.csv', index=False)\n",
    "    batch_no += 1"
   ],
   "metadata": {
    "collapsed": false,
    "pycharm": {
     "name": "#%%\n"
    }
   }
  },
  {
   "cell_type": "code",
   "execution_count": 4,
   "outputs": [],
   "source": [
    "df_detailed_matches = pd.read_csv('chunk_data/chunk1.csv')"
   ],
   "metadata": {
    "collapsed": false,
    "pycharm": {
     "name": "#%%\n"
    }
   }
  },
  {
   "cell_type": "code",
   "execution_count": 5,
   "outputs": [
    {
     "data": {
      "text/plain": "Summarize dataset:   0%|          | 0/5 [00:00<?, ?it/s]",
      "application/vnd.jupyter.widget-view+json": {
       "version_major": 2,
       "version_minor": 0,
       "model_id": "a5135d697c4347ed8f6f3e2e3c69d9f6"
      }
     },
     "metadata": {},
     "output_type": "display_data"
    },
    {
     "data": {
      "text/plain": "Generate report structure:   0%|          | 0/1 [00:00<?, ?it/s]",
      "application/vnd.jupyter.widget-view+json": {
       "version_major": 2,
       "version_minor": 0,
       "model_id": "190898b9c26149f98ad35ea8326d9c05"
      }
     },
     "metadata": {},
     "output_type": "display_data"
    },
    {
     "data": {
      "text/plain": "Render HTML:   0%|          | 0/1 [00:00<?, ?it/s]",
      "application/vnd.jupyter.widget-view+json": {
       "version_major": 2,
       "version_minor": 0,
       "model_id": "f2aeacf4c20646c58043de2fb2a59772"
      }
     },
     "metadata": {},
     "output_type": "display_data"
    },
    {
     "data": {
      "text/plain": "Export report to file:   0%|          | 0/1 [00:00<?, ?it/s]",
      "application/vnd.jupyter.widget-view+json": {
       "version_major": 2,
       "version_minor": 0,
       "model_id": "d002606fb3494d36be3cc09accaace92"
      }
     },
     "metadata": {},
     "output_type": "display_data"
    }
   ],
   "source": [
    "profile = ProfileReport(df_detailed_matches, title='Detailed matches', minimal=True)\n",
    "profile.to_file(output_file=\"report/first_profile.html\")"
   ],
   "metadata": {
    "collapsed": false,
    "pycharm": {
     "name": "#%%\n"
    }
   }
  },
  {
   "cell_type": "code",
   "execution_count": 6,
   "outputs": [],
   "source": [
    "df_detailed_matches['date'] = pd.to_datetime(df_detailed_matches['date']).dt.date\n",
    "df_detailed_matches[\n",
    "    ['country_name', 'league_name', 'season', 'home_team', 'away_team', 'result_match', 'possession']] = df_detailed_matches[\n",
    "    ['country_name', 'league_name', 'season', 'home_team', 'away_team', 'result_match', 'possession']].astype('category')"
   ],
   "metadata": {
    "collapsed": false,
    "pycharm": {
     "name": "#%%\n"
    }
   }
  },
  {
   "cell_type": "code",
   "execution_count": 7,
   "outputs": [],
   "source": [
    "df_detailed_matches = df_detailed_matches.drop(['PSH', 'PSD', 'PSA'], axis=1)"
   ],
   "metadata": {
    "collapsed": false,
    "pycharm": {
     "name": "#%%\n"
    }
   }
  },
  {
   "cell_type": "code",
   "execution_count": 8,
   "outputs": [],
   "source": [
    "teams = pd.unique(df_detailed_matches[['home_team', 'away_team']].values.ravel('K'))"
   ],
   "metadata": {
    "collapsed": false,
    "pycharm": {
     "name": "#%%\n"
    }
   }
  },
  {
   "cell_type": "code",
   "execution_count": 9,
   "outputs": [],
   "source": [
    "try:\n",
    "    for team in teams:\n",
    "        mask_team_matches = (df_detailed_matches['home_team'] == team) | (df_detailed_matches['away_team'] == team)\n",
    "        matches = df_detailed_matches.loc[mask_team_matches]\n",
    "        matches = matches.sort_values(by='date')\n",
    "\n",
    "        for index, row in matches.iterrows():\n",
    "            previous_match_goals = row['home_team_goal'] if team == row['home_team'] else row['away_team_goal']\n",
    "            last_match = matches.loc[matches['match_api_id'].shift(1) == row['match_api_id']].dropna(how='all')\n",
    "            if not last_match.empty:\n",
    "                if team == last_match['home_team'].values:\n",
    "                    df_detailed_matches.loc[\n",
    "                        df_detailed_matches['match_api_id'] == last_match.iloc[0]['match_api_id'], 'lm_goals_home'] = previous_match_goals\n",
    "                else:\n",
    "                    df_detailed_matches.loc[\n",
    "                        df_detailed_matches['match_api_id'] == last_match.iloc[0]['match_api_id'], 'lm_goals_away'] = previous_match_goals\n",
    "except Exception as e:\n",
    "    e.with_traceback()\n",
    "    print(e)\n",
    "\n",
    "df_detailed_matches = fill_nan_goals(df_detailed_matches, 'lm_goals_home', 'lm_goals_away')\n",
    "df_detailed_matches.lm_goals_home = df_detailed_matches.lm_goals_home.astype(int)\n",
    "df_detailed_matches.lm_goals_away = df_detailed_matches.lm_goals_away.astype(int)"
   ],
   "metadata": {
    "collapsed": false,
    "pycharm": {
     "name": "#%%\n"
    }
   }
  },
  {
   "cell_type": "code",
   "execution_count": 10,
   "outputs": [],
   "source": [
    "try:\n",
    "    for team in teams:\n",
    "        mask_find_team_matches = (df_detailed_matches['home_team'] == team) | (\n",
    "                df_detailed_matches['away_team'] == team)\n",
    "        team_matches = df_detailed_matches.loc[mask_find_team_matches]\n",
    "        team_matches = team_matches.sort_values(by='date')\n",
    "\n",
    "        for index, row in team_matches.iterrows():\n",
    "            mask_home = ((team_matches['home_team'] == row['home_team']) & (team_matches['date'] < row['date']))\n",
    "            mask_away = ((team_matches['away_team'] == row['away_team']) & (team_matches['date'] < row['date']))\n",
    "            mask_both = (team_matches['date'] < row['date'])\n",
    "\n",
    "            avg_l5m_hh = team_matches.loc[mask_home].iloc[-5:]['home_team_goal'].mean()\n",
    "            avg_l5m_aa = team_matches.loc[mask_away].iloc[-5:]['away_team_goal'].mean()\n",
    "            l5_m = team_matches.loc[mask_both].iloc[-5:]\n",
    "\n",
    "            goals = []\n",
    "\n",
    "            for idx, r in l5_m.iterrows():\n",
    "                if r['home_team'] == team:\n",
    "                    goals.append(r['home_team_goal'])\n",
    "                else:\n",
    "                    goals.append(r['away_team_goal'])\n",
    "\n",
    "            avg_l5_m = np.nan if len(goals) == 0 else sum(goals) / len(goals)\n",
    "            if team == row['home_team']:\n",
    "                if pd.isna(avg_l5m_aa):\n",
    "                    avg_l5m_aa = row['home_team_goal']\n",
    "                df_detailed_matches.loc[\n",
    "                    df_detailed_matches['match_api_id'] == row['match_api_id'], 'avg_l5m_hh'] = avg_l5m_hh\n",
    "                df_detailed_matches.loc[\n",
    "                    df_detailed_matches['match_api_id'] == row['match_api_id'], 'avg_l5m_h'] = avg_l5_m\n",
    "            else:\n",
    "                if pd.isna(avg_l5m_aa):\n",
    "                    avg_l5m_aa = row['away_team_goal']\n",
    "                df_detailed_matches.loc[\n",
    "                    df_detailed_matches['match_api_id'] == row['match_api_id'], 'avg_l5m_aa'] = avg_l5m_aa\n",
    "                df_detailed_matches.loc[\n",
    "                    df_detailed_matches['match_api_id'] == row['match_api_id'], 'avg_l5m_a'] = avg_l5_m\n",
    "except Exception as e:\n",
    "    print(e)\n",
    "\n",
    "df_detailed_matches = fill_nan_goals(df_detailed_matches, 'avg_l5m_h', 'avg_l5m_hh')\n",
    "df_detailed_matches = fill_nan_goals(df_detailed_matches, 'avg_l5m_a', 'avg_l5m_aa')"
   ],
   "metadata": {
    "collapsed": false,
    "pycharm": {
     "name": "#%%\n"
    }
   }
  },
  {
   "cell_type": "code",
   "execution_count": 11,
   "outputs": [],
   "source": [
    "try:\n",
    "    for team in teams:\n",
    "        mask_team_matches = (df_detailed_matches['home_team'] == team) | (df_detailed_matches['away_team'] == team)\n",
    "        team_matches = df_detailed_matches.loc[mask_team_matches]\n",
    "        team_matches = team_matches.sort_values(by='date', ascending=False)\n",
    "\n",
    "        for index, row in team_matches.iterrows():\n",
    "            mask_both = (team_matches['date'] < row['date'])\n",
    "            matches_filtering_by_date = team_matches.loc[mask_both]\n",
    "            win_counter = 0\n",
    "\n",
    "            for idx in range(len(matches_filtering_by_date)):\n",
    "                if team == matches_filtering_by_date.iloc[idx]['home_team']:\n",
    "                    match_goals = matches_filtering_by_date[['home_team_goal', 'away_team_goal']].iloc[idx]\n",
    "                    if match_goals.loc['home_team_goal'] > match_goals.loc['away_team_goal']:\n",
    "                        win_counter = win_counter + 1\n",
    "                    else:\n",
    "                        break\n",
    "                else:\n",
    "                    match_goals = matches_filtering_by_date[['home_team_goal', 'away_team_goal']].iloc[idx]\n",
    "                    if match_goals.loc['home_team_goal'] < match_goals.loc['away_team_goal']:\n",
    "                        win_counter = win_counter + 1\n",
    "                    else:\n",
    "                        break\n",
    "            if team == row['home_team']:\n",
    "                df_detailed_matches.loc[df_detailed_matches['match_api_id'] == row['match_api_id'], 'streak_last_wh'] = win_counter\n",
    "            else:\n",
    "                df_detailed_matches.loc[df_detailed_matches['match_api_id'] == row['match_api_id'], 'streak_last_wa'] = win_counter\n",
    "except Exception as e:\n",
    "    print(e)"
   ],
   "metadata": {
    "collapsed": false,
    "pycharm": {
     "name": "#%%\n"
    }
   }
  },
  {
   "cell_type": "code",
   "execution_count": 12,
   "outputs": [],
   "source": [
    "try:\n",
    "    for team in teams:\n",
    "        mask_team_matches = (df_detailed_matches['home_team'] == team) | (df_detailed_matches['away_team'] == team)\n",
    "        team_matches = df_detailed_matches.loc[mask_team_matches]\n",
    "        team_matches = team_matches.sort_values(by='date', ascending=False)\n",
    "\n",
    "        for index, row in team_matches.iterrows():\n",
    "            mask_both = (team_matches['date'] < row['date'])\n",
    "            matches_filtering_by_date = team_matches.loc[mask_both]\n",
    "            lose_counter = 0\n",
    "\n",
    "            for idx in range(len(matches_filtering_by_date)):\n",
    "                if team == matches_filtering_by_date.iloc[idx]['home_team']:\n",
    "                    match_goals = matches_filtering_by_date[['home_team_goal', 'away_team_goal']].iloc[idx]\n",
    "                    if match_goals.loc['home_team_goal'] > match_goals.loc['away_team_goal']:\n",
    "                        break\n",
    "                    else:\n",
    "                        lose_counter = lose_counter + 1\n",
    "                else:\n",
    "                    match_goals = matches_filtering_by_date[['home_team_goal', 'away_team_goal']].iloc[idx]\n",
    "                    if match_goals.loc['home_team_goal'] < match_goals.loc['away_team_goal']:\n",
    "                        break\n",
    "                    else:\n",
    "                        lose_counter = lose_counter + 1\n",
    "\n",
    "            if team == row['home_team']:\n",
    "                df_detailed_matches.loc[df_detailed_matches['match_api_id'] == row['match_api_id'], 'streak_last_lh'] = lose_counter\n",
    "            else:\n",
    "                df_detailed_matches.loc[df_detailed_matches['match_api_id'] == row['match_api_id'], 'streak_last_la'] = lose_counter\n",
    "except Exception as e:\n",
    "    print(e)\n",
    "\n",
    "df_detailed_matches.streak_last_la = df_detailed_matches.streak_last_la.astype(int)\n",
    "df_detailed_matches.streak_last_lh = df_detailed_matches.streak_last_lh.astype(int)\n",
    "\n",
    "df_detailed_matches.streak_last_wh = df_detailed_matches.streak_last_wh.astype(int)\n",
    "df_detailed_matches.streak_last_wa = df_detailed_matches.streak_last_wa.astype(int)"
   ],
   "metadata": {
    "collapsed": false,
    "pycharm": {
     "name": "#%%\n"
    }
   }
  },
  {
   "cell_type": "code",
   "execution_count": 13,
   "outputs": [],
   "source": [
    "columns_possession = ['awaypos', 'homepos', 'subtype', 'elapsed']\n",
    "new_columns_possession = ['awaypos', 'homepos', 'subtype', 'elapsed']\n",
    "df_possession = create_new_df_from_xml(df_detailed_matches, 'possession', columns_possession, new_columns_possession)"
   ],
   "metadata": {
    "collapsed": false,
    "pycharm": {
     "name": "#%%\n"
    }
   }
  },
  {
   "cell_type": "code",
   "execution_count": 14,
   "outputs": [],
   "source": [
    "df_possession[['awaypos', 'homepos']] = df_possession[['awaypos', 'homepos']].fillna(0).astype('int')\n",
    "df_possession[['awaypos', 'homepos']] = df_possession[['awaypos', 'homepos']].replace(0, np.nan)\n",
    "df_possession['awaypos'] = df_possession['awaypos'].fillna(df_possession.groupby('match_api_id')['awaypos'].transform('mean'))\n",
    "df_possession['homepos'] = df_possession['homepos'].fillna(df_possession.groupby('match_api_id')['homepos'].transform('mean'))\n",
    "df_possession[['awaypos', 'homepos']] = df_possession[['awaypos', 'homepos']].astype('int')"
   ],
   "metadata": {
    "collapsed": false,
    "pycharm": {
     "name": "#%%\n"
    }
   }
  },
  {
   "cell_type": "code",
   "execution_count": 15,
   "outputs": [],
   "source": [
    "df_possession = df_possession.loc[(df_possession['elapsed'] == '90') | df_possession['elapsed'].isna()]\n",
    "df_possession = df_possession.groupby(by=['match_api_id'])[['awaypos', 'homepos']].mean().astype(int)\n",
    "df_possession = df_possession.reset_index(level=0)"
   ],
   "metadata": {
    "collapsed": false,
    "pycharm": {
     "name": "#%%\n"
    }
   }
  },
  {
   "cell_type": "code",
   "execution_count": 16,
   "outputs": [],
   "source": [
    "df_detailed_matches = pd.merge(df_detailed_matches, df_possession, how='left', on='match_api_id')"
   ],
   "metadata": {
    "collapsed": false,
    "pycharm": {
     "name": "#%%\n"
    }
   }
  },
  {
   "cell_type": "code",
   "execution_count": 17,
   "outputs": [],
   "source": [
    "df_detailed_matches_nan_possession = df_detailed_matches.loc[(df_detailed_matches['awaypos'].isna()) | (df_detailed_matches['homepos'].isna())]"
   ],
   "metadata": {
    "collapsed": false,
    "pycharm": {
     "name": "#%%\n"
    }
   }
  },
  {
   "cell_type": "code",
   "execution_count": 18,
   "outputs": [],
   "source": [
    "for index, row in df_detailed_matches_nan_possession.iterrows():\n",
    "    home_team = row['home_team']\n",
    "    away_team = row['away_team']\n",
    "\n",
    "    mask_all_matches_between_teams = ((df_detailed_matches['home_team'] == home_team) | (df_detailed_matches['away_team'] == home_team)) &\\\n",
    "                                     ((df_detailed_matches['home_team'] == away_team) | (df_detailed_matches['away_team'] == away_team))\n",
    "    all_matches_between_teams = df_detailed_matches.loc[mask_all_matches_between_teams]\n",
    "\n",
    "    home_possessions = []\n",
    "    away_possessions = []\n",
    "\n",
    "    for idx, r in all_matches_between_teams.iterrows():\n",
    "        if (r['home_team'] == home_team) & (not pd.isna(r['homepos'])):\n",
    "            home_possessions.append(r['homepos'])\n",
    "        elif (r['away_team'] == home_team) & (not pd.isna(r['awaypos'])):\n",
    "            home_possessions.append(r['awaypos'])\n",
    "\n",
    "        if (r['home_team'] == away_team) & (not pd.isna(r['homepos'])):\n",
    "            away_possessions.append(r['homepos'])\n",
    "        elif (r['away_team'] == away_team) & (not pd.isna(r['awaypos'])):\n",
    "            away_possessions.append(r['awaypos'])\n",
    "\n",
    "    if (len(home_possessions) == 0) | (len(away_possessions) == 0):\n",
    "        res = df_detailed_matches.drop(df_detailed_matches[df_detailed_matches.match_api_id == row.match_api_id].index)\n",
    "    else:\n",
    "        avg_possession_home = sum(home_possessions) / len(home_possessions)\n",
    "        avg_possession_away = sum(away_possessions) / len(away_possessions)\n",
    "        df_detailed_matches.loc[df_detailed_matches['match_api_id'] == row['match_api_id'], 'homepos'] = int(avg_possession_home)\n",
    "        df_detailed_matches.loc[df_detailed_matches['match_api_id'] == row['match_api_id'], 'awaypos'] = int(avg_possession_away)\n",
    "\n",
    "df_detailed_matches['awaypos'] = df_detailed_matches['awaypos'].fillna(df_detailed_matches.groupby(['away_team'])['awaypos'].transform('mean'))\n",
    "df_detailed_matches['homepos'] = df_detailed_matches['homepos'].fillna(df_detailed_matches.groupby(['home_team'])['homepos'].transform('mean'))\n",
    "\n",
    "df_detailed_matches['awaypos'] = df_detailed_matches['awaypos'].fillna(df_detailed_matches.groupby(['league_name'])['awaypos'].transform('mean'))\n",
    "df_detailed_matches['homepos'] = df_detailed_matches['homepos'].fillna(df_detailed_matches.groupby(['league_name'])['homepos'].transform('mean'))"
   ],
   "metadata": {
    "collapsed": false,
    "pycharm": {
     "name": "#%%\n"
    }
   }
  },
  {
   "cell_type": "code",
   "execution_count": 19,
   "outputs": [],
   "source": [
    "try:\n",
    "    for team in teams:\n",
    "        mask_team_matches = (df_detailed_matches['home_team'] == team) | (df_detailed_matches['away_team'] == team)\n",
    "        matches = df_detailed_matches.loc[mask_team_matches]\n",
    "        matches = matches.sort_values(by='date')\n",
    "\n",
    "        for index, row in matches.iterrows():\n",
    "            previous_match_possession = row['homepos'] if team == row['home_team'] else row['awaypos']\n",
    "            last_match = matches.loc[matches['match_api_id'].shift(1) == row['match_api_id']].dropna(how='all')\n",
    "\n",
    "            if not last_match.empty:\n",
    "                if team == last_match['home_team'].values:\n",
    "                    df_detailed_matches.loc[df_detailed_matches['match_api_id'] == last_match['match_api_id'].values[0],\n",
    "                                            'last_match_possession_home'] = previous_match_possession\n",
    "                else:\n",
    "                    df_detailed_matches.loc[df_detailed_matches['match_api_id'] == last_match['match_api_id'].values[0],\n",
    "                                            'last_match_possession_away'] = previous_match_possession\n",
    "except Exception as e:\n",
    "    print(e)\n",
    "\n",
    "df_detailed_matches['last_match_possession_away'] = df_detailed_matches['last_match_possession_away'].fillna(\n",
    "    df_detailed_matches.groupby(['away_team'])['last_match_possession_away'].transform('mean'))\n",
    "df_detailed_matches['last_match_possession_home'] = df_detailed_matches['last_match_possession_home'].fillna(\n",
    "    df_detailed_matches.groupby(['home_team'])['last_match_possession_home'].transform('mean'))\n",
    "\n",
    "df_detailed_matches['last_match_possession_away'] = df_detailed_matches['last_match_possession_away'].fillna(\n",
    "    df_detailed_matches.groupby(['league_name'])['last_match_possession_away'].transform('mean'))\n",
    "df_detailed_matches['last_match_possession_home'] = df_detailed_matches['last_match_possession_home'].fillna(\n",
    "    df_detailed_matches.groupby(['league_name'])['last_match_possession_home'].transform('mean'))\n",
    "\n",
    "df_detailed_matches.last_match_possession_home = df_detailed_matches.last_match_possession_home.astype(int)\n",
    "df_detailed_matches.last_match_possession_away = df_detailed_matches.last_match_possession_away.astype(int)"
   ],
   "metadata": {
    "collapsed": false,
    "pycharm": {
     "name": "#%%\n"
    }
   }
  },
  {
   "cell_type": "code",
   "execution_count": 20,
   "outputs": [],
   "source": [
    "df_detailed_matches = df_detailed_matches.drop(['homepos', 'awaypos'], axis=1)"
   ],
   "metadata": {
    "collapsed": false,
    "pycharm": {
     "name": "#%%\n"
    }
   }
  },
  {
   "cell_type": "code",
   "execution_count": 21,
   "outputs": [],
   "source": [
    "try:\n",
    "    for team in teams:\n",
    "        mask_team_matches = (df_detailed_matches['home_team'] == team) | (df_detailed_matches['away_team'] == team)\n",
    "        matches = df_detailed_matches.loc[mask_team_matches]\n",
    "        matches = matches.sort_values(by='date')\n",
    "\n",
    "        for index, row in matches.iterrows():\n",
    "            match_date = row['date']\n",
    "            next_match = matches.loc[matches['match_api_id'].shift(1) == row['match_api_id']].dropna(how='all')\n",
    "\n",
    "            if not next_match.empty:\n",
    "                days_last_match = delta = next_match['date'].iloc[0] - match_date\n",
    "\n",
    "                if team == next_match.iloc[0]['home_team']:\n",
    "                    df_detailed_matches.loc[df_detailed_matches['match_api_id'] == next_match['match_api_id'].values[0],\n",
    "                                            'days_since_lmh'] = days_last_match.days\n",
    "                else:\n",
    "                    df_detailed_matches.loc[df_detailed_matches['match_api_id'] == next_match['match_api_id'].values[0],\n",
    "                                            'days_since_lma'] = days_last_match.days\n",
    "\n",
    "except Exception as e:\n",
    "    print(e)\n",
    "\n",
    "df_detailed_matches['days_since_lmh'] = df_detailed_matches['days_since_lmh'].fillna(\n",
    "    df_detailed_matches.groupby(['league_name'])['days_since_lmh'].transform('mean').astype(int))\n",
    "\n",
    "df_detailed_matches['days_since_lma'] = df_detailed_matches['days_since_lma'].fillna(\n",
    "    df_detailed_matches.groupby(['league_name'])['days_since_lma'].transform('mean').astype(int))\n",
    "\n",
    "df_detailed_matches.days_since_lma = df_detailed_matches.days_since_lma.astype(int)\n",
    "df_detailed_matches.days_since_lmh = df_detailed_matches.days_since_lmh.astype(int)"
   ],
   "metadata": {
    "collapsed": false,
    "pycharm": {
     "name": "#%%\n"
    }
   }
  },
  {
   "cell_type": "code",
   "execution_count": 22,
   "outputs": [],
   "source": [
    "for index, row in df_detailed_matches.iterrows():\n",
    "    home_team = row['home_team']\n",
    "    away_team = row['away_team']\n",
    "\n",
    "    mask_all_matches_between_teams = ((df_detailed_matches['home_team'] == home_team) | (df_detailed_matches['away_team'] == home_team)) &\\\n",
    "    ((df_detailed_matches['home_team'] == away_team) | (df_detailed_matches['away_team'] == away_team))\n",
    "    all_matches_between_teams = df_detailed_matches.loc[mask_all_matches_between_teams]\n",
    "\n",
    "    for idx, r in all_matches_between_teams.iterrows():\n",
    "        last_match = all_matches_between_teams.loc[all_matches_between_teams['match_api_id'].shift(1) == r['match_api_id']].dropna(how='all')\n",
    "        m_winner = ''\n",
    "        if not last_match.empty:\n",
    "            m_winner = get_winner(r)\n",
    "\n",
    "            match_api_id_ = df_detailed_matches['match_api_id'] == last_match.iloc[0]['match_api_id']\n",
    "            df_detailed_matches.loc[match_api_id_, 'lm_winner'] = m_winner"
   ],
   "metadata": {
    "collapsed": false,
    "pycharm": {
     "name": "#%%\n"
    }
   }
  },
  {
   "cell_type": "code",
   "execution_count": 23,
   "outputs": [
    {
     "data": {
      "text/plain": "(1355, 42)"
     },
     "execution_count": 23,
     "metadata": {},
     "output_type": "execute_result"
    }
   ],
   "source": [
    "df_detailed_matches_nan_lm_winner = df_detailed_matches.loc[df_detailed_matches.lm_winner.isna()]\n",
    "df_detailed_matches_nan_lm_winner.shape"
   ],
   "metadata": {
    "collapsed": false,
    "pycharm": {
     "name": "#%%\n"
    }
   }
  },
  {
   "cell_type": "code",
   "execution_count": 24,
   "outputs": [],
   "source": [
    "for index, row in df_detailed_matches_nan_lm_winner.iterrows():\n",
    "    home_team = row['home_team']\n",
    "    away_team = row['away_team']\n",
    "\n",
    "    mask_all_matches_between_teams = ((df_detailed_matches['home_team'] == home_team) | (\n",
    "            df_detailed_matches['away_team'] == home_team)) & ((df_detailed_matches['home_team'] == away_team) | (\n",
    "            df_detailed_matches['away_team'] == away_team))\n",
    "    all_matches_between_teams = df_detailed_matches.loc[mask_all_matches_between_teams]\n",
    "    all_matches_between_teams = all_matches_between_teams.sort_values(by='date')\n",
    "\n",
    "    lm_winner = all_matches_between_teams.mode()['lm_winner'][0]\n",
    "    if pd.isna(lm_winner):\n",
    "        lm_winner = get_winner(row)\n",
    "    df_detailed_matches.loc[df_detailed_matches['match_api_id'] == row['match_api_id'], 'lm_winner'] = lm_winner\n",
    "\n",
    "df_detailed_matches.lm_winner = df_detailed_matches.lm_winner.astype('category')"
   ],
   "metadata": {
    "collapsed": false,
    "pycharm": {
     "name": "#%%\n"
    }
   }
  },
  {
   "cell_type": "code",
   "execution_count": 25,
   "outputs": [],
   "source": [
    "try:\n",
    "    for team in teams:\n",
    "        mask_find_team_matches = (df_detailed_matches['home_team'] == team) | (df_detailed_matches['away_team'] == team)\n",
    "        team_matches = df_detailed_matches.loc[mask_find_team_matches]\n",
    "        team_matches = team_matches.sort_values(by='date')\n",
    "\n",
    "        for index, row in team_matches.iterrows():\n",
    "            mask = (((df_detailed_matches['home_team'] == team) | (df_detailed_matches['away_team'] == team)) & (team_matches['date'] < row['date']))\n",
    "\n",
    "            point_list = team_matches.loc[mask].iloc[-5:].apply(lambda row: get_points(row, team), axis=1)\n",
    "            avg_points_l5m = np.nan\n",
    "\n",
    "            if len(point_list) > 4:\n",
    "                avg_points_l5m = point_list.mean()\n",
    "\n",
    "            if row['home_team'] == team:\n",
    "                df_detailed_matches.loc[df_detailed_matches.match_api_id == row.match_api_id, 'avg_points_l5m_h'] = avg_points_l5m\n",
    "            else:\n",
    "                df_detailed_matches.loc[df_detailed_matches.match_api_id == row.match_api_id, 'avg_points_l5m_a'] = avg_points_l5m\n",
    "except Exception as e:\n",
    "    e.with_traceback()\n",
    "    print(e)"
   ],
   "metadata": {
    "collapsed": false,
    "pycharm": {
     "name": "#%%\n"
    }
   }
  },
  {
   "cell_type": "code",
   "execution_count": 26,
   "outputs": [],
   "source": [
    "try:\n",
    "    for team in teams:\n",
    "        mask_find_team_matches = (df_detailed_matches['home_team'] == team) | (df_detailed_matches['away_team'] == team)\n",
    "        team_matches = df_detailed_matches.loc[mask_find_team_matches]\n",
    "        team_matches = team_matches.sort_values(by='date')\n",
    "        seasons_unique = team_matches.season.unique()\n",
    "\n",
    "        for season in seasons_unique:\n",
    "            season_matches = team_matches.loc[team_matches.season == season]\n",
    "            for index, row in season_matches.iterrows():\n",
    "                mask = (((df_detailed_matches['home_team'] == team) | (df_detailed_matches['away_team'] == team)) & (\n",
    "                            team_matches['date'] < row['date']))\n",
    "\n",
    "                point_list = season_matches.loc[mask].apply(lambda row: get_points(row, team), axis=1)\n",
    "                points = 0\n",
    "\n",
    "                if len(point_list):\n",
    "                    points = point_list.sum()\n",
    "\n",
    "                if row['home_team'] == team:\n",
    "                    df_detailed_matches.loc[df_detailed_matches.match_api_id == row.match_api_id, 'points_home'] = points\n",
    "                else:\n",
    "                    df_detailed_matches.loc[df_detailed_matches.match_api_id == row.match_api_id, 'points_away'] = points\n",
    "except Exception as e:\n",
    "    e.with_traceback()\n",
    "    print(e)\n",
    "\n",
    "df_detailed_matches['avg_points_l5m_h'] = df_detailed_matches['avg_points_l5m_h'].fillna(\n",
    "    df_detailed_matches.groupby(['season', 'home_team'])['avg_points_l5m_h'].transform('mean'))\n",
    "\n",
    "df_detailed_matches['avg_points_l5m_a'] = df_detailed_matches['avg_points_l5m_a'].fillna(\n",
    "    df_detailed_matches.groupby(['season', 'away_team'])['avg_points_l5m_a'].transform('mean'))\n",
    "\n",
    "df_detailed_matches['avg_points_l5m_h'] = df_detailed_matches['avg_points_l5m_h'].fillna(0)\n",
    "df_detailed_matches['avg_points_l5m_a'] = df_detailed_matches['avg_points_l5m_a'].fillna(0)\n",
    "\n",
    "df_detailed_matches.points_home = df_detailed_matches.points_home.astype(int)\n",
    "df_detailed_matches.points_away = df_detailed_matches.points_away.astype(int)"
   ],
   "metadata": {
    "collapsed": false,
    "pycharm": {
     "name": "#%%\n"
    }
   }
  },
  {
   "cell_type": "code",
   "execution_count": 27,
   "outputs": [],
   "source": [
    "df = df_detailed_matches.drop(['home_team_goal', 'away_team_goal', 'possession', 'IWH', 'IWA', 'IWD'], axis=1)\n",
    "df = df.dropna(subset=['B365H', 'B365D', 'B365A', 'BWH', 'BWD', 'BWA', 'LBH', 'LBD', 'LBA', 'WHH', 'WHD', 'WHA'], thresh=4)"
   ],
   "metadata": {
    "collapsed": false,
    "pycharm": {
     "name": "#%%\n"
    }
   }
  },
  {
   "cell_type": "code",
   "execution_count": 28,
   "outputs": [],
   "source": [
    "bets_df = df[['match_api_id', 'B365H', 'B365D', 'B365A', 'BWH', 'BWD', 'BWA', 'LBH', 'LBD', 'LBA', 'WHH', 'WHD', 'WHA']]"
   ],
   "metadata": {
    "collapsed": false,
    "pycharm": {
     "name": "#%%\n"
    }
   }
  },
  {
   "cell_type": "code",
   "execution_count": 29,
   "outputs": [],
   "source": [
    "bets_df_nan = bets_df[bets_df.isna().any(axis=1)]\n",
    "for idx, row in bets_df_nan.iterrows():\n",
    "    df.loc[df.match_api_id == row.match_api_id, 'BWH'] = round(row[['B365H', 'LBH', 'WHH']].mean(), 2)\n",
    "    df.loc[df.match_api_id == row.match_api_id, 'BWD'] = round(row[['B365D', 'LBD', 'WHD']].mean(), 2)\n",
    "    df.loc[df.match_api_id == row.match_api_id, 'BWA'] = round(row[['B365A', 'LBA', 'WHA']].mean(), 2)"
   ],
   "metadata": {
    "collapsed": false,
    "pycharm": {
     "name": "#%%\n"
    }
   }
  },
  {
   "cell_type": "code",
   "execution_count": 30,
   "outputs": [
    {
     "data": {
      "text/plain": "               column_name  percent_missing\nmatch_api_id  match_api_id              0.0\ncountry_name  country_name              0.0\nleague_name    league_name              0.0\nseason              season              0.0\nstage                stage              0.0",
      "text/html": "<div>\n<style scoped>\n    .dataframe tbody tr th:only-of-type {\n        vertical-align: middle;\n    }\n\n    .dataframe tbody tr th {\n        vertical-align: top;\n    }\n\n    .dataframe thead th {\n        text-align: right;\n    }\n</style>\n<table border=\"1\" class=\"dataframe\">\n  <thead>\n    <tr style=\"text-align: right;\">\n      <th></th>\n      <th>column_name</th>\n      <th>percent_missing</th>\n    </tr>\n  </thead>\n  <tbody>\n    <tr>\n      <th>match_api_id</th>\n      <td>match_api_id</td>\n      <td>0.0</td>\n    </tr>\n    <tr>\n      <th>country_name</th>\n      <td>country_name</td>\n      <td>0.0</td>\n    </tr>\n    <tr>\n      <th>league_name</th>\n      <td>league_name</td>\n      <td>0.0</td>\n    </tr>\n    <tr>\n      <th>season</th>\n      <td>season</td>\n      <td>0.0</td>\n    </tr>\n    <tr>\n      <th>stage</th>\n      <td>stage</td>\n      <td>0.0</td>\n    </tr>\n  </tbody>\n</table>\n</div>"
     },
     "execution_count": 30,
     "metadata": {},
     "output_type": "execute_result"
    }
   ],
   "source": [
    "missin_values(df).head(5)"
   ],
   "metadata": {
    "collapsed": false,
    "pycharm": {
     "name": "#%%\n"
    }
   }
  },
  {
   "cell_type": "code",
   "execution_count": 31,
   "outputs": [
    {
     "data": {
      "text/plain": "(4994, 40)"
     },
     "execution_count": 31,
     "metadata": {},
     "output_type": "execute_result"
    }
   ],
   "source": [
    "df.shape"
   ],
   "metadata": {
    "collapsed": false,
    "pycharm": {
     "name": "#%%\n"
    }
   }
  },
  {
   "cell_type": "code",
   "execution_count": 32,
   "outputs": [],
   "source": [
    "# profile = ProfileReport(df, title='Detailed matches', dark_mode=True, minimal=True)\n",
    "# profile.config.interactions.targets = []\n",
    "# profile.to_file(output_file=\"report/second_profile.html\")"
   ],
   "metadata": {
    "collapsed": false,
    "pycharm": {
     "name": "#%%\n"
    }
   }
  },
  {
   "cell_type": "code",
   "execution_count": 33,
   "outputs": [],
   "source": [
    "df['date'] = pd.to_datetime(df['date'], format='%Y-%m-%d', errors='coerce')\n",
    "\n",
    "df['date_year'] = df['date'].dt.year\n",
    "df['date_month'] = df['date'].dt.month\n",
    "df['date_day'] = df['date'].dt.day\n",
    "df = df.drop(['date'], axis=1)"
   ],
   "metadata": {
    "collapsed": false,
    "pycharm": {
     "name": "#%%\n"
    }
   }
  },
  {
   "cell_type": "code",
   "execution_count": 34,
   "outputs": [
    {
     "data": {
      "text/plain": "         stage    B365H    B365D    B365A      BWH      BWD      BWA      LBH  \\\ncount  4987.00  4987.00  4987.00  4987.00  4987.00  4987.00  4987.00  4987.00   \nmean     18.33     2.54     3.71     4.66     2.47     3.65     4.35     2.43   \nstd      10.91     1.63     0.92     3.50     1.49     0.91     2.92     1.44   \nmin       1.00     1.04     1.40     1.10     1.03     1.40     1.10     1.04   \n25%       9.00     1.67     3.25     2.63     1.65     3.20     2.55     1.67   \n50%      18.00     2.10     3.40     3.60     2.05     3.35     3.45     2.10   \n75%      28.00     2.70     3.75     5.50     2.65     3.70     5.10     2.60   \nmax      38.00    23.00    13.00    34.00    21.00    15.00    31.00    17.00   \n\n           LBD      LBA  ...  last_match_possession_home  days_since_lma  \\\ncount  4987.00  4987.00  ...                     4987.00         4987.00   \nmean      3.58     4.30  ...                       48.16           10.09   \nstd       0.83     2.94  ...                        7.71           23.00   \nmin       1.40     1.10  ...                        4.00            2.00   \n25%       3.20     2.50  ...                       44.00            6.00   \n50%       3.30     3.40  ...                       48.00            7.00   \n75%       3.60     5.00  ...                       53.00            8.00   \nmax      12.00    26.00  ...                       96.00          818.00   \n\n       days_since_lmh  avg_points_l5m_h  avg_points_l5m_a  points_home  \\\ncount         4987.00           4987.00           4987.00      4987.00   \nmean             9.70              1.31              1.38        22.11   \nstd             15.61              0.41              0.46        15.60   \nmin              2.00              0.00              0.00         0.00   \n25%              6.00              1.00              1.00         9.00   \n50%              7.00              1.22              1.40        20.00   \n75%              8.00              1.80              1.80        34.00   \nmax            455.00              2.60              2.60        71.00   \n\n       points_away  date_year  date_month  date_day  \ncount      4987.00    4987.00     4987.00   4987.00  \nmean         22.45    2009.72        6.54     16.41  \nstd          15.69       1.02        3.78      8.75  \nmin           0.00    2008.00        1.00      1.00  \n25%           9.00    2009.00        3.00      9.00  \n50%          21.00    2010.00        5.00     17.00  \n75%          34.00    2011.00       10.00     24.00  \nmax          72.00    2011.00       12.00     31.00  \n\n[8 rows x 34 columns]",
      "text/html": "<div>\n<style scoped>\n    .dataframe tbody tr th:only-of-type {\n        vertical-align: middle;\n    }\n\n    .dataframe tbody tr th {\n        vertical-align: top;\n    }\n\n    .dataframe thead th {\n        text-align: right;\n    }\n</style>\n<table border=\"1\" class=\"dataframe\">\n  <thead>\n    <tr style=\"text-align: right;\">\n      <th></th>\n      <th>stage</th>\n      <th>B365H</th>\n      <th>B365D</th>\n      <th>B365A</th>\n      <th>BWH</th>\n      <th>BWD</th>\n      <th>BWA</th>\n      <th>LBH</th>\n      <th>LBD</th>\n      <th>LBA</th>\n      <th>...</th>\n      <th>last_match_possession_home</th>\n      <th>days_since_lma</th>\n      <th>days_since_lmh</th>\n      <th>avg_points_l5m_h</th>\n      <th>avg_points_l5m_a</th>\n      <th>points_home</th>\n      <th>points_away</th>\n      <th>date_year</th>\n      <th>date_month</th>\n      <th>date_day</th>\n    </tr>\n  </thead>\n  <tbody>\n    <tr>\n      <th>count</th>\n      <td>4987.00</td>\n      <td>4987.00</td>\n      <td>4987.00</td>\n      <td>4987.00</td>\n      <td>4987.00</td>\n      <td>4987.00</td>\n      <td>4987.00</td>\n      <td>4987.00</td>\n      <td>4987.00</td>\n      <td>4987.00</td>\n      <td>...</td>\n      <td>4987.00</td>\n      <td>4987.00</td>\n      <td>4987.00</td>\n      <td>4987.00</td>\n      <td>4987.00</td>\n      <td>4987.00</td>\n      <td>4987.00</td>\n      <td>4987.00</td>\n      <td>4987.00</td>\n      <td>4987.00</td>\n    </tr>\n    <tr>\n      <th>mean</th>\n      <td>18.33</td>\n      <td>2.54</td>\n      <td>3.71</td>\n      <td>4.66</td>\n      <td>2.47</td>\n      <td>3.65</td>\n      <td>4.35</td>\n      <td>2.43</td>\n      <td>3.58</td>\n      <td>4.30</td>\n      <td>...</td>\n      <td>48.16</td>\n      <td>10.09</td>\n      <td>9.70</td>\n      <td>1.31</td>\n      <td>1.38</td>\n      <td>22.11</td>\n      <td>22.45</td>\n      <td>2009.72</td>\n      <td>6.54</td>\n      <td>16.41</td>\n    </tr>\n    <tr>\n      <th>std</th>\n      <td>10.91</td>\n      <td>1.63</td>\n      <td>0.92</td>\n      <td>3.50</td>\n      <td>1.49</td>\n      <td>0.91</td>\n      <td>2.92</td>\n      <td>1.44</td>\n      <td>0.83</td>\n      <td>2.94</td>\n      <td>...</td>\n      <td>7.71</td>\n      <td>23.00</td>\n      <td>15.61</td>\n      <td>0.41</td>\n      <td>0.46</td>\n      <td>15.60</td>\n      <td>15.69</td>\n      <td>1.02</td>\n      <td>3.78</td>\n      <td>8.75</td>\n    </tr>\n    <tr>\n      <th>min</th>\n      <td>1.00</td>\n      <td>1.04</td>\n      <td>1.40</td>\n      <td>1.10</td>\n      <td>1.03</td>\n      <td>1.40</td>\n      <td>1.10</td>\n      <td>1.04</td>\n      <td>1.40</td>\n      <td>1.10</td>\n      <td>...</td>\n      <td>4.00</td>\n      <td>2.00</td>\n      <td>2.00</td>\n      <td>0.00</td>\n      <td>0.00</td>\n      <td>0.00</td>\n      <td>0.00</td>\n      <td>2008.00</td>\n      <td>1.00</td>\n      <td>1.00</td>\n    </tr>\n    <tr>\n      <th>25%</th>\n      <td>9.00</td>\n      <td>1.67</td>\n      <td>3.25</td>\n      <td>2.63</td>\n      <td>1.65</td>\n      <td>3.20</td>\n      <td>2.55</td>\n      <td>1.67</td>\n      <td>3.20</td>\n      <td>2.50</td>\n      <td>...</td>\n      <td>44.00</td>\n      <td>6.00</td>\n      <td>6.00</td>\n      <td>1.00</td>\n      <td>1.00</td>\n      <td>9.00</td>\n      <td>9.00</td>\n      <td>2009.00</td>\n      <td>3.00</td>\n      <td>9.00</td>\n    </tr>\n    <tr>\n      <th>50%</th>\n      <td>18.00</td>\n      <td>2.10</td>\n      <td>3.40</td>\n      <td>3.60</td>\n      <td>2.05</td>\n      <td>3.35</td>\n      <td>3.45</td>\n      <td>2.10</td>\n      <td>3.30</td>\n      <td>3.40</td>\n      <td>...</td>\n      <td>48.00</td>\n      <td>7.00</td>\n      <td>7.00</td>\n      <td>1.22</td>\n      <td>1.40</td>\n      <td>20.00</td>\n      <td>21.00</td>\n      <td>2010.00</td>\n      <td>5.00</td>\n      <td>17.00</td>\n    </tr>\n    <tr>\n      <th>75%</th>\n      <td>28.00</td>\n      <td>2.70</td>\n      <td>3.75</td>\n      <td>5.50</td>\n      <td>2.65</td>\n      <td>3.70</td>\n      <td>5.10</td>\n      <td>2.60</td>\n      <td>3.60</td>\n      <td>5.00</td>\n      <td>...</td>\n      <td>53.00</td>\n      <td>8.00</td>\n      <td>8.00</td>\n      <td>1.80</td>\n      <td>1.80</td>\n      <td>34.00</td>\n      <td>34.00</td>\n      <td>2011.00</td>\n      <td>10.00</td>\n      <td>24.00</td>\n    </tr>\n    <tr>\n      <th>max</th>\n      <td>38.00</td>\n      <td>23.00</td>\n      <td>13.00</td>\n      <td>34.00</td>\n      <td>21.00</td>\n      <td>15.00</td>\n      <td>31.00</td>\n      <td>17.00</td>\n      <td>12.00</td>\n      <td>26.00</td>\n      <td>...</td>\n      <td>96.00</td>\n      <td>818.00</td>\n      <td>455.00</td>\n      <td>2.60</td>\n      <td>2.60</td>\n      <td>71.00</td>\n      <td>72.00</td>\n      <td>2011.00</td>\n      <td>12.00</td>\n      <td>31.00</td>\n    </tr>\n  </tbody>\n</table>\n<p>8 rows × 34 columns</p>\n</div>"
     },
     "execution_count": 34,
     "metadata": {},
     "output_type": "execute_result"
    }
   ],
   "source": [
    "df_drop = df.drop(['match_api_id'], axis=1)\n",
    "df_drop = df_drop.dropna()\n",
    "df_describe_num = df_drop.select_dtypes(include='number').describe()\n",
    "df_describe_num = df_describe_num.round(2)\n",
    "df_describe_num"
   ],
   "metadata": {
    "collapsed": false,
    "pycharm": {
     "name": "#%%\n"
    }
   }
  },
  {
   "cell_type": "code",
   "execution_count": 34,
   "outputs": [],
   "source": [],
   "metadata": {
    "collapsed": false,
    "pycharm": {
     "name": "#%%\n"
    }
   }
  },
  {
   "cell_type": "code",
   "execution_count": 35,
   "outputs": [
    {
     "data": {
      "text/plain": "       country_name             league_name     season  home_team  \\\ncount          4987                    4987       4987       4987   \nunique            5                       5          4        128   \ntop         England  England Premier League  2010/2011  Liverpool   \nfreq           1249                    1249       1671         63   \n\n           away_team result_match     lm_winner  \ncount           4987         4987          4987  \nunique           128            3           126  \ntop     RCD Espanyol            H  FC Barcelona  \nfreq              63         2386           109  ",
      "text/html": "<div>\n<style scoped>\n    .dataframe tbody tr th:only-of-type {\n        vertical-align: middle;\n    }\n\n    .dataframe tbody tr th {\n        vertical-align: top;\n    }\n\n    .dataframe thead th {\n        text-align: right;\n    }\n</style>\n<table border=\"1\" class=\"dataframe\">\n  <thead>\n    <tr style=\"text-align: right;\">\n      <th></th>\n      <th>country_name</th>\n      <th>league_name</th>\n      <th>season</th>\n      <th>home_team</th>\n      <th>away_team</th>\n      <th>result_match</th>\n      <th>lm_winner</th>\n    </tr>\n  </thead>\n  <tbody>\n    <tr>\n      <th>count</th>\n      <td>4987</td>\n      <td>4987</td>\n      <td>4987</td>\n      <td>4987</td>\n      <td>4987</td>\n      <td>4987</td>\n      <td>4987</td>\n    </tr>\n    <tr>\n      <th>unique</th>\n      <td>5</td>\n      <td>5</td>\n      <td>4</td>\n      <td>128</td>\n      <td>128</td>\n      <td>3</td>\n      <td>126</td>\n    </tr>\n    <tr>\n      <th>top</th>\n      <td>England</td>\n      <td>England Premier League</td>\n      <td>2010/2011</td>\n      <td>Liverpool</td>\n      <td>RCD Espanyol</td>\n      <td>H</td>\n      <td>FC Barcelona</td>\n    </tr>\n    <tr>\n      <th>freq</th>\n      <td>1249</td>\n      <td>1249</td>\n      <td>1671</td>\n      <td>63</td>\n      <td>63</td>\n      <td>2386</td>\n      <td>109</td>\n    </tr>\n  </tbody>\n</table>\n</div>"
     },
     "execution_count": 35,
     "metadata": {},
     "output_type": "execute_result"
    }
   ],
   "source": [
    "df_describe_cat = df_drop.select_dtypes(exclude='number').describe()\n",
    "df_describe_cat = df_describe_cat.round(2)\n",
    "df_describe_cat"
   ],
   "metadata": {
    "collapsed": false,
    "pycharm": {
     "name": "#%%\n"
    }
   }
  },
  {
   "cell_type": "code",
   "execution_count": 36,
   "outputs": [],
   "source": [
    "\n",
    "# df_drop[['result_match', 'B365H', 'B365A']].groupby('result_match')\n",
    "# .aggregate({'B365H': ['mean'], 'B365A': ['mean']})\n",
    "# .reset_index()\n",
    "# .sort_values(('loss', 'mean'), ascending=False)"
   ],
   "metadata": {
    "collapsed": false,
    "pycharm": {
     "name": "#%%\n"
    }
   }
  },
  {
   "cell_type": "code",
   "execution_count": 37,
   "outputs": [
    {
     "name": "stdout",
     "output_type": "stream",
     "text": [
      "value counts: \n",
      "H    2386\n",
      "A    1336\n",
      "D    1265\n",
      "Name: result_match, dtype: int64\n"
     ]
    },
    {
     "data": {
      "text/plain": "<Figure size 640x480 with 1 Axes>",
      "image/png": "[encoded data removed]"
     },
     "metadata": {},
     "output_type": "display_data"
    }
   ],
   "source": [
    "print(f'value counts: \\n{df_drop.result_match.value_counts()}')\n",
    "\n",
    "\n",
    "sns.countplot(x='result_match',data=df_drop)\n",
    "plt.show()"
   ],
   "metadata": {
    "collapsed": false,
    "pycharm": {
     "name": "#%%\n"
    }
   }
  },
  {
   "cell_type": "code",
   "execution_count": 38,
   "outputs": [],
   "source": [
    "def preprocess_category_string(category_row):\n",
    "    if category_row == 'H':\n",
    "        return 'yes'\n",
    "    else:\n",
    "        return 'no'"
   ],
   "metadata": {
    "collapsed": false,
    "pycharm": {
     "name": "#%%\n"
    }
   }
  },
  {
   "cell_type": "code",
   "execution_count": 39,
   "outputs": [
    {
     "data": {
      "text/plain": "no     2601\nyes    2386\nName: home_winner, dtype: int64"
     },
     "execution_count": 39,
     "metadata": {},
     "output_type": "execute_result"
    }
   ],
   "source": [
    "# change target to binary\n",
    "df_drop['home_winner'] = df_drop.result_match.apply(lambda x: preprocess_category_string(x))\n",
    "df_drop['home_winner'].value_counts()"
   ],
   "metadata": {
    "collapsed": false,
    "pycharm": {
     "name": "#%%\n"
    }
   }
  },
  {
   "cell_type": "code",
   "execution_count": 40,
   "outputs": [],
   "source": [
    "def preprocess_if_bet_placed_well(X, colH, colD, colA):\n",
    "    # print(f'B365H: {X.colH}, colD: {X.B365D}, colA: {X.B365A}, result: {X.result_match} ')\n",
    "    if (X.get(colH) < X.get(colA)) & (X.get('result_match') == 'H'):\n",
    "        return True\n",
    "    elif (X.get(colH) > X.get(colA)) & (X.get('result_match') == 'A'):\n",
    "        return True\n",
    "    elif ((X.get(colD) < X.get(colA)) & (X.get(colD) < X.get(colH))) & (X.get('result_match') == 'D'):\n",
    "        return True\n",
    "    else:\n",
    "        return False\n",
    "\n",
    "def get_result_name(short_name):\n",
    "    if short_name == 'H':\n",
    "        return 'home tem win.'\n",
    "    elif short_name == 'D':\n",
    "        return 'draw.'\n",
    "    else:\n",
    "        return 'away team win.'\n",
    "\n",
    "\n",
    "def get_bookmaker_type(short_name):\n",
    "    return [short_name[:-1], short_name[-1]]"
   ],
   "metadata": {
    "collapsed": false,
    "pycharm": {
     "name": "#%%\n"
    }
   }
  },
  {
   "cell_type": "code",
   "execution_count": 41,
   "outputs": [],
   "source": [
    "def aggregate_bookmarks_bets(X, colH, colD, colA):\n",
    "    new_df = pd.DataFrame(columns=['bookmaker', 'type', 'good_bet', 'wrong_bet'])\n",
    "    df_ = X.copy()\n",
    "\n",
    "    df_['bet_vs_result'] = X[[colH, colD, colA, 'result_match']].apply(lambda x: preprocess_if_bet_placed_well(x, colH, colD, colA), axis=1)\n",
    "\n",
    "    logger.debug(f\"len new col: {df_['bet_vs_result'].value_counts()}\")\n",
    "\n",
    "    df_group = df_.groupby(by=['result_match', 'bet_vs_result'], )['bet_vs_result'].count()\n",
    "    uniques = df_group.index.get_level_values(0).unique()\n",
    "\n",
    "    for i in list(uniques):\n",
    "        df_single = df_group.get(i)\n",
    "        dict_ = {\n",
    "            'bookmaker': get_bookmaker_type(colH)[0],\n",
    "            'type': get_bookmaker_type(i)[1],\n",
    "            'good_bet': df_single[0],\n",
    "            'wrong_bet': df_single[1]\n",
    "        }\n",
    "        frame = pd.DataFrame(dict_, index=[0])\n",
    "        new_df = pd.concat([new_df, frame])\n",
    "    return new_df"
   ],
   "metadata": {
    "collapsed": false,
    "pycharm": {
     "name": "#%%\n"
    }
   }
  },
  {
   "cell_type": "code",
   "execution_count": 42,
   "outputs": [],
   "source": [
    "df_scoring_bet = pd.DataFrame(columns=['bookmaker', 'type', 'good_bet', 'wrong_bet'])"
   ],
   "metadata": {
    "collapsed": false,
    "pycharm": {
     "name": "#%%\n"
    }
   }
  },
  {
   "cell_type": "code",
   "execution_count": 43,
   "outputs": [],
   "source": [
    "b365_df = aggregate_bookmarks_bets(df_drop, 'B365H', 'B365D', 'B365A')\n",
    "bw_df = aggregate_bookmarks_bets(df_drop, 'BWH', 'BWD', 'BWA')\n",
    "lb_df = aggregate_bookmarks_bets(df_drop, 'LBH', 'LBD', 'LBA')\n",
    "wh_df = aggregate_bookmarks_bets(df_drop, 'WHH', 'WHD', 'WHA')"
   ],
   "metadata": {
    "collapsed": false,
    "pycharm": {
     "name": "#%%\n"
    }
   }
  },
  {
   "cell_type": "code",
   "execution_count": 44,
   "outputs": [],
   "source": [
    "bets_bookmark_res = pd.concat([bw_df, lb_df, b365_df, wh_df])\n",
    "bets_bookmark_res = bets_bookmark_res.set_index(['bookmaker', 'type'])\n",
    "logger.debug(bets_bookmark_res)"
   ],
   "metadata": {
    "collapsed": false,
    "pycharm": {
     "name": "#%%\n"
    }
   }
  },
  {
   "cell_type": "code",
   "execution_count": 45,
   "outputs": [
    {
     "data": {
      "text/plain": "<Figure size 640x480 with 1 Axes>",
      "image/png": "[encoded data removed]"
     },
     "metadata": {},
     "output_type": "display_data"
    },
    {
     "data": {
      "text/plain": "<Figure size 640x480 with 1 Axes>",
      "image/png": "[encoded data removed]"
     },
     "metadata": {},
     "output_type": "display_data"
    },
    {
     "data": {
      "text/plain": "<Figure size 640x480 with 1 Axes>",
      "image/png": "[encoded data removed]"
     },
     "metadata": {},
     "output_type": "display_data"
    },
    {
     "data": {
      "text/plain": "<Figure size 640x480 with 1 Axes>",
      "image/png": "[encoded data removed]"
     },
     "metadata": {},
     "output_type": "display_data"
    }
   ],
   "source": [
    "uniques = bets_bookmark_res.index.get_level_values(0).unique()\n",
    "for i in list(uniques):\n",
    "    df_single = bets_bookmark_res.loc[i]\n",
    "    df_single.plot(kind='barh',stacked=True, title=i, xlabel='Correctness of bets')\n",
    "    plt.show()"
   ],
   "metadata": {
    "collapsed": false,
    "pycharm": {
     "name": "#%%\n"
    }
   }
  },
  {
   "cell_type": "code",
   "execution_count": 46,
   "outputs": [
    {
     "data": {
      "text/plain": "<Figure size 640x480 with 1 Axes>",
      "image/png": "[encoded data removed]"
     },
     "metadata": {},
     "output_type": "display_data"
    }
   ],
   "source": [
    "bets_bookmark_sum = bets_bookmark_res.droplevel(0).groupby(['type']).sum().loc[:, ['good_bet', 'wrong_bet']]\n",
    "bets_bookmark_sum.plot(kind='barh',stacked=True, title='All bets added together', xlabel='Correctness of bets')\n",
    "plt.show()"
   ],
   "metadata": {
    "collapsed": false,
    "pycharm": {
     "name": "#%%\n"
    }
   }
  },
  {
   "cell_type": "code",
   "execution_count": 47,
   "outputs": [],
   "source": [
    "streak_df = df_drop[['streak_last_wh', 'streak_last_wa', 'streak_last_lh', 'streak_last_la', 'result_match']]"
   ],
   "metadata": {
    "collapsed": false,
    "pycharm": {
     "name": "#%%\n"
    }
   }
  },
  {
   "cell_type": "code",
   "execution_count": 48,
   "outputs": [],
   "source": [
    "def check_streak_with_win_probability(X, colH, colA):\n",
    "    # print(f'colH: {X.get(colH)}\\ncolA: {X.get(colA)}\\n')\n",
    "    if ((X.get(colH) > X.get(colA)) & (X.get('result_match') == 'H')) |\\\n",
    "            ((X.get(colH) < X.get(colA)) & (X.get('result_match') == 'A')) |\\\n",
    "            ((X.get(colH) == X.get(colA)) & (X.get('result_match') == 'D')):\n",
    "        return True\n",
    "    else:\n",
    "        return False\n",
    "\n",
    "def aggregate_streaks(X, colH, colA):\n",
    "    new_df = pd.DataFrame(columns=[ 'type', 'good_streak', 'wrong_streak'])\n",
    "    df_ = X.copy()\n",
    "\n",
    "    df_['streak_vs_result'] = X[[colH, colA, 'result_match']].apply(lambda x: check_streak_with_win_probability(x, colH, colA), axis=1)\n",
    "\n",
    "    logger.debug(f\"len new col: {df_['streak_vs_result'].value_counts()}\")\n",
    "\n",
    "    df_group = df_.groupby(by=['result_match', 'streak_vs_result'], )['streak_vs_result'].count()\n",
    "    uniques = df_group.index.get_level_values(0).unique()\n",
    "\n",
    "    for i in list(uniques):\n",
    "        df_single = df_group.get(i)\n",
    "        dict_ = {\n",
    "            'type': i,\n",
    "            'good_streak': df_single[0],\n",
    "            'wrong_streak': df_single[1]\n",
    "        }\n",
    "        frame = pd.DataFrame(dict_, index=[0])\n",
    "        new_df = pd.concat([new_df, frame])\n",
    "    return new_df"
   ],
   "metadata": {
    "collapsed": false,
    "pycharm": {
     "name": "#%%\n"
    }
   }
  },
  {
   "cell_type": "code",
   "execution_count": 49,
   "outputs": [
    {
     "data": {
      "text/plain": "<Figure size 640x480 with 1 Axes>",
      "image/png": "[encoded data removed]"
     },
     "metadata": {},
     "output_type": "display_data"
    }
   ],
   "source": [
    "streak_df_agg = aggregate_streaks(df_drop, 'streak_last_wh', 'streak_last_wa')\n",
    "streak_df_agg.set_index(keys='type', inplace=True)\n",
    "streak_df_agg.plot(kind='barh',stacked=True, title='Check if teams with bigger streak wins', xlabel='Correctness streak')\n",
    "plt.show()"
   ],
   "metadata": {
    "collapsed": false,
    "pycharm": {
     "name": "#%%\n"
    }
   }
  },
  {
   "cell_type": "code",
   "execution_count": 50,
   "outputs": [
    {
     "data": {
      "text/plain": "<Figure size 640x480 with 1 Axes>",
      "image/png": "[encoded data removed]"
     },
     "metadata": {},
     "output_type": "display_data"
    }
   ],
   "source": [
    "streak_df_agg_a = aggregate_streaks(df_drop, 'streak_last_la', 'streak_last_lh')#%%\n",
    "streak_df_agg_a.set_index(keys='type', inplace=True)\n",
    "streak_df_agg_a.plot(kind='barh',stacked=True, title='Check if teams with bigger streak wins', xlabel='Correctness streak')\n",
    "plt.show()"
   ],
   "metadata": {
    "collapsed": false,
    "pycharm": {
     "name": "#%%\n"
    }
   }
  },
  {
   "cell_type": "code",
   "execution_count": 51,
   "outputs": [
    {
     "data": {
      "text/plain": "False    4987\nName: streak_vs_win, dtype: int64"
     },
     "execution_count": 51,
     "metadata": {},
     "output_type": "execute_result"
    }
   ],
   "source": [
    "df_drop['streak_vs_win'] = streak_df[['streak_last_wh', 'streak_last_wa']].apply(lambda x: check_streak_with_win_probability(x, 'streak_last_wh', 'streak_last_wa'), axis=1)\n",
    "# df_drop['streak_vs_win'].plot(kind='barh',stacked=True, title='All bets added together', xlabel='Correctness of bets')\n",
    "\n",
    "df_drop['streak_vs_win'].value_counts()"
   ],
   "metadata": {
    "collapsed": false,
    "pycharm": {
     "name": "#%%\n"
    }
   }
  },
  {
   "cell_type": "code",
   "execution_count": 52,
   "outputs": [],
   "source": [
    "df_drop.drop(['streak_vs_win'], axis=1, inplace=True)"
   ],
   "metadata": {
    "collapsed": false,
    "pycharm": {
     "name": "#%%\n"
    }
   }
  },
  {
   "cell_type": "code",
   "execution_count": 53,
   "outputs": [
    {
     "data": {
      "text/plain": "<Figure size 500x600 with 1 Axes>",
      "image/png": "[encoded data removed]"
     },
     "metadata": {},
     "output_type": "display_data"
    },
    {
     "data": {
      "text/plain": "count    4984.000000\nmean       48.162921\nstd         7.644228\nmin        22.000000\n25%        44.000000\n50%        48.000000\n75%        53.000000\nmax        78.000000\nName: last_match_possession_home, dtype: float64"
     },
     "execution_count": 53,
     "metadata": {},
     "output_type": "execute_result"
    }
   ],
   "source": [
    "df_drop.boxplot('last_match_possession_home', 'result_match', rot=30, figsize=(5, 6))\n",
    "plt.show()\n",
    "# probably cols to remove, check feature importance\n",
    "df_drop['last_match_possession_home'].loc[(df_drop['last_match_possession_home'] < 80) & (df_drop['last_match_possession_home'] > 20)].describe()"
   ],
   "metadata": {
    "collapsed": false,
    "pycharm": {
     "name": "#%%\n"
    }
   }
  },
  {
   "cell_type": "code",
   "execution_count": 54,
   "outputs": [
    {
     "data": {
      "text/plain": "country_name      5\nleague_name       5\nseason            4\nhome_team       128\naway_team       128\nresult_match      3\nlm_winner       126\nhome_winner       2\ndtype: int64"
     },
     "execution_count": 54,
     "metadata": {},
     "output_type": "execute_result"
    }
   ],
   "source": [
    "df_drop.select_dtypes(exclude=['number']).nunique()"
   ],
   "metadata": {
    "collapsed": false,
    "pycharm": {
     "name": "#%%\n"
    }
   }
  },
  {
   "cell_type": "code",
   "execution_count": 114,
   "outputs": [],
   "source": [
    "df_ = df_drop.drop(['home_winner'], axis=1)\n",
    "y = df_drop['result_match']"
   ],
   "metadata": {
    "collapsed": false,
    "pycharm": {
     "name": "#%%\n"
    }
   }
  },
  {
   "cell_type": "code",
   "execution_count": 115,
   "outputs": [],
   "source": [
    "categorical_columns = df_.drop('result_match', axis=1).select_dtypes(exclude=['number']).columns"
   ],
   "metadata": {
    "collapsed": false,
    "pycharm": {
     "name": "#%%\n"
    }
   }
  },
  {
   "cell_type": "code",
   "execution_count": 116,
   "outputs": [
    {
     "name": "stdout",
     "output_type": "stream",
     "text": [
      "Chi2 Statistic: 637.8828430342835, p-value: 6.234090518457194e-35\n",
      "Chi2 Statistic: 3.731519974229217, p-value: 0.15477853548247153\n"
     ]
    }
   ],
   "source": [
    "# Test chi2\n",
    "#Testing the relationship\n",
    "chi_res = chi2_contingency(pd.crosstab(df_drop['result_match'], df_drop['home_team']))\n",
    "print('Chi2 Statistic: {}, p-value: {}'.format(chi_res[0], chi_res[1]))\n",
    "\n",
    "property_dummies = pd.get_dummies(data = df_drop[['home_team', 'result_match']], columns = ['home_team'])\n",
    "\n",
    "chi_res = chi2_contingency(pd.crosstab(property_dummies['result_match'], property_dummies['home_team_West Bromwich Albion']))\n",
    "print('Chi2 Statistic: {}, p-value: {}'.format(chi_res[0], chi_res[1]))"
   ],
   "metadata": {
    "collapsed": false,
    "pycharm": {
     "name": "#%%\n"
    }
   }
  },
  {
   "cell_type": "code",
   "execution_count": 117,
   "outputs": [
    {
     "name": "stdout",
     "output_type": "stream",
     "text": [
      "         Column                      Hypothesis\n",
      "0  country_name          Reject Null Hypothesis\n",
      "1   league_name          Reject Null Hypothesis\n",
      "2        season  Fail to Reject Null Hypothesis\n",
      "3     home_team          Reject Null Hypothesis\n",
      "4     away_team          Reject Null Hypothesis\n",
      "5     lm_winner  Fail to Reject Null Hypothesis\n"
     ]
    }
   ],
   "source": [
    "chi2_check = []\n",
    "for i in categorical_columns:\n",
    "    if chi2_contingency(pd.crosstab(df_['result_match'], df_[i]))[1] < 0.05:\n",
    "        chi2_check.append('Reject Null Hypothesis')\n",
    "    else:\n",
    "        chi2_check.append('Fail to Reject Null Hypothesis')\n",
    "res = pd.DataFrame(data = [categorical_columns, chi2_check]).T\n",
    "res.columns = ['Column', 'Hypothesis']\n",
    "print(res)"
   ],
   "metadata": {
    "collapsed": false,
    "pycharm": {
     "name": "#%%\n"
    }
   }
  },
  {
   "cell_type": "code",
   "execution_count": 118,
   "outputs": [
    {
     "data": {
      "text/plain": "Fail to Reject Null Hypothesis    252\nReject Null Hypothesis             14\nName: Hypothesis, dtype: int64"
     },
     "execution_count": 118,
     "metadata": {},
     "output_type": "execute_result"
    }
   ],
   "source": [
    "# Bonferroni-adjusted method for correcting the p-value.\n",
    "# The formula is p/N, where p= the p-value of the original test and N= the number of planned pairwise comparisons.\n",
    "check = {}\n",
    "for i in res[res['Hypothesis'] == 'Reject Null Hypothesis']['Column']:\n",
    "    dummies = pd.get_dummies(df_drop[i])\n",
    "    bon_p_value = 0.05/df_drop[i].nunique()\n",
    "    for series in dummies:\n",
    "        if chi2_contingency(pd.crosstab(df_drop['result_match'], dummies[series]))[1] < bon_p_value:\n",
    "            check['{}_{}'.format(i, series)] = 'Reject Null Hypothesis'\n",
    "        else:\n",
    "            check['{}_{}'.format(i, series)] = 'Fail to Reject Null Hypothesis'\n",
    "res_chi_ph = pd.DataFrame(data = [check.keys(), check.values()]).T\n",
    "res_chi_ph.columns = ['Pair', 'Hypothesis']\n",
    "\n",
    "res_chi_ph.Hypothesis.value_counts()"
   ],
   "metadata": {
    "collapsed": false,
    "pycharm": {
     "name": "#%%\n"
    }
   }
  },
  {
   "cell_type": "code",
   "execution_count": 119,
   "outputs": [
    {
     "data": {
      "text/plain": "KNeighborsClassifier(n_neighbors=8)",
      "text/html": "<style>#sk-container-id-2 {color: black;background-color: white;}#sk-container-id-2 pre{padding: 0;}#sk-container-id-2 div.sk-toggleable {background-color: white;}#sk-container-id-2 label.sk-toggleable__label {cursor: pointer;display: block;width: 100%;margin-bottom: 0;padding: 0.3em;box-sizing: border-box;text-align: center;}#sk-container-id-2 label.sk-toggleable__label-arrow:before {content: \"▸\";float: left;margin-right: 0.25em;color: #696969;}#sk-container-id-2 label.sk-toggleable__label-arrow:hover:before {color: black;}#sk-container-id-2 div.sk-estimator:hover label.sk-toggleable__label-arrow:before {color: black;}#sk-container-id-2 div.sk-toggleable__content {max-height: 0;max-width: 0;overflow: hidden;text-align: left;background-color: #f0f8ff;}#sk-container-id-2 div.sk-toggleable__content pre {margin: 0.2em;color: black;border-radius: 0.25em;background-color: #f0f8ff;}#sk-container-id-2 input.sk-toggleable__control:checked~div.sk-toggleable__content {max-height: 200px;max-width: 100%;overflow: auto;}#sk-container-id-2 input.sk-toggleable__control:checked~label.sk-toggleable__label-arrow:before {content: \"▾\";}#sk-container-id-2 div.sk-estimator input.sk-toggleable__control:checked~label.sk-toggleable__label {background-color: #d4ebff;}#sk-container-id-2 div.sk-label input.sk-toggleable__control:checked~label.sk-toggleable__label {background-color: #d4ebff;}#sk-container-id-2 input.sk-hidden--visually {border: 0;clip: rect(1px 1px 1px 1px);clip: rect(1px, 1px, 1px, 1px);height: 1px;margin: -1px;overflow: hidden;padding: 0;position: absolute;width: 1px;}#sk-container-id-2 div.sk-estimator {font-family: monospace;background-color: #f0f8ff;border: 1px dotted black;border-radius: 0.25em;box-sizing: border-box;margin-bottom: 0.5em;}#sk-container-id-2 div.sk-estimator:hover {background-color: #d4ebff;}#sk-container-id-2 div.sk-parallel-item::after {content: \"\";width: 100%;border-bottom: 1px solid gray;flex-grow: 1;}#sk-container-id-2 div.sk-label:hover label.sk-toggleable__label {background-color: #d4ebff;}#sk-container-id-2 div.sk-serial::before {content: \"\";position: absolute;border-left: 1px solid gray;box-sizing: border-box;top: 0;bottom: 0;left: 50%;z-index: 0;}#sk-container-id-2 div.sk-serial {display: flex;flex-direction: column;align-items: center;background-color: white;padding-right: 0.2em;padding-left: 0.2em;position: relative;}#sk-container-id-2 div.sk-item {position: relative;z-index: 1;}#sk-container-id-2 div.sk-parallel {display: flex;align-items: stretch;justify-content: center;background-color: white;position: relative;}#sk-container-id-2 div.sk-item::before, #sk-container-id-2 div.sk-parallel-item::before {content: \"\";position: absolute;border-left: 1px solid gray;box-sizing: border-box;top: 0;bottom: 0;left: 50%;z-index: -1;}#sk-container-id-2 div.sk-parallel-item {display: flex;flex-direction: column;z-index: 1;position: relative;background-color: white;}#sk-container-id-2 div.sk-parallel-item:first-child::after {align-self: flex-end;width: 50%;}#sk-container-id-2 div.sk-parallel-item:last-child::after {align-self: flex-start;width: 50%;}#sk-container-id-2 div.sk-parallel-item:only-child::after {width: 0;}#sk-container-id-2 div.sk-dashed-wrapped {border: 1px dashed gray;margin: 0 0.4em 0.5em 0.4em;box-sizing: border-box;padding-bottom: 0.4em;background-color: white;}#sk-container-id-2 div.sk-label label {font-family: monospace;font-weight: bold;display: inline-block;line-height: 1.2em;}#sk-container-id-2 div.sk-label-container {text-align: center;}#sk-container-id-2 div.sk-container {/* jupyter's `normalize.less` sets `[hidden] { display: none; }` but bootstrap.min.css set `[hidden] { display: none !important; }` so we also need the `!important` here to be able to override the default hidden behavior on the sphinx rendered scikit-learn.org. See: https://github.com/scikit-learn/scikit-learn/issues/21755 */display: inline-block !important;position: relative;}#sk-container-id-2 div.sk-text-repr-fallback {display: none;}</style><div id=\"sk-container-id-2\" class=\"sk-top-container\"><div class=\"sk-text-repr-fallback\"><pre>KNeighborsClassifier(n_neighbors=8)</pre><b>In a Jupyter environment, please rerun this cell to show the HTML representation or trust the notebook. <br />On GitHub, the HTML representation is unable to render, please try loading this page with nbviewer.org.</b></div><div class=\"sk-container\" hidden><div class=\"sk-item\"><div class=\"sk-estimator sk-toggleable\"><input class=\"sk-toggleable__control sk-hidden--visually\" id=\"sk-estimator-id-2\" type=\"checkbox\" checked><label for=\"sk-estimator-id-2\" class=\"sk-toggleable__label sk-toggleable__label-arrow\">KNeighborsClassifier</label><div class=\"sk-toggleable__content\"><pre>KNeighborsClassifier(n_neighbors=8)</pre></div></div></div></div></div>"
     },
     "execution_count": 119,
     "metadata": {},
     "output_type": "execute_result"
    }
   ],
   "source": [
    "data_log = pd.get_dummies(data=df_, columns = df_.select_dtypes(exclude = 'number').drop('result_match', axis =1).columns, drop_first =True)\n",
    "data_log['result_match'] = data_log['result_match'].apply(lambda x: 0 if x == 'H' else (1 if x == 'D' else 2))\n",
    "\n",
    "X_train, X_test, y_train, y_test = train_test_split(data_log.drop('result_match', axis =1), data_log['result_match'], test_size = 0.2, random_state=333)\n",
    "\n",
    "N_NEIGHBORS = 8\n",
    "clf_model_kneighbor = KNeighborsClassifier\n",
    "\n",
    "classifier = clf_model_kneighbor(n_neighbors=N_NEIGHBORS)\n",
    "classifier.fit(X_train, y_train)"
   ],
   "metadata": {
    "collapsed": false,
    "pycharm": {
     "name": "#%%\n"
    }
   }
  },
  {
   "cell_type": "code",
   "execution_count": 120,
   "outputs": [
    {
     "name": "stderr",
     "output_type": "stream",
     "text": [
      "c:\\users\\kamil\\documents\\eu_soccer_ml\\venv\\lib\\site-packages\\sklearn\\base.py:450: UserWarning: X does not have valid feature names, but KNeighborsClassifier was fitted with feature names\n",
      "  warnings.warn(\n"
     ]
    },
    {
     "data": {
      "text/plain": "<Figure size 1000x800 with 1 Axes>",
      "image/png": "[encoded data removed]"
     },
     "metadata": {},
     "output_type": "display_data"
    }
   ],
   "source": [
    "# Decision boundary graph\n",
    "data = X_train.select_dtypes(include=['number']).loc[:100, ['avg_l5m_h', 'B365H']]\n",
    "def plot_decision_boundries(X, y, n_neighbors=1):\n",
    "    clf = KNeighborsClassifier(n_neighbors=n_neighbors)\n",
    "    clf.fit(X, y)\n",
    "\n",
    "    x_min, x_max = X.iloc[:, 0].min() - 3, X.iloc[:, 0].max() + 3\n",
    "    y_min, y_max = X.iloc[:, 1].min() - 3, X.iloc[:, 1].max() + 3\n",
    "\n",
    "    xx, yy = np.meshgrid(np.arange(x_min, x_max, 0.01), np.arange(y_min, y_max, 0.01))\n",
    "    mesh = np.c_[xx.ravel(), yy.ravel()]\n",
    "    z = clf.predict(mesh)\n",
    "    z = z.reshape(xx.shape)\n",
    "\n",
    "    plt.figure(figsize=(10, 8))\n",
    "    plt.pcolormesh(xx, yy, z, cmap='gnuplot', alpha=0.1)\n",
    "    plt.scatter(X.iloc[:, 0], X.iloc[:, 1], c=y, cmap='gnuplot', edgecolors='r')\n",
    "    plt.xlim(xx.min(), xx.max())\n",
    "    plt.ylim(yy.min(), yy.max())\n",
    "    plt.title(f'3-class classification k={n_neighbors}')\n",
    "    plt.show()\n",
    "\n",
    "\n",
    "plot_decision_boundries(data, y_train.loc[:100], n_neighbors=N_NEIGHBORS)"
   ],
   "metadata": {
    "collapsed": false,
    "pycharm": {
     "name": "#%%\n"
    }
   }
  },
  {
   "cell_type": "code",
   "execution_count": 121,
   "outputs": [
    {
     "name": "stdout",
     "output_type": "stream",
     "text": [
      "0.48296593186372744\n",
      "              precision    recall  f1-score   support\n",
      "\n",
      "           0       0.54      0.76      0.63       484\n",
      "           1       0.27      0.18      0.22       243\n",
      "           2       0.47      0.25      0.33       271\n",
      "\n",
      "    accuracy                           0.48       998\n",
      "   macro avg       0.42      0.40      0.39       998\n",
      "weighted avg       0.45      0.48      0.45       998\n",
      "\n"
     ]
    }
   ],
   "source": [
    "predictions = classifier.predict(X_test)\n",
    "print(accuracy_score(y_test, predictions))\n",
    "print(classification_report(y_test,predictions))"
   ],
   "metadata": {
    "collapsed": false,
    "pycharm": {
     "name": "#%%\n"
    }
   }
  },
  {
   "cell_type": "code",
   "execution_count": 122,
   "outputs": [
    {
     "data": {
      "text/plain": "<Figure size 1000x800 with 1 Axes>",
      "image/png": "[encoded data removed]"
     },
     "metadata": {},
     "output_type": "display_data"
    }
   ],
   "source": [
    "#Creating the ROC-AUC plot, * multiclass format is not supported\n",
    "preds = classifier.predict_proba(X_test)[:,1]\n",
    "fpr, tpr, threshold = roc_curve(y_test, preds, pos_label=1)\n",
    "roc_auc = auc(fpr, tpr)\n",
    "plt.figure(figsize=(10,8))\n",
    "plt.title('Receiver Operator Characteristic')\n",
    "plt.plot(fpr, tpr, 'b', label = 'AUC = {}'.format(round(roc_auc, 2)))\n",
    "plt.legend(loc = 'lower right')\n",
    "plt.plot([0,1], [0,1], 'r--')\n",
    "plt.xlim([0,1])\n",
    "plt.ylim([0,1])\n",
    "plt.ylabel('True Positive Rate')\n",
    "plt.xlabel('False Positive Rate')\n",
    "plt.show()"
   ],
   "metadata": {
    "collapsed": false,
    "pycharm": {
     "name": "#%%\n"
    }
   }
  },
  {
   "cell_type": "code",
   "execution_count": 123,
   "outputs": [
    {
     "name": "stdout",
     "output_type": "stream",
     "text": [
      "['country_name_France', 'country_name_Germany', 'league_name_France Ligue 1', 'league_name_Germany 1. Bundesliga', 'home_team_Chelsea', 'home_team_FC Barcelona', 'home_team_Inter', 'home_team_Manchester United', 'home_team_Real Madrid CF', 'away_team_Chelsea', 'away_team_FC Barcelona', 'away_team_Manchester United', 'away_team_Milan', 'away_team_Real Madrid CF']\n"
     ]
    }
   ],
   "source": [
    "significant_chi = []\n",
    "significant_chi_ = []\n",
    "for i in res_chi_ph[res_chi_ph['Hypothesis'] == 'Reject Null Hypothesis']['Pair']:\n",
    "    significant_chi.append(i)\n",
    "# print(significant_chi)\n",
    "\n",
    "#Including the numerical data, as I have not analyze any of this feature\n",
    "for i in X_train.select_dtypes('number').columns:\n",
    "    significant_chi_.append(i)\n",
    "print(significant_chi)"
   ],
   "metadata": {
    "collapsed": false,
    "pycharm": {
     "name": "#%%\n"
    }
   }
  },
  {
   "cell_type": "code",
   "execution_count": 124,
   "outputs": [
    {
     "name": "stdout",
     "output_type": "stream",
     "text": [
      "0.48296593186372744\n",
      "              precision    recall  f1-score   support\n",
      "\n",
      "           0       0.54      0.76      0.63       484\n",
      "           1       0.27      0.18      0.22       243\n",
      "           2       0.47      0.25      0.33       271\n",
      "\n",
      "    accuracy                           0.48       998\n",
      "   macro avg       0.42      0.40      0.39       998\n",
      "weighted avg       0.45      0.48      0.45       998\n",
      "\n"
     ]
    }
   ],
   "source": [
    "#Training the model only with the significant features and the numerical features\n",
    "log_model = clf_model_kneighbor(n_neighbors=N_NEIGHBORS)\n",
    "log_model.fit(X_train[significant_chi_], y_train)\n",
    "#Metrics check\n",
    "predictions = log_model.predict(X_test[significant_chi_])\n",
    "print(accuracy_score(y_test, predictions))\n",
    "print(classification_report(y_test,predictions))"
   ],
   "metadata": {
    "collapsed": false,
    "pycharm": {
     "name": "#%%\n"
    }
   }
  },
  {
   "cell_type": "code",
   "execution_count": 125,
   "outputs": [
    {
     "data": {
      "text/plain": "<Figure size 800x400 with 2 Axes>",
      "image/png": "[encoded data removed]"
     },
     "metadata": {},
     "output_type": "display_data"
    }
   ],
   "source": [
    "# Plot confusion matrix\n",
    "fig, ax = plt.subplots(figsize=(8, 4))\n",
    "cmp = ConfusionMatrixDisplay(\n",
    "    confusion_matrix(y_test, predictions),\n",
    "    display_labels=[\"class_H\", \"class_D\", \"class_A\"],\n",
    ")\n",
    "\n",
    "cmp.plot(ax=ax)\n",
    "plt.show();"
   ],
   "metadata": {
    "collapsed": false,
    "pycharm": {
     "name": "#%%\n"
    }
   }
  },
  {
   "cell_type": "code",
   "execution_count": 126,
   "outputs": [],
   "source": [
    "from sklearn.feature_selection import SelectKBest, chi2 # for chi-squared feature selection\n",
    "from sklearn.preprocessing import LabelEncoder, OrdinalEncoder"
   ],
   "metadata": {
    "collapsed": false,
    "pycharm": {
     "name": "#%%\n"
    }
   }
  },
  {
   "cell_type": "code",
   "execution_count": 127,
   "outputs": [
    {
     "name": "stdout",
     "output_type": "stream",
     "text": [
      "Number of categorical features : 7\n",
      "Number of continuous features : 34\n"
     ]
    }
   ],
   "source": [
    "# number of categorical features\n",
    "print(\"Number of categorical features : {}\".format(len(df_.select_dtypes(include=['object', 'category']).columns)))\n",
    "print(\"Number of continuous features : {}\".format(len(df_.select_dtypes(include=['number']).columns)))\n"
   ],
   "metadata": {
    "collapsed": false,
    "pycharm": {
     "name": "#%%\n"
    }
   }
  },
  {
   "cell_type": "code",
   "execution_count": 128,
   "outputs": [
    {
     "name": "stdout",
     "output_type": "stream",
     "text": [
      " stage: 2.701567\n",
      " B365H: 430.333392\n",
      " B365D: 31.740214\n",
      " B365A: 985.845094\n",
      " BWH: 377.317310\n",
      " BWD: 30.013281\n",
      " BWA: 777.760583\n",
      " LBH: 350.748111\n",
      " LBD: 23.647406\n",
      " LBA: 773.849693\n",
      " WHH: 383.054715\n",
      " WHD: 26.513713\n",
      " WHA: 869.225748\n",
      " lm_goals_away: 42.699590\n",
      " lm_goals_home: 30.279489\n",
      " avg_l5m_hh: 26.557142\n",
      " avg_l5m_h: 24.441665\n",
      " avg_l5m_aa: 44.477419\n",
      " avg_l5m_a: 31.642695\n",
      " streak_last_wh: 69.267695\n",
      " streak_last_wa: 109.154509\n",
      " streak_last_lh: 74.537890\n",
      " streak_last_la: 56.926603\n",
      " last_match_possession_away: 103.560390\n",
      " last_match_possession_home: 109.872486\n",
      " days_since_lma: 15.071318\n",
      " days_since_lmh: 1.444330\n",
      " avg_points_l5m_h: 7.793684\n",
      " avg_points_l5m_a: 7.591900\n",
      " points_home: 156.042251\n",
      " points_away: 89.738921\n",
      " date_year: 0.000411\n",
      " date_month: 0.403796\n",
      " date_day: 21.741715\n",
      " country_name_France: 15.035114\n",
      " country_name_Germany: 6.484850\n",
      " country_name_Italy: 1.898308\n",
      " country_name_Spain: 4.684040\n",
      " league_name_France Ligue 1: 15.035114\n",
      " league_name_Germany 1. Bundesliga: 6.484850\n",
      " league_name_Italy Serie A: 1.898308\n",
      " league_name_Spain LIGA BBVA: 4.684040\n",
      " season_2009/2010: 2.611434\n",
      " season_2010/2011: 0.181157\n",
      " season_2011/2012: 0.335904\n",
      " home_team_1. FC Köln: 4.653822\n",
      " home_team_1. FC Nürnberg: 2.364788\n",
      " home_team_1. FSV Mainz 05: 1.654427\n",
      " home_team_AC Ajaccio: nan\n",
      " home_team_AC Arles-Avignon: 5.818586\n",
      " home_team_AJ Auxerre: 3.488007\n",
      " home_team_AS Monaco: 2.727665\n",
      " home_team_AS Nancy-Lorraine: 0.549426\n",
      " home_team_AS Saint-Étienne: 2.616558\n",
      " home_team_Arsenal: 5.930688\n",
      " home_team_Aston Villa: 7.793616\n",
      " home_team_Atalanta: 0.075470\n",
      " home_team_Athletic Club de Bilbao: 3.337001\n",
      " home_team_Atlético Madrid: 5.290169\n",
      " home_team_Bari: 3.362515\n",
      " home_team_Bayer 04 Leverkusen: 3.253390\n",
      " home_team_Birmingham City: 3.358761\n",
      " home_team_Blackburn Rovers: 3.826671\n",
      " home_team_Blackpool: 4.454649\n",
      " home_team_Bologna: 3.291806\n",
      " home_team_Bolton Wanderers: 2.214562\n",
      " home_team_Borussia Dortmund: 10.106053\n",
      " home_team_Borussia Mönchengladbach: 3.638744\n",
      " home_team_Brescia: 1.910772\n",
      " home_team_Burnley: 1.203988\n",
      " home_team_CA Osasuna: 2.214826\n",
      " home_team_CD Numancia: 1.144076\n",
      " home_team_CD Tenerife: 0.770694\n",
      " home_team_Cagliari: 1.997908\n",
      " home_team_Catania: 0.437344\n",
      " home_team_Cesena: 3.635854\n",
      " home_team_Chelsea: 14.035060\n",
      " home_team_Chievo Verona: 10.420196\n",
      " home_team_DSC Arminia Bielefeld: 6.967010\n",
      " home_team_Dijon FCO: 2.745540\n",
      " home_team_Eintracht Frankfurt: 6.507191\n",
      " home_team_Everton: 0.645694\n",
      " home_team_FC Augsburg: 3.648671\n",
      " home_team_FC Barcelona: 23.037719\n",
      " home_team_FC Bayern Munich: 12.274897\n",
      " home_team_FC Energie Cottbus: 8.515438\n",
      " home_team_FC Lorient: 11.012882\n",
      " home_team_FC Schalke 04: 3.857973\n",
      " home_team_FC Sochaux-Montbéliard: 0.609626\n",
      " home_team_FC St. Pauli: 6.634524\n",
      " home_team_Fiorentina: 3.135591\n",
      " home_team_Fulham: 0.468337\n",
      " home_team_Genoa: 1.599369\n",
      " home_team_Getafe CF: 0.960878\n",
      " home_team_Girondins de Bordeaux: 0.524722\n",
      " home_team_Granada CF: 3.648671\n",
      " home_team_Hamburger SV: 1.113653\n",
      " home_team_Hannover 96: 1.125742\n",
      " home_team_Hertha BSC Berlin: 1.973550\n",
      " home_team_Hull City: 6.339819\n",
      " home_team_Hércules Club de Fútbol: 0.894303\n",
      " home_team_Inter: 14.742381\n",
      " home_team_Juventus: 1.920447\n",
      " home_team_Karlsruher SC: 0.938333\n",
      " home_team_LOSC Lille: 4.389594\n",
      " home_team_Lazio: 0.850500\n",
      " home_team_Lecce: 6.970766\n",
      " home_team_Levante UD: 1.604703\n",
      " home_team_Liverpool: 5.230623\n",
      " home_team_Livorno: 2.488985\n",
      " home_team_Manchester City: 10.694932\n",
      " home_team_Manchester United: 33.574456\n",
      " home_team_Middlesbrough: 1.243228\n",
      " home_team_Milan: 10.647007\n",
      " home_team_Montpellier Hérault SC: 2.812642\n",
      " home_team_Málaga CF: 3.148333\n",
      " home_team_Napoli: 3.655035\n",
      " home_team_Newcastle United: 4.888700\n",
      " home_team_Norwich City: 0.549426\n",
      " home_team_Novara: 1.245639\n",
      " home_team_OGC Nice: 0.067154\n",
      " home_team_Olympique Lyonnais: 3.764639\n",
      " home_team_Olympique de Marseille: 2.735450\n",
      " home_team_Palermo: 6.297609\n",
      " home_team_Paris Saint-Germain: 3.764639\n",
      " home_team_Parma: 1.372851\n",
      " home_team_Portsmouth: 7.216978\n",
      " home_team_Queens Park Rangers: 2.701268\n",
      " home_team_RC Deportivo de La Coruña: 0.517038\n",
      " home_team_RC Lens: 1.653388\n",
      " home_team_RC Recreativo: 9.816440\n",
      " home_team_RCD Espanyol: 1.545995\n",
      " home_team_RCD Mallorca: 2.015672\n",
      " home_team_Racing Santander: 4.792027\n",
      " home_team_Rayo Vallecano: 1.245639\n",
      " home_team_Real Betis Balompié: 2.216685\n",
      " home_team_Real Madrid CF: 32.340506\n",
      " home_team_Real Sociedad: 2.027815\n",
      " home_team_Real Sporting de Gijón: 5.344890\n",
      " home_team_Real Valladolid: 4.469336\n",
      " home_team_Real Zaragoza: 2.076293\n",
      " home_team_Reggio Calabria: 4.073329\n",
      " home_team_Roma: 7.235574\n",
      " home_team_SC Freiburg: 8.842208\n",
      " home_team_SM Caen: 1.053747\n",
      " home_team_SV Werder Bremen: 0.883940\n",
      " home_team_Sampdoria: 2.312082\n",
      " home_team_Sevilla FC: 1.310452\n",
      " home_team_Siena: 2.407976\n",
      " home_team_Stade Brestois 29: 0.792383\n",
      " home_team_Stade Rennais FC: 0.208999\n",
      " home_team_Stoke City: 0.133103\n",
      " home_team_Sunderland: 3.563972\n",
      " home_team_Swansea City: 1.694631\n",
      " home_team_TSG 1899 Hoffenheim: 2.844069\n",
      " home_team_Torino: 0.586895\n",
      " home_team_Tottenham Hotspur: 3.284882\n",
      " home_team_Toulouse FC: 1.487430\n",
      " home_team_UD Almería: 0.960566\n",
      " home_team_Udinese: 2.979981\n",
      " home_team_Valencia CF: 6.771137\n",
      " home_team_Valenciennes FC: 7.046268\n",
      " home_team_VfB Stuttgart: 0.895111\n",
      " home_team_VfL Bochum: 9.998017\n",
      " home_team_VfL Wolfsburg: 2.320534\n",
      " home_team_Villarreal CF: 3.297127\n",
      " home_team_West Bromwich Albion: 8.909298\n",
      " home_team_West Ham United: 3.230201\n",
      " home_team_Wigan Athletic: 8.432188\n",
      " home_team_Wolverhampton Wanderers: 2.389253\n",
      " home_team_Xerez Club Deportivo: 4.015421\n",
      " home_team_Évian Thonon Gaillard FC: 0.921403\n",
      " away_team_1. FC Köln: 1.823776\n",
      " away_team_1. FC Nürnberg: 0.191365\n",
      " away_team_1. FSV Mainz 05: 1.001113\n",
      " away_team_AC Ajaccio: 1.097266\n",
      " away_team_AC Arles-Avignon: 3.292195\n",
      " away_team_AJ Auxerre: 10.612723\n",
      " away_team_AS Monaco: 0.175403\n",
      " away_team_AS Nancy-Lorraine: 0.805810\n",
      " away_team_AS Saint-Étienne: 0.792383\n",
      " away_team_Arsenal: 6.818664\n",
      " away_team_Aston Villa: 3.957386\n",
      " away_team_Atalanta: 3.953792\n",
      " away_team_Athletic Club de Bilbao: 0.458083\n",
      " away_team_Atlético Madrid: 1.362037\n",
      " away_team_Bari: 3.817839\n",
      " away_team_Bayer 04 Leverkusen: 13.313043\n",
      " away_team_Birmingham City: 2.392248\n",
      " away_team_Blackburn Rovers: 1.731175\n",
      " away_team_Blackpool: 1.231737\n",
      " away_team_Bologna: 0.813644\n",
      " away_team_Bolton Wanderers: 4.369345\n",
      " away_team_Borussia Dortmund: 13.922508\n",
      " away_team_Borussia Mönchengladbach: 1.921193\n",
      " away_team_Brescia: 4.509527\n",
      " away_team_Burnley: 14.811955\n",
      " away_team_CA Osasuna: 5.262011\n",
      " away_team_CD Numancia: 9.670032\n",
      " away_team_CD Tenerife: 9.459561\n",
      " away_team_Cagliari: 1.654487\n",
      " away_team_Catania: 12.012028\n",
      " away_team_Cesena: 0.881582\n",
      " away_team_Chelsea: 18.474901\n",
      " away_team_Chievo Verona: 0.038075\n",
      " away_team_DSC Arminia Bielefeld: 4.695359\n",
      " away_team_Dijon FCO: nan\n",
      " away_team_Eintracht Frankfurt: 0.179339\n",
      " away_team_Everton: 3.005311\n",
      " away_team_FC Augsburg: 0.549426\n",
      " away_team_FC Barcelona: 47.490775\n",
      " away_team_FC Bayern Munich: 13.779683\n",
      " away_team_FC Energie Cottbus: 1.947429\n",
      " away_team_FC Lorient: 0.208738\n",
      " away_team_FC Schalke 04: 1.167203\n",
      " away_team_FC Sochaux-Montbéliard: 0.745937\n",
      " away_team_FC St. Pauli: 4.621898\n",
      " away_team_Fiorentina: 2.571942\n",
      " away_team_Fulham: 8.082342\n",
      " away_team_Genoa: 0.832929\n",
      " away_team_Getafe CF: 1.838560\n",
      " away_team_Girondins de Bordeaux: 7.046268\n",
      " away_team_Granada CF: 1.655234\n",
      " away_team_Hamburger SV: 0.181271\n",
      " away_team_Hannover 96: 3.129285\n",
      " away_team_Hertha BSC Berlin: 2.057530\n",
      " away_team_Hull City: 3.572418\n",
      " away_team_Hércules Club de Fútbol: 3.957592\n",
      " away_team_Inter: 18.255542\n",
      " away_team_Juventus: 9.811682\n",
      " away_team_Karlsruher SC: 4.585530\n",
      " away_team_LOSC Lille: 9.728953\n",
      " away_team_Lazio: 2.688140\n",
      " away_team_Lecce: 2.613063\n",
      " away_team_Levante UD: 0.160919\n",
      " away_team_Liverpool: 2.820682\n",
      " away_team_Livorno: 3.712744\n",
      " away_team_Manchester City: 5.435218\n",
      " away_team_Manchester United: 24.179584\n",
      " away_team_Middlesbrough: 5.648979\n",
      " away_team_Milan: 8.914833\n",
      " away_team_Montpellier Hérault SC: 10.612591\n",
      " away_team_Málaga CF: 1.083854\n",
      " away_team_Napoli: 0.023912\n",
      " away_team_Newcastle United: 0.364350\n",
      " away_team_Norwich City: 1.897584\n",
      " away_team_Novara: 1.897584\n",
      " away_team_OGC Nice: 1.862729\n",
      " away_team_Olympique Lyonnais: 1.393221\n",
      " away_team_Olympique de Marseille: 4.633820\n",
      " away_team_Palermo: 2.868536\n",
      " away_team_Paris Saint-Germain: 0.296288\n",
      " away_team_Parma: 2.623577\n",
      " away_team_Portsmouth: 4.762961\n",
      " away_team_Queens Park Rangers: 1.771511\n",
      " away_team_RC Deportivo de La Coruña: 0.653328\n",
      " away_team_RC Lens: 1.145041\n",
      " away_team_RC Recreativo: 0.160703\n",
      " away_team_RCD Espanyol: 4.524336\n",
      " away_team_RCD Mallorca: 3.604043\n",
      " away_team_Racing Santander: 0.393839\n",
      " away_team_Rayo Vallecano: 1.363833\n",
      " away_team_Real Betis Balompié: 0.253432\n",
      " away_team_Real Madrid CF: 40.931571\n",
      " away_team_Real Sociedad: 6.785831\n",
      " away_team_Real Sporting de Gijón: 0.816939\n",
      " away_team_Real Valladolid: 1.009009\n",
      " away_team_Real Zaragoza: 0.959668\n",
      " away_team_Reggio Calabria: 1.119032\n",
      " away_team_Roma: 5.137308\n",
      " away_team_SC Freiburg: 1.549431\n",
      " away_team_SM Caen: 0.024517\n",
      " away_team_SV Werder Bremen: 2.803595\n",
      " away_team_Sampdoria: 1.891480\n",
      " away_team_Sevilla FC: 6.619119\n",
      " away_team_Siena: 3.133898\n",
      " away_team_Stade Brestois 29: 1.437530\n",
      " away_team_Stade Rennais FC: 0.973714\n",
      " away_team_Stoke City: 2.772488\n",
      " away_team_Sunderland: 1.862208\n",
      " away_team_Swansea City: 1.897584\n",
      " away_team_TSG 1899 Hoffenheim: 0.479165\n",
      " away_team_Torino: 3.887824\n",
      " away_team_Tottenham Hotspur: 1.619932\n",
      " away_team_Toulouse FC: 1.539960\n",
      " away_team_UD Almería: 7.055856\n",
      " away_team_Udinese: 0.047249\n",
      " away_team_Valencia CF: 8.581327\n",
      " away_team_Valenciennes FC: 3.764639\n",
      " away_team_VfB Stuttgart: 1.566907\n",
      " away_team_VfL Bochum: 2.501143\n",
      " away_team_VfL Wolfsburg: 0.931971\n",
      " away_team_Villarreal CF: 2.894553\n",
      " away_team_West Bromwich Albion: 3.134609\n",
      " away_team_West Ham United: 4.518157\n",
      " away_team_Wigan Athletic: 3.264141\n",
      " away_team_Wolverhampton Wanderers: 2.259969\n",
      " away_team_Xerez Club Deportivo: 2.351646\n",
      " away_team_Évian Thonon Gaillard FC: 2.903131\n",
      " lm_winner_1. FC Köln: 0.879884\n",
      " lm_winner_1. FC Nürnberg: 1.919287\n",
      " lm_winner_1. FSV Mainz 05: 2.440259\n",
      " lm_winner_AC Arles-Avignon: 2.903263\n",
      " lm_winner_AJ Auxerre: 7.406898\n",
      " lm_winner_AS Monaco: 1.653388\n",
      " lm_winner_AS Nancy-Lorraine: 4.438834\n",
      " lm_winner_AS Saint-Étienne: 5.402535\n",
      " lm_winner_Arsenal: 0.848619\n",
      " lm_winner_Aston Villa: 5.602488\n",
      " lm_winner_Atalanta: 0.008253\n",
      " lm_winner_Athletic Club de Bilbao: 0.852074\n",
      " lm_winner_Atlético Madrid: 1.666973\n",
      " lm_winner_Bari: 1.828878\n",
      " lm_winner_Bayer 04 Leverkusen: 3.563972\n",
      " lm_winner_Birmingham City: 1.479396\n",
      " lm_winner_Blackburn Rovers: 0.714010\n",
      " lm_winner_Blackpool: 4.064301\n",
      " lm_winner_Bologna: 1.564694\n",
      " lm_winner_Bolton Wanderers: 1.772177\n",
      " lm_winner_Borussia Dortmund: 0.014107\n",
      " lm_winner_Borussia Mönchengladbach: 0.674846\n",
      " lm_winner_Brescia: 0.296288\n",
      " lm_winner_Burnley: 4.187370\n",
      " lm_winner_CA Osasuna: 3.701703\n",
      " lm_winner_CD Numancia: 6.347573\n",
      " lm_winner_CD Tenerife: 2.393781\n",
      " lm_winner_Cagliari: 0.199387\n",
      " lm_winner_Catania: 2.956485\n",
      " lm_winner_Cesena: 0.204733\n",
      " lm_winner_Chelsea: 1.678192\n",
      " lm_winner_Chievo Verona: 1.913336\n",
      " lm_winner_DSC Arminia Bielefeld: 13.182499\n",
      " lm_winner_Eintracht Frankfurt: 1.367530\n",
      " lm_winner_Everton: 1.668883\n",
      " lm_winner_FC Augsburg: 3.452688\n",
      " lm_winner_FC Barcelona: 4.321577\n",
      " lm_winner_FC Bayern Munich: 0.924472\n",
      " lm_winner_FC Energie Cottbus: 0.692098\n",
      " lm_winner_FC Lorient: 0.208738\n",
      " lm_winner_FC Schalke 04: 1.210061\n",
      " lm_winner_FC Sochaux-Montbéliard: 0.018868\n",
      " lm_winner_FC St. Pauli: 2.630544\n",
      " lm_winner_Fiorentina: 1.481326\n",
      " lm_winner_Fulham: 9.807777\n",
      " lm_winner_Genoa: 0.047298\n",
      " lm_winner_Getafe CF: 0.117019\n",
      " lm_winner_Girondins de Bordeaux: 6.759248\n",
      " lm_winner_Granada CF: 2.745540\n",
      " lm_winner_Hamburger SV: 8.103255\n",
      " lm_winner_Hannover 96: 0.975048\n",
      " lm_winner_Hertha BSC Berlin: 3.398012\n",
      " lm_winner_Hull City: 0.822343\n",
      " lm_winner_Hércules Club de Fútbol: 0.674035\n",
      " lm_winner_Inter: 1.644003\n",
      " lm_winner_Juventus: 2.992056\n",
      " lm_winner_Karlsruher SC: 2.630544\n",
      " lm_winner_LOSC Lille: 0.077272\n",
      " lm_winner_Lazio: 0.431187\n",
      " lm_winner_Lecce: 0.715687\n",
      " lm_winner_Levante UD: 0.681019\n",
      " lm_winner_Liverpool: 1.767486\n",
      " lm_winner_Livorno: 0.200313\n",
      " lm_winner_Manchester City: 0.876411\n",
      " lm_winner_Manchester United: 4.319944\n",
      " lm_winner_Middlesbrough: 0.028301\n",
      " lm_winner_Milan: 0.642810\n",
      " lm_winner_Montpellier Hérault SC: 6.556709\n",
      " lm_winner_Málaga CF: 2.049024\n",
      " lm_winner_Napoli: 0.383209\n",
      " lm_winner_Newcastle United: 0.147196\n",
      " lm_winner_Norwich City: 2.000397\n",
      " lm_winner_Novara: 2.903263\n",
      " lm_winner_OGC Nice: 1.098851\n",
      " lm_winner_Olympique Lyonnais: 0.119877\n",
      " lm_winner_Olympique de Marseille: 1.858201\n",
      " lm_winner_Palermo: 3.992761\n",
      " lm_winner_Paris Saint-Germain: 0.914618\n",
      " lm_winner_Parma: 0.268616\n",
      " lm_winner_Portsmouth: 1.913336\n",
      " lm_winner_Queens Park Rangers: 2.693142\n",
      " lm_winner_RC Deportivo de La Coruña: 0.032175\n",
      " lm_winner_RC Lens: 0.549426\n",
      " lm_winner_RC Recreativo: 1.982480\n",
      " lm_winner_RCD Espanyol: 4.874021\n",
      " lm_winner_RCD Mallorca: 7.848325\n",
      " lm_winner_Racing Santander: 1.801915\n",
      " lm_winner_Rayo Vallecano: 1.363833\n",
      " lm_winner_Real Betis Balompié: 0.134308\n",
      " lm_winner_Real Madrid CF: 16.067403\n",
      " lm_winner_Real Sociedad: 3.630480\n",
      " lm_winner_Real Sporting de Gijón: 2.283360\n",
      " lm_winner_Real Valladolid: 0.324636\n",
      " lm_winner_Real Zaragoza: 0.383177\n",
      " lm_winner_Reggio Calabria: 1.069769\n",
      " lm_winner_Roma: 0.717666\n",
      " lm_winner_SC Freiburg: 3.694041\n",
      " lm_winner_SM Caen: 0.296288\n",
      " lm_winner_SV Werder Bremen: 1.046143\n",
      " lm_winner_Sampdoria: 3.232394\n",
      " lm_winner_Sevilla FC: 2.541561\n",
      " lm_winner_Siena: 0.838530\n",
      " lm_winner_Stade Brestois 29: 1.145041\n",
      " lm_winner_Stade Rennais FC: 1.179644\n",
      " lm_winner_Stoke City: 2.665222\n",
      " lm_winner_Sunderland: 1.533476\n",
      " lm_winner_Swansea City: 1.897584\n",
      " lm_winner_TSG 1899 Hoffenheim: 1.777309\n",
      " lm_winner_Torino: 1.862729\n",
      " lm_winner_Tottenham Hotspur: 0.246164\n",
      " lm_winner_Toulouse FC: 0.559189\n",
      " lm_winner_UD Almería: 2.501901\n",
      " lm_winner_Udinese: 2.465446\n",
      " lm_winner_Valencia CF: 0.194059\n",
      " lm_winner_Valenciennes FC: 2.812062\n",
      " lm_winner_VfB Stuttgart: 0.817575\n",
      " lm_winner_VfL Bochum: 1.803085\n",
      " lm_winner_VfL Wolfsburg: 0.651205\n",
      " lm_winner_Villarreal CF: 2.658754\n",
      " lm_winner_West Bromwich Albion: 1.364613\n",
      " lm_winner_West Ham United: 3.506036\n",
      " lm_winner_Wigan Athletic: 1.807859\n",
      " lm_winner_Wolverhampton Wanderers: 1.207852\n",
      " lm_winner_Xerez Club Deportivo: 2.812062\n",
      " lm_winner_Évian Thonon Gaillard FC: 1.000199\n"
     ]
    }
   ],
   "source": [
    "# categorical feature selection\n",
    "sf = SelectKBest(chi2, k='all')\n",
    "sf_fit = sf.fit(X_train[significant_chi_], y_train)\n",
    "# print feature scores\n",
    "for i in range(len(sf_fit.scores_)):\n",
    "    print(' %s: %f' % (X_train.columns[i], sf_fit.scores_[i]))"
   ],
   "metadata": {
    "collapsed": false,
    "pycharm": {
     "name": "#%%\n"
    }
   }
  },
  {
   "cell_type": "code",
   "execution_count": 129,
   "outputs": [
    {
     "name": "stderr",
     "output_type": "stream",
     "text": [
      "c:\\users\\kamil\\documents\\eu_soccer_ml\\venv\\lib\\site-packages\\seaborn\\_decorators.py:36: FutureWarning: Pass the following variables as keyword args: x, y. From version 0.12, the only valid positional argument will be `data`, and passing other arguments without an explicit keyword will result in an error or misinterpretation.\n",
      "  warnings.warn(\n"
     ]
    },
    {
     "data": {
      "text/plain": "<Figure size 640x480 with 1 Axes>",
      "image/png": "[encoded data removed]"
     },
     "metadata": {},
     "output_type": "display_data"
    }
   ],
   "source": [
    "# plot the scores\n",
    "datset = pd.DataFrame()\n",
    "datset['feature'] = X_train.columns[ range(len(sf_fit.scores_))]\n",
    "datset['scores'] = sf_fit.scores_\n",
    "datset = datset.sort_values(by='scores', ascending=False)\n",
    "sns.barplot(datset.iloc[:40]['scores'], datset.iloc[:40]['feature'], color='blue')\n",
    "sns.set_style('whitegrid')\n",
    "plt.ylabel('Categorical Feature', fontsize=18)\n",
    "plt.xlabel('Score', fontsize=18)\n",
    "plt.show()"
   ],
   "metadata": {
    "collapsed": false,
    "pycharm": {
     "name": "#%%\n"
    }
   }
  },
  {
   "cell_type": "code",
   "execution_count": 143,
   "outputs": [],
   "source": [
    "# prepare input features\n",
    "oe = OrdinalEncoder()\n",
    "oe.fit(df_)\n",
    "X_enc = oe.transform(df_)\n",
    "\n",
    "# prepare target variable\n",
    "le = LabelEncoder()\n",
    "le.fit(y)\n",
    "y_enc = le.transform(y)"
   ],
   "metadata": {
    "collapsed": false,
    "pycharm": {
     "name": "#%%\n"
    }
   }
  },
  {
   "cell_type": "code",
   "execution_count": 144,
   "outputs": [
    {
     "data": {
      "text/plain": "   name         score\n12   12  16162.841448\n10   10  14240.926996\n7     7   7299.040347\n16   16   6901.315594\n18   18   6496.573735\n9     9   5776.403968\n13   13   5299.468592\n15   15   4009.982385\n6     6   2892.018221\n34   34   1804.501554\n35   35   1670.997980\n11   11   1296.541609\n23   23    508.467342\n24   24    373.161890\n21   21    334.939016",
      "text/html": "<div>\n<style scoped>\n    .dataframe tbody tr th:only-of-type {\n        vertical-align: middle;\n    }\n\n    .dataframe tbody tr th {\n        vertical-align: top;\n    }\n\n    .dataframe thead th {\n        text-align: right;\n    }\n</style>\n<table border=\"1\" class=\"dataframe\">\n  <thead>\n    <tr style=\"text-align: right;\">\n      <th></th>\n      <th>name</th>\n      <th>score</th>\n    </tr>\n  </thead>\n  <tbody>\n    <tr>\n      <th>12</th>\n      <td>12</td>\n      <td>16162.841448</td>\n    </tr>\n    <tr>\n      <th>10</th>\n      <td>10</td>\n      <td>14240.926996</td>\n    </tr>\n    <tr>\n      <th>7</th>\n      <td>7</td>\n      <td>7299.040347</td>\n    </tr>\n    <tr>\n      <th>16</th>\n      <td>16</td>\n      <td>6901.315594</td>\n    </tr>\n    <tr>\n      <th>18</th>\n      <td>18</td>\n      <td>6496.573735</td>\n    </tr>\n    <tr>\n      <th>9</th>\n      <td>9</td>\n      <td>5776.403968</td>\n    </tr>\n    <tr>\n      <th>13</th>\n      <td>13</td>\n      <td>5299.468592</td>\n    </tr>\n    <tr>\n      <th>15</th>\n      <td>15</td>\n      <td>4009.982385</td>\n    </tr>\n    <tr>\n      <th>6</th>\n      <td>6</td>\n      <td>2892.018221</td>\n    </tr>\n    <tr>\n      <th>34</th>\n      <td>34</td>\n      <td>1804.501554</td>\n    </tr>\n    <tr>\n      <th>35</th>\n      <td>35</td>\n      <td>1670.997980</td>\n    </tr>\n    <tr>\n      <th>11</th>\n      <td>11</td>\n      <td>1296.541609</td>\n    </tr>\n    <tr>\n      <th>23</th>\n      <td>23</td>\n      <td>508.467342</td>\n    </tr>\n    <tr>\n      <th>24</th>\n      <td>24</td>\n      <td>373.161890</td>\n    </tr>\n    <tr>\n      <th>21</th>\n      <td>21</td>\n      <td>334.939016</td>\n    </tr>\n  </tbody>\n</table>\n</div>"
     },
     "execution_count": 144,
     "metadata": {},
     "output_type": "execute_result"
    }
   ],
   "source": [
    "# feature selection\n",
    "sf = SelectKBest(chi2, k=15)\n",
    "sf_fit1 = sf.fit(X_enc, y_enc)\n",
    "# print feature scores\n",
    "selected_features = pd.DataFrame(columns=['name', 'score'])\n",
    "for i in range(len(sf_fit1.scores_)):\n",
    "    new_df = pd.DataFrame({'name': [i], 'score': [sf_fit1.scores_[i]]})\n",
    "    selected_features = pd.concat([selected_features, new_df], axis=0, ignore_index=True)\n",
    "\n",
    "selected_features.sort_values(by='score' ,ascending=False).head(15)"
   ],
   "metadata": {
    "collapsed": false,
    "pycharm": {
     "name": "#%%\n"
    }
   }
  },
  {
   "cell_type": "code",
   "execution_count": 145,
   "outputs": [],
   "source": [
    "X_train_enc_ = sf_fit1.transform(X_enc)"
   ],
   "metadata": {
    "collapsed": false,
    "pycharm": {
     "name": "#%%\n"
    }
   }
  },
  {
   "cell_type": "code",
   "execution_count": 146,
   "outputs": [
    {
     "name": "stdout",
     "output_type": "stream",
     "text": [
      "0.46993987975951906\n",
      "              precision    recall  f1-score   support\n",
      "\n",
      "           0       0.23      0.59      0.34       271\n",
      "           1       0.27      0.18      0.22       243\n",
      "           2       0.26      0.08      0.12       484\n",
      "\n",
      "    accuracy                           0.24       998\n",
      "   macro avg       0.25      0.28      0.22       998\n",
      "weighted avg       0.25      0.24      0.20       998\n",
      "\n"
     ]
    }
   ],
   "source": [
    "X_train, X_test, y_train, y_test = train_test_split(X_enc, y_enc, test_size = 0.2, random_state=333)\n",
    "\n",
    "model_dataset = clf_model_kneighbor(n_neighbors=N_NEIGHBORS).fit(X_train, y_train)\n",
    "pred_dataset = model_dataset.predict(X_test)\n",
    "\n",
    "print(accuracy_score(y_test, pred_dataset))\n",
    "print(classification_report(y_test,predictions))"
   ],
   "metadata": {
    "collapsed": false,
    "pycharm": {
     "name": "#%%\n"
    }
   }
  },
  {
   "cell_type": "code",
   "execution_count": 147,
   "outputs": [
    {
     "data": {
      "text/plain": "array([0, 1, 2])"
     },
     "execution_count": 147,
     "metadata": {},
     "output_type": "execute_result"
    }
   ],
   "source": [
    "np.unique(y_train)"
   ],
   "metadata": {
    "collapsed": false,
    "pycharm": {
     "name": "#%%\n"
    }
   }
  },
  {
   "cell_type": "code",
   "execution_count": 148,
   "outputs": [
    {
     "data": {
      "text/plain": "array([0, 1, 2])"
     },
     "execution_count": 148,
     "metadata": {},
     "output_type": "execute_result"
    }
   ],
   "source": [
    "np.unique(y_test)"
   ],
   "metadata": {
    "collapsed": false,
    "pycharm": {
     "name": "#%%\n"
    }
   }
  },
  {
   "cell_type": "code",
   "execution_count": 149,
   "outputs": [
    {
     "name": "stdout",
     "output_type": "stream",
     "text": [
      "0.4909819639278557\n",
      "              precision    recall  f1-score   support\n",
      "\n",
      "           0       0.44      0.49      0.46       271\n",
      "           1       0.29      0.19      0.23       243\n",
      "           2       0.58      0.64      0.61       484\n",
      "\n",
      "    accuracy                           0.49       998\n",
      "   macro avg       0.44      0.44      0.44       998\n",
      "weighted avg       0.47      0.49      0.48       998\n",
      "\n"
     ]
    }
   ],
   "source": [
    "X_train_enc_new, X_test_enc_new, y_train_enc_new, y_test_enc_new = train_test_split(X_train_enc_, y_enc, test_size = 0.2, random_state=333)\n",
    "\n",
    "model_dataset_1 = clf_model_kneighbor(n_neighbors=N_NEIGHBORS).fit(X_train_enc_new, y_train_enc_new)\n",
    "pred_dataset_1 = model_dataset_1.predict(X_test_enc_new)\n",
    "\n",
    "print(accuracy_score(y_test_enc_new, pred_dataset_1))\n",
    "print(classification_report(y_test_enc_new,pred_dataset_1))"
   ],
   "metadata": {
    "collapsed": false,
    "pycharm": {
     "name": "#%%\n"
    }
   }
  },
  {
   "cell_type": "code",
   "execution_count": null,
   "outputs": [],
   "source": [
    "# _ = sns.pairplot(df_drop, vars=df_drop.select_dtypes(include=['number']), hue='result_match')\n",
    "# plt.savefig('plot/pair_plot.png')"
   ],
   "metadata": {
    "collapsed": false,
    "pycharm": {
     "name": "#%%\n"
    }
   }
  },
  {
   "cell_type": "code",
   "execution_count": 122,
   "outputs": [
    {
     "data": {
      "text/plain": "5"
     },
     "execution_count": 122,
     "metadata": {},
     "output_type": "execute_result"
    }
   ],
   "source": [
    "len(datset.iloc[:5]['scores'])"
   ],
   "metadata": {
    "collapsed": false,
    "pycharm": {
     "name": "#%%\n"
    }
   }
  },
  {
   "cell_type": "code",
   "execution_count": null,
   "outputs": [],
   "source": [
    "df_num = df_drop.select_dtypes(include='number')\n",
    "df_cat = df_drop.select_dtypes(exclude='number')"
   ],
   "metadata": {
    "collapsed": false,
    "pycharm": {
     "name": "#%%\n"
    }
   }
  },
  {
   "cell_type": "code",
   "execution_count": null,
   "outputs": [],
   "source": [
    "le = preprocessing.LabelEncoder()\n",
    "X = df_drop\n",
    "y = le.fit_transform(X.home_winner)"
   ],
   "metadata": {
    "collapsed": false,
    "pycharm": {
     "name": "#%%\n"
    }
   }
  },
  {
   "cell_type": "code",
   "execution_count": null,
   "outputs": [],
   "source": [
    "print(f'X shape: {X.shape}')\n",
    "print(f'y shape: {y.shape}')"
   ],
   "metadata": {
    "collapsed": false,
    "pycharm": {
     "name": "#%%\n"
    }
   }
  },
  {
   "cell_type": "code",
   "execution_count": null,
   "outputs": [],
   "source": [
    "X = X.drop(['result_match', 'homer_winner'])\n",
    "\n",
    "print(f'X shape: {X.shape}')\n",
    "print(f'y shape: {y.shape}')\n"
   ],
   "metadata": {
    "collapsed": false,
    "pycharm": {
     "name": "#%%\n"
    }
   }
  },
  {
   "cell_type": "code",
   "execution_count": null,
   "outputs": [],
   "source": [],
   "metadata": {
    "collapsed": false,
    "pycharm": {
     "name": "#%%\n"
    }
   }
  }
 ],
 "metadata": {
  "kernelspec": {
   "display_name": "Python 3",
   "language": "python",
   "name": "python3"
  },
  "language_info": {
   "codemirror_mode": {
    "name": "ipython",
    "version": 2
   },
   "file_extension": ".py",
   "mimetype": "text/x-python",
   "name": "python",
   "nbconvert_exporter": "python",
   "pygments_lexer": "ipython2",
   "version": "2.7.6"
  }
 },
 "nbformat": 4,
 "nbformat_minor": 0
}
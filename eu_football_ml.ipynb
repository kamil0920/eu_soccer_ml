{
 "cells": [
  {
   "cell_type": "code",
   "execution_count": 1,
   "outputs": [],
   "source": [
    "import traceback\n",
    "\n",
    "import numpy as np\n",
    "import pandas as pd\n",
    "from pandas_profiling import ProfileReport\n",
    "\n",
    "import seaborn as sns\n",
    "\n",
    "import sqlite3 as db\n",
    "\n",
    "import xml.etree.cElementTree as et"
   ],
   "metadata": {
    "collapsed": false,
    "pycharm": {
     "name": "#%%\n"
    }
   }
  },
  {
   "cell_type": "code",
   "execution_count": 2,
   "outputs": [],
   "source": [
    "def process_xml_columns(df_new_cols, cols, match, xml_col):\n",
    "    path = match[xml_col]\n",
    "    if path is not None:\n",
    "        root = et.fromstring(path)\n",
    "        try:\n",
    "            temp_column_list = []\n",
    "            for column in cols:\n",
    "                row_elements = root.findall('.//{}'.format(column))\n",
    "                row_list = []\n",
    "                for row in row_elements:\n",
    "                    row_list.append(row.text)\n",
    "                temp_column_list.append(row_list)\n",
    "            df = pd.DataFrame(temp_column_list)\n",
    "            df = df.transpose()\n",
    "            df.columns = df_new_cols\n",
    "            df['match_api_id'] = match.match_api_id\n",
    "            return df\n",
    "        except Exception as e:\n",
    "            print(e)\n",
    "\n",
    "\n",
    "def create_new_df_from_xml(df, xml_column, df_cols, df_new_cols):\n",
    "    new_df = pd.DataFrame()\n",
    "    for index, row in df[df[xml_column].notna()].iterrows():\n",
    "        df = process_xml_columns(df_new_cols, df_cols, row, xml_column)\n",
    "        new_df = pd.concat([new_df, df], ignore_index=True)\n",
    "    return new_df\n",
    "\n",
    "def fill_nan_goals(df, col1, col2):\n",
    "    df_col1_nan = df.loc[df[col1].isna()]\n",
    "    df_col2_nan = df.loc[df[col2].isna()]\n",
    "    for index, row in df_col1_nan.iterrows():\n",
    "        avg_mean = df.loc[df.home_team == row.home_team][col1].mean()\n",
    "        if avg_mean == avg_mean:\n",
    "            df.loc[df.match_api_id == row.match_api_id, col1] = round(avg_mean)\n",
    "        else:\n",
    "            df.loc[df.match_api_id == row.match_api_id, col1] = 0\n",
    "    for index, row in df_col2_nan.iterrows():\n",
    "        avg_mean = df.loc[df.away_team == row.away_team][col2].mean()\n",
    "        if avg_mean == avg_mean:\n",
    "            df.loc[df.match_api_id == row.match_api_id, col2] = round(avg_mean)\n",
    "        else:\n",
    "            df.loc[df.match_api_id == row.match_api_id, col1] = 0\n",
    "    return df\n",
    "\n",
    "def missin_values(df):\n",
    "    percent_missing = df.isnull().sum() * 100 / len(df)\n",
    "    missing_value_df = pd.DataFrame({'column_name': df.columns,\n",
    "                                     'percent_missing': percent_missing})\n",
    "    return missing_value_df"
   ],
   "metadata": {
    "collapsed": false,
    "pycharm": {
     "name": "#%%\n"
    }
   }
  },
  {
   "cell_type": "code",
   "execution_count": 3,
   "outputs": [],
   "source": [
    "conn = db.connect('eu_soccer_database/database.sqlite')"
   ],
   "metadata": {
    "collapsed": false,
    "pycharm": {
     "name": "#%%\n"
    }
   }
  },
  {
   "cell_type": "code",
   "execution_count": 4,
   "outputs": [
    {
     "data": {
      "text/plain": "    type               name           tbl_name  rootpage  \\\n0  table    sqlite_sequence    sqlite_sequence         4   \n1  table  Player_Attributes  Player_Attributes        11   \n2  table             Player             Player        14   \n3  table              Match              Match        18   \n4  table             League             League        24   \n5  table            Country            Country        26   \n6  table               Team               Team        29   \n7  table    Team_Attributes    Team_Attributes         2   \n\n                                                 sql  \n0             CREATE TABLE sqlite_sequence(name,seq)  \n1  CREATE TABLE \"Player_Attributes\" (\\n\\t`id`\\tIN...  \n2  CREATE TABLE `Player` (\\n\\t`id`\\tINTEGER PRIMA...  \n3  CREATE TABLE `Match` (\\n\\t`id`\\tINTEGER PRIMAR...  \n4  CREATE TABLE `League` (\\n\\t`id`\\tINTEGER PRIMA...  \n5  CREATE TABLE `Country` (\\n\\t`id`\\tINTEGER PRIM...  \n6  CREATE TABLE \"Team\" (\\n\\t`id`\\tINTEGER PRIMARY...  \n7  CREATE TABLE `Team_Attributes` (\\n\\t`id`\\tINTE...  ",
      "text/html": "<div>\n<style scoped>\n    .dataframe tbody tr th:only-of-type {\n        vertical-align: middle;\n    }\n\n    .dataframe tbody tr th {\n        vertical-align: top;\n    }\n\n    .dataframe thead th {\n        text-align: right;\n    }\n</style>\n<table border=\"1\" class=\"dataframe\">\n  <thead>\n    <tr style=\"text-align: right;\">\n      <th></th>\n      <th>type</th>\n      <th>name</th>\n      <th>tbl_name</th>\n      <th>rootpage</th>\n      <th>sql</th>\n    </tr>\n  </thead>\n  <tbody>\n    <tr>\n      <th>0</th>\n      <td>table</td>\n      <td>sqlite_sequence</td>\n      <td>sqlite_sequence</td>\n      <td>4</td>\n      <td>CREATE TABLE sqlite_sequence(name,seq)</td>\n    </tr>\n    <tr>\n      <th>1</th>\n      <td>table</td>\n      <td>Player_Attributes</td>\n      <td>Player_Attributes</td>\n      <td>11</td>\n      <td>CREATE TABLE \"Player_Attributes\" (\\n\\t`id`\\tIN...</td>\n    </tr>\n    <tr>\n      <th>2</th>\n      <td>table</td>\n      <td>Player</td>\n      <td>Player</td>\n      <td>14</td>\n      <td>CREATE TABLE `Player` (\\n\\t`id`\\tINTEGER PRIMA...</td>\n    </tr>\n    <tr>\n      <th>3</th>\n      <td>table</td>\n      <td>Match</td>\n      <td>Match</td>\n      <td>18</td>\n      <td>CREATE TABLE `Match` (\\n\\t`id`\\tINTEGER PRIMAR...</td>\n    </tr>\n    <tr>\n      <th>4</th>\n      <td>table</td>\n      <td>League</td>\n      <td>League</td>\n      <td>24</td>\n      <td>CREATE TABLE `League` (\\n\\t`id`\\tINTEGER PRIMA...</td>\n    </tr>\n    <tr>\n      <th>5</th>\n      <td>table</td>\n      <td>Country</td>\n      <td>Country</td>\n      <td>26</td>\n      <td>CREATE TABLE `Country` (\\n\\t`id`\\tINTEGER PRIM...</td>\n    </tr>\n    <tr>\n      <th>6</th>\n      <td>table</td>\n      <td>Team</td>\n      <td>Team</td>\n      <td>29</td>\n      <td>CREATE TABLE \"Team\" (\\n\\t`id`\\tINTEGER PRIMARY...</td>\n    </tr>\n    <tr>\n      <th>7</th>\n      <td>table</td>\n      <td>Team_Attributes</td>\n      <td>Team_Attributes</td>\n      <td>2</td>\n      <td>CREATE TABLE `Team_Attributes` (\\n\\t`id`\\tINTE...</td>\n    </tr>\n  </tbody>\n</table>\n</div>"
     },
     "execution_count": 4,
     "metadata": {},
     "output_type": "execute_result"
    }
   ],
   "source": [
    "tables = pd.read_sql(\"\"\"SELECT *\n",
    "                        FROM sqlite_master\n",
    "                        WHERE type='table';\"\"\", conn)\n",
    "tables"
   ],
   "metadata": {
    "collapsed": false,
    "pycharm": {
     "name": "#%%\n"
    }
   }
  },
  {
   "cell_type": "code",
   "execution_count": 5,
   "outputs": [],
   "source": [
    "chunk_size=5000\n",
    "batch_no=1\n",
    "for chunk in pd.read_sql(\"SELECT m.match_api_id,\"\n",
    "                                  \" Country.name AS country_name,\"\n",
    "                                  \" League.name AS league_name,\"\n",
    "                                  \" season,\"\n",
    "                                  \" stage,\"\n",
    "                                  \" m.date,\"\n",
    "                                  \" HT.team_long_name AS  home_team,\"\n",
    "                                  \" AT.team_long_name AS away_team,\"\n",
    "                                  \" home_team_goal,\"\n",
    "                                  \" away_team_goal,\"\n",
    "                                  \" m.possession,\"\n",
    "                                  \" CASE\"\n",
    "                                  \" WHEN m.home_team_goal > m.away_team_goal THEN 'H'\"\n",
    "                                  \" WHEN m.home_team_goal < m.away_team_goal THEN 'A'\"\n",
    "                                  \" WHEN m.home_team_goal = m.away_team_goal THEN 'D'\"\n",
    "                                  \" END AS result_match,\"\n",
    "                                  \" H6.player_name as home_player_6,\"\n",
    "                                  \" H7.player_name as home_player_7,\"\n",
    "                                  \" H8.player_name as home_player_8,\"\n",
    "                                  \" H9.player_name as home_player_9,\"\n",
    "                                  \" H10.player_name as home_player_10,\"\n",
    "                                  \" H11.player_name as home_player_11,\"\n",
    "                                  \" A6.player_name as away_player_6,\"\n",
    "                                  \" A7.player_name as away_player_7,\"\n",
    "                                  \" A8.player_name as away_player_8,\"\n",
    "                                  \" A9.player_name as away_player_9,\"\n",
    "                                  \" A10.player_name as away_player_10,\"\n",
    "                                  \" A11.player_name as away_player_11, \"\n",
    "                                  \" m.B365H,\"\n",
    "                                  \" m.B365D,\"\n",
    "                                  \" m.B365A,\"\n",
    "                                  \" m.BWH,\"\n",
    "                                  \" m.BWD,\"\n",
    "                                  \" m.BWA,\"\n",
    "                                  \" m.IWH,\"\n",
    "                                  \" m.IWD,\"\n",
    "                                  \" m.IWA,\"\n",
    "                                  \" m.LBH,\"\n",
    "                                  \" m.LBD,\"\n",
    "                                  \" m.LBA,\"\n",
    "                                  \" m.PSH,\"\n",
    "                                  \" m.PSD,\"\n",
    "                                  \" m.PSA,\"\n",
    "                                  \" m.WHH,\"\n",
    "                                  \" m.WHD,\"\n",
    "                                  \" m.WHA\"\n",
    "                                  \" FROM Match as m\"\n",
    "                                  \" JOIN Country on Country.id = m.country_id\"\n",
    "                                  \" JOIN League on League.id = m.league_id\"\n",
    "                                  \" LEFT JOIN Team AS HT on HT.team_api_id = m.home_team_api_id\"\n",
    "                                  \" LEFT JOIN Team AS AT on AT.team_api_id = m.away_team_api_id\"\n",
    "                                  \" LEFT JOIN Player AS H6 on H6.player_api_id = m.home_player_6\"\n",
    "                                  \" LEFT JOIN Player AS H7 on H7.player_api_id = m.home_player_7\"\n",
    "                                  \" LEFT JOIN Player AS H8 on H8.player_api_id = m.home_player_8\"\n",
    "                                  \" LEFT JOIN Player AS H9 on H9.player_api_id = m.home_player_9\"\n",
    "                                  \" LEFT JOIN Player AS H10 on H10.player_api_id = m.home_player_10\"\n",
    "                                  \" LEFT JOIN Player AS H11 on H11.player_api_id = m.home_player_11\"\n",
    "                                  \" LEFT JOIN Player AS A6 on A6.player_api_id = m.away_player_6\"\n",
    "                                  \" LEFT JOIN Player AS A7 on A7.player_api_id = m.away_player_7\"\n",
    "                                  \" LEFT JOIN Player AS A8 on A8.player_api_id = m.away_player_8\"\n",
    "                                  \" LEFT JOIN Player AS A9 on A9.player_api_id = m.away_player_9\"\n",
    "                                  \" LEFT JOIN Player AS A10 on A10.player_api_id = m.away_player_10\"\n",
    "                                  \" LEFT JOIN Player AS A11 on A11.player_api_id = m.away_player_11\"\n",
    "                                  \" WHERE League.id IN (1729, 4769, 7809, 10257, 21518)\"\n",
    "                                  \" AND m.possession IS NOT NULL\"\n",
    "                                  \" ORDER by date;\", conn, chunksize=chunk_size):\n",
    "    chunk.to_csv('chunk_data/chunk'+str(batch_no)+'.csv',index=False)\n",
    "    batch_no+=1"
   ],
   "metadata": {
    "collapsed": false,
    "pycharm": {
     "name": "#%%\n"
    }
   }
  },
  {
   "cell_type": "code",
   "execution_count": 6,
   "outputs": [],
   "source": [
    "# df_detailed_matches = pd.read_sql(\"SELECT m.match_api_id,\"\n",
    "#                                   \" Country.name AS country_name,\"\n",
    "#                                   \" League.name AS league_name,\"\n",
    "#                                   \" season,\"\n",
    "#                                   \" stage,\"\n",
    "#                                   \" m.date,\"\n",
    "#                                   \" HT.team_long_name AS  home_team,\"\n",
    "#                                   \" AT.team_long_name AS away_team,\"\n",
    "#                                   \" home_team_goal,\"\n",
    "#                                   \" away_team_goal,\"\n",
    "#                                   \" m.possession,\"\n",
    "#                                   \" CASE\"\n",
    "#                                   \" WHEN m.home_team_goal > m.away_team_goal THEN 'H'\"\n",
    "#                                   \" WHEN m.home_team_goal < m.away_team_goal THEN 'A'\"\n",
    "#                                   \" WHEN m.home_team_goal = m.away_team_goal THEN 'D'\"\n",
    "#                                   \" END AS result_match,\"\n",
    "#                                   \" H6.player_name as home_player_6,\"\n",
    "#                                   \" H7.player_name as home_player_7,\"\n",
    "#                                   \" H8.player_name as home_player_8,\"\n",
    "#                                   \" H9.player_name as home_player_9,\"\n",
    "#                                   \" H10.player_name as home_player_10,\"\n",
    "#                                   \" H11.player_name as home_player_11,\"\n",
    "#                                   \" A6.player_name as away_player_6,\"\n",
    "#                                   \" A7.player_name as away_player_7,\"\n",
    "#                                   \" A8.player_name as away_player_8,\"\n",
    "#                                   \" A9.player_name as away_player_9,\"\n",
    "#                                   \" A10.player_name as away_player_10,\"\n",
    "#                                   \" A11.player_name as away_player_11, \"\n",
    "#                                   \" m.B365H,\"\n",
    "#                                   \" m.B365D,\"\n",
    "#                                   \" m.B365A,\"\n",
    "#                                   \" m.BWH,\"\n",
    "#                                   \" m.BWD,\"\n",
    "#                                   \" m.BWA,\"\n",
    "#                                   \" m.IWH,\"\n",
    "#                                   \" m.IWD,\"\n",
    "#                                   \" m.IWA,\"\n",
    "#                                   \" m.LBH,\"\n",
    "#                                   \" m.LBD,\"\n",
    "#                                   \" m.LBA,\"\n",
    "#                                   \" m.PSH,\"\n",
    "#                                   \" m.PSD,\"\n",
    "#                                   \" m.PSA,\"\n",
    "#                                   \" m.WHH,\"\n",
    "#                                   \" m.WHD,\"\n",
    "#                                   \" m.WHA\"\n",
    "#                                   \" FROM Match as m\"\n",
    "#                                   \" JOIN Country on Country.id = m.country_id\"\n",
    "#                                   \" JOIN League on League.id = m.league_id\"\n",
    "#                                   \" LEFT JOIN Team AS HT on HT.team_api_id = m.home_team_api_id\"\n",
    "#                                   \" LEFT JOIN Team AS AT on AT.team_api_id = m.away_team_api_id\"\n",
    "#                                   \" LEFT JOIN Player AS H6 on H6.player_api_id = m.home_player_6\"\n",
    "#                                   \" LEFT JOIN Player AS H7 on H7.player_api_id = m.home_player_7\"\n",
    "#                                   \" LEFT JOIN Player AS H8 on H8.player_api_id = m.home_player_8\"\n",
    "#                                   \" LEFT JOIN Player AS H9 on H9.player_api_id = m.home_player_9\"\n",
    "#                                   \" LEFT JOIN Player AS H10 on H10.player_api_id = m.home_player_10\"\n",
    "#                                   \" LEFT JOIN Player AS H11 on H11.player_api_id = m.home_player_11\"\n",
    "#                                   \" LEFT JOIN Player AS A6 on A6.player_api_id = m.away_player_6\"\n",
    "#                                   \" LEFT JOIN Player AS A7 on A7.player_api_id = m.away_player_7\"\n",
    "#                                   \" LEFT JOIN Player AS A8 on A8.player_api_id = m.away_player_8\"\n",
    "#                                   \" LEFT JOIN Player AS A9 on A9.player_api_id = m.away_player_9\"\n",
    "#                                   \" LEFT JOIN Player AS A10 on A10.player_api_id = m.away_player_10\"\n",
    "#                                   \" LEFT JOIN Player AS A11 on A11.player_api_id = m.away_player_11\"\n",
    "#                                   \" WHERE League.id IN (1729, 4769, 7809, 10257, 21518)\"\n",
    "#                                   \" AND m.possession IS NOT NULL\"\n",
    "#                                   \" ORDER by date;\", conn, chunksize=5000)"
   ],
   "metadata": {
    "collapsed": false,
    "pycharm": {
     "name": "#%%\n"
    }
   }
  },
  {
   "cell_type": "code",
   "execution_count": 7,
   "outputs": [],
   "source": [
    "df_detailed_matches = pd.read_csv('chunk_data/chunk1.csv')"
   ],
   "metadata": {
    "collapsed": false,
    "pycharm": {
     "name": "#%%\n"
    }
   }
  },
  {
   "cell_type": "code",
   "execution_count": 8,
   "outputs": [
    {
     "name": "stdout",
     "output_type": "stream",
     "text": [
      "<class 'pandas.core.frame.DataFrame'>\n",
      "RangeIndex: 5000 entries, 0 to 4999\n",
      "Data columns (total 42 columns):\n",
      " #   Column          Non-Null Count  Dtype  \n",
      "---  ------          --------------  -----  \n",
      " 0   match_api_id    5000 non-null   int64  \n",
      " 1   country_name    5000 non-null   object \n",
      " 2   league_name     5000 non-null   object \n",
      " 3   season          5000 non-null   object \n",
      " 4   stage           5000 non-null   int64  \n",
      " 5   date            5000 non-null   object \n",
      " 6   home_team       5000 non-null   object \n",
      " 7   away_team       5000 non-null   object \n",
      " 8   home_team_goal  5000 non-null   int64  \n",
      " 9   away_team_goal  5000 non-null   int64  \n",
      " 10  possession      5000 non-null   object \n",
      " 11  result_match    5000 non-null   object \n",
      " 12  home_player_6   4985 non-null   object \n",
      " 13  home_player_7   4963 non-null   object \n",
      " 14  home_player_8   4971 non-null   object \n",
      " 15  home_player_9   4978 non-null   object \n",
      " 16  home_player_10  4960 non-null   object \n",
      " 17  home_player_11  4973 non-null   object \n",
      " 18  away_player_6   4980 non-null   object \n",
      " 19  away_player_7   4968 non-null   object \n",
      " 20  away_player_8   4966 non-null   object \n",
      " 21  away_player_9   4970 non-null   object \n",
      " 22  away_player_10  4963 non-null   object \n",
      " 23  away_player_11  4972 non-null   object \n",
      " 24  B365H           4994 non-null   float64\n",
      " 25  B365D           4994 non-null   float64\n",
      " 26  B365A           4994 non-null   float64\n",
      " 27  BWH             4982 non-null   float64\n",
      " 28  BWD             4982 non-null   float64\n",
      " 29  BWA             4982 non-null   float64\n",
      " 30  IWH             4980 non-null   float64\n",
      " 31  IWD             4980 non-null   float64\n",
      " 32  IWA             4980 non-null   float64\n",
      " 33  LBH             4992 non-null   float64\n",
      " 34  LBD             4992 non-null   float64\n",
      " 35  LBA             4992 non-null   float64\n",
      " 36  PSH             0 non-null      float64\n",
      " 37  PSD             0 non-null      float64\n",
      " 38  PSA             0 non-null      float64\n",
      " 39  WHH             4991 non-null   float64\n",
      " 40  WHD             4991 non-null   float64\n",
      " 41  WHA             4991 non-null   float64\n",
      "dtypes: float64(18), int64(4), object(20)\n",
      "memory usage: 1.6+ MB\n"
     ]
    }
   ],
   "source": [
    "df_detailed_matches.info()"
   ],
   "metadata": {
    "collapsed": false,
    "pycharm": {
     "name": "#%%\n"
    }
   }
  },
  {
   "cell_type": "code",
   "execution_count": 9,
   "outputs": [
    {
     "data": {
      "text/plain": "Summarize dataset:   0%|          | 0/5 [00:00<?, ?it/s]",
      "application/vnd.jupyter.widget-view+json": {
       "version_major": 2,
       "version_minor": 0,
       "model_id": "b73b3dfd77a54f949143864bdb934e9a"
      }
     },
     "metadata": {},
     "output_type": "display_data"
    },
    {
     "data": {
      "text/plain": "Generate report structure:   0%|          | 0/1 [00:00<?, ?it/s]",
      "application/vnd.jupyter.widget-view+json": {
       "version_major": 2,
       "version_minor": 0,
       "model_id": "497b67d2fc6a4c8dac75696f6b3674e6"
      }
     },
     "metadata": {},
     "output_type": "display_data"
    },
    {
     "data": {
      "text/plain": "Render HTML:   0%|          | 0/1 [00:00<?, ?it/s]",
      "application/vnd.jupyter.widget-view+json": {
       "version_major": 2,
       "version_minor": 0,
       "model_id": "f17cc58cca114dab99f2845f8e823028"
      }
     },
     "metadata": {},
     "output_type": "display_data"
    },
    {
     "data": {
      "text/plain": "Export report to file:   0%|          | 0/1 [00:00<?, ?it/s]",
      "application/vnd.jupyter.widget-view+json": {
       "version_major": 2,
       "version_minor": 0,
       "model_id": "7662f392e8da4cbbb6866bac26b05c0b"
      }
     },
     "metadata": {},
     "output_type": "display_data"
    }
   ],
   "source": [
    "profile = ProfileReport(df_detailed_matches, title='Detailed matches', minimal=True)\n",
    "profile.to_file(output_file=\"report/first_profile.html\")"
   ],
   "metadata": {
    "collapsed": false,
    "pycharm": {
     "name": "#%%\n"
    }
   }
  },
  {
   "cell_type": "code",
   "execution_count": 10,
   "outputs": [],
   "source": [
    "df_detailed_matches['date'] = pd.to_datetime(df_detailed_matches['date']).dt.date\n",
    "df_detailed_matches[\n",
    "    ['country_name', 'league_name', 'season', 'home_team', 'away_team', 'result_match', 'home_player_6',\n",
    "     'home_player_7', 'home_player_8', 'home_player_9', 'home_player_10', 'home_player_11', 'away_player_6',\n",
    "     'away_player_7', 'away_player_8', 'away_player_9', 'away_player_10', 'away_player_11', 'possession']] = df_detailed_matches[\n",
    "    ['country_name', 'league_name', 'season', 'home_team', 'away_team', 'result_match', 'home_player_6',\n",
    "     'home_player_7', 'home_player_8', 'home_player_9', 'home_player_10', 'home_player_11', 'away_player_6',\n",
    "     'away_player_7', 'away_player_8', 'away_player_9', 'away_player_10', 'away_player_11', 'possession']].astype(\n",
    "    'category')"
   ],
   "metadata": {
    "collapsed": false,
    "pycharm": {
     "name": "#%%\n"
    }
   }
  },
  {
   "cell_type": "code",
   "execution_count": 11,
   "outputs": [],
   "source": [
    "# df_detailed_matches.info()"
   ],
   "metadata": {
    "collapsed": false,
    "pycharm": {
     "name": "#%%\n"
    }
   }
  },
  {
   "cell_type": "code",
   "execution_count": 12,
   "outputs": [],
   "source": [
    "df_detailed_matches = df_detailed_matches.drop(['PSH', 'PSD', 'PSA'], axis=1)"
   ],
   "metadata": {
    "collapsed": false,
    "pycharm": {
     "name": "#%%\n"
    }
   }
  },
  {
   "cell_type": "code",
   "execution_count": 13,
   "outputs": [],
   "source": [
    "teams = pd.unique(df_detailed_matches[['home_team', 'away_team']].values.ravel('K'))\n",
    "\n",
    "try:\n",
    "    for team in teams:\n",
    "        mask_team_matches = (df_detailed_matches['home_team'] == team) | (df_detailed_matches['away_team'] == team)\n",
    "        matches = df_detailed_matches.loc[mask_team_matches]\n",
    "        matches = matches.sort_values(by='date')\n",
    "\n",
    "        for index, row in matches.iterrows():\n",
    "            previous_match_goals = row['home_team_goal'] if team == row['home_team'] else row['away_team_goal']\n",
    "            next_match = matches.loc[matches['match_api_id'].shift(1) == row['match_api_id']].dropna(how='all')\n",
    "            if not next_match.empty:\n",
    "                if team == next_match['home_team'].values:\n",
    "                    df_detailed_matches.loc[\n",
    "                        df_detailed_matches['match_api_id'] == next_match.iloc[0]['match_api_id'], 'lm_goals_home'] = previous_match_goals\n",
    "                else:\n",
    "                    df_detailed_matches.loc[\n",
    "                        df_detailed_matches['match_api_id'] == next_match.iloc[0]['match_api_id'], 'lm_goals_away'] = previous_match_goals\n",
    "\n",
    "except Exception as e:\n",
    "    e.with_traceback()\n",
    "    print(e)"
   ],
   "metadata": {
    "collapsed": false,
    "pycharm": {
     "name": "#%%\n"
    }
   }
  },
  {
   "cell_type": "code",
   "execution_count": 14,
   "outputs": [],
   "source": [
    "df_detailed_matches = fill_nan_goals(df_detailed_matches, 'lm_goals_home', 'lm_goals_away')"
   ],
   "metadata": {
    "collapsed": false,
    "pycharm": {
     "name": "#%%\n"
    }
   }
  },
  {
   "cell_type": "code",
   "execution_count": 15,
   "outputs": [],
   "source": [
    "\n",
    "df_detailed_matches.lm_goals_home = df_detailed_matches.lm_goals_home.astype(int)\n",
    "df_detailed_matches.lm_goals_away = df_detailed_matches.lm_goals_away.astype(int)"
   ],
   "metadata": {
    "collapsed": false,
    "pycharm": {
     "name": "#%%\n"
    }
   }
  },
  {
   "cell_type": "code",
   "execution_count": 16,
   "outputs": [],
   "source": [
    "try:\n",
    "    for team in teams:\n",
    "        mask_find_team_matches = (df_detailed_matches['home_team'] == team) | (\n",
    "                df_detailed_matches['away_team'] == team)\n",
    "        team_matches = df_detailed_matches.loc[mask_find_team_matches]\n",
    "        team_matches = team_matches.sort_values(by='date')\n",
    "\n",
    "        for index, row in team_matches.iterrows():\n",
    "            mask_home = ((team_matches['home_team'] == row['home_team']) & (team_matches['date'] < row['date']))\n",
    "            mask_away = ((team_matches['away_team'] == row['away_team']) & (team_matches['date'] < row['date']))\n",
    "            mask_both = (team_matches['date'] < row['date'])\n",
    "\n",
    "            avg_l5m_hh = team_matches.loc[mask_home].iloc[-5:]['home_team_goal'].mean()\n",
    "            avg_l5m_aa = team_matches.loc[mask_away].iloc[-5:]['away_team_goal'].mean()\n",
    "            l5_m = team_matches.loc[mask_both].iloc[-5:]\n",
    "\n",
    "            goals = []\n",
    "\n",
    "            for idx, r in l5_m.iterrows():\n",
    "                if r['home_team'] == team:\n",
    "                    goals.append(r['home_team_goal'])\n",
    "                else:\n",
    "                    goals.append(r['away_team_goal'])\n",
    "\n",
    "            avg_l5_m = np.nan if len(goals) == 0 else sum(goals) / len(goals)\n",
    "            if team == row['home_team']:\n",
    "                df_detailed_matches.loc[\n",
    "                    df_detailed_matches['match_api_id'] == row['match_api_id'], 'avg_l5m_hh'] = avg_l5m_hh\n",
    "                df_detailed_matches.loc[\n",
    "                    df_detailed_matches['match_api_id'] == row['match_api_id'], 'avg_l5m_h'] = avg_l5_m\n",
    "            else:\n",
    "                df_detailed_matches.loc[\n",
    "                    df_detailed_matches['match_api_id'] == row['match_api_id'], 'avg_l5m_aa'] = avg_l5m_aa\n",
    "                df_detailed_matches.loc[\n",
    "                    df_detailed_matches['match_api_id'] == row['match_api_id'], 'avg_l5m_a'] = avg_l5_m\n",
    "except Exception as e:\n",
    "    print(e)"
   ],
   "metadata": {
    "collapsed": false,
    "pycharm": {
     "name": "#%%\n"
    }
   }
  },
  {
   "cell_type": "code",
   "execution_count": 17,
   "outputs": [],
   "source": [
    "df_detailed_matches = fill_nan_goals(df_detailed_matches, 'avg_l5m_h', 'avg_l5m_hh')\n",
    "df_detailed_matches = fill_nan_goals(df_detailed_matches, 'avg_l5m_a', 'avg_l5m_aa')"
   ],
   "metadata": {
    "collapsed": false,
    "pycharm": {
     "name": "#%%\n"
    }
   }
  },
  {
   "cell_type": "code",
   "execution_count": 18,
   "outputs": [],
   "source": [
    "# df_detailed_matches['avg_l5m_hh'] = round(df_detailed_matches['avg_l5m_hh'])\n",
    "# df_detailed_matches['avg_l5m_hh'] = round(df_detailed_matches['avg_l5m_hh'])\n",
    "# df_detailed_matches['avg_l5m_aa'] = round(df_detailed_matches['avg_l5m_aa'])\n",
    "# df_detailed_matches['avg_l5m_aam'] = round(df_detailed_matches['avg_l5m_aam'])"
   ],
   "metadata": {
    "collapsed": false,
    "pycharm": {
     "name": "#%%\n"
    }
   }
  },
  {
   "cell_type": "code",
   "execution_count": 19,
   "outputs": [],
   "source": [
    "try:\n",
    "    for team in teams:\n",
    "        mask_team_matches = (df_detailed_matches['home_team'] == team) | (df_detailed_matches['away_team'] == team)\n",
    "        team_matches = df_detailed_matches.loc[mask_team_matches]\n",
    "        team_matches = team_matches.sort_values(by='date', ascending=False)\n",
    "\n",
    "        for index, row in team_matches.iterrows():\n",
    "            mask_both = (team_matches['date'] < row['date'])\n",
    "            matches_filtering_by_date = team_matches.loc[mask_both]\n",
    "            win_counter = 0\n",
    "\n",
    "            for idx in range(len(matches_filtering_by_date)):\n",
    "                if team == matches_filtering_by_date.iloc[idx]['home_team']:\n",
    "                    match_goals = matches_filtering_by_date[['home_team_goal', 'away_team_goal']].iloc[idx]\n",
    "                    if match_goals.loc['home_team_goal'] > match_goals.loc['away_team_goal']:\n",
    "                        win_counter = win_counter + 1\n",
    "                    else:\n",
    "                        break\n",
    "                else:\n",
    "                    match_goals = matches_filtering_by_date[['home_team_goal', 'away_team_goal']].iloc[idx]\n",
    "                    if match_goals.loc['home_team_goal'] < match_goals.loc['away_team_goal']:\n",
    "                        win_counter = win_counter + 1\n",
    "                    else:\n",
    "                        break\n",
    "            if team == row['home_team']:\n",
    "                df_detailed_matches.loc[df_detailed_matches['match_api_id'] == row['match_api_id'], 'streak_last_wh'] = win_counter\n",
    "            else:\n",
    "                df_detailed_matches.loc[df_detailed_matches['match_api_id'] == row['match_api_id'], 'streak_last_wa'] = win_counter\n",
    "except Exception as e:\n",
    "    print(e)"
   ],
   "metadata": {
    "collapsed": false,
    "pycharm": {
     "name": "#%%\n"
    }
   }
  },
  {
   "cell_type": "code",
   "execution_count": 20,
   "outputs": [],
   "source": [
    "try:\n",
    "    for team in teams:\n",
    "        mask_team_matches = (df_detailed_matches['home_team'] == team) | (df_detailed_matches['away_team'] == team)\n",
    "        team_matches = df_detailed_matches.loc[mask_team_matches]\n",
    "        team_matches = team_matches.sort_values(by='date', ascending=False)\n",
    "\n",
    "        for index, row in team_matches.iterrows():\n",
    "            mask_both = (team_matches['date'] < row['date'])\n",
    "            matches_filtering_by_date = team_matches.loc[mask_both]\n",
    "            lose_counter = 0\n",
    "\n",
    "            for idx in range(len(matches_filtering_by_date)):\n",
    "                if team == matches_filtering_by_date.iloc[idx]['home_team']:\n",
    "                    match_goals = matches_filtering_by_date[['home_team_goal', 'away_team_goal']].iloc[idx]\n",
    "                    if match_goals.loc['home_team_goal'] > match_goals.loc['away_team_goal']:\n",
    "                        break\n",
    "                    else:\n",
    "                        lose_counter = lose_counter + 1\n",
    "                else:\n",
    "                    match_goals = matches_filtering_by_date[['home_team_goal', 'away_team_goal']].iloc[idx]\n",
    "                    if match_goals.loc['home_team_goal'] < match_goals.loc['away_team_goal']:\n",
    "                        break\n",
    "                    else:\n",
    "                        lose_counter = lose_counter + 1\n",
    "\n",
    "            if team == row['home_team']:\n",
    "                df_detailed_matches.loc[df_detailed_matches['match_api_id'] == row['match_api_id'], 'streak_last_lh'] = lose_counter\n",
    "            else:\n",
    "                df_detailed_matches.loc[df_detailed_matches['match_api_id'] == row['match_api_id'], 'streak_last_la'] = lose_counter\n",
    "except Exception as e:\n",
    "    print(e)"
   ],
   "metadata": {
    "collapsed": false,
    "pycharm": {
     "name": "#%%\n"
    }
   }
  },
  {
   "cell_type": "code",
   "execution_count": 21,
   "outputs": [],
   "source": [
    "df_detailed_matches.streak_last_la = df_detailed_matches.streak_last_la.astype(int)\n",
    "df_detailed_matches.streak_last_lh = df_detailed_matches.streak_last_lh.astype(int)\n",
    "\n",
    "df_detailed_matches.streak_last_wh = df_detailed_matches.streak_last_wh.astype(int)\n",
    "df_detailed_matches.streak_last_wa = df_detailed_matches.streak_last_wa.astype(int)\n"
   ],
   "metadata": {
    "collapsed": false,
    "pycharm": {
     "name": "#%%\n"
    }
   }
  },
  {
   "cell_type": "code",
   "execution_count": 22,
   "outputs": [],
   "source": [
    "columns_possession = ['awaypos', 'homepos', 'subtype', 'elapsed']\n",
    "new_columns_possession = ['awaypos', 'homepos', 'subtype', 'elapsed']\n",
    "df_possession = create_new_df_from_xml(df_detailed_matches, 'possession', columns_possession, new_columns_possession)"
   ],
   "metadata": {
    "collapsed": false,
    "pycharm": {
     "name": "#%%\n"
    }
   }
  },
  {
   "cell_type": "code",
   "execution_count": 23,
   "outputs": [],
   "source": [
    "df_possession[['awaypos', 'homepos']] = df_possession[['awaypos', 'homepos']].fillna(0).astype('int')\n",
    "df_possession[['awaypos', 'homepos']] = df_possession[['awaypos', 'homepos']].replace(0, np.nan)\n",
    "df_possession['awaypos'] = df_possession['awaypos'].fillna(df_possession.groupby('match_api_id')['awaypos'].transform('mean'))\n",
    "df_possession['homepos'] = df_possession['homepos'].fillna(df_possession.groupby('match_api_id')['homepos'].transform('mean'))\n",
    "df_possession[['awaypos', 'homepos']] = df_possession[['awaypos', 'homepos']].astype('int')"
   ],
   "metadata": {
    "collapsed": false,
    "pycharm": {
     "name": "#%%\n"
    }
   }
  },
  {
   "cell_type": "code",
   "execution_count": 24,
   "outputs": [],
   "source": [
    "# missin_values(df_detailed_matches)"
   ],
   "metadata": {
    "collapsed": false,
    "pycharm": {
     "name": "#%%\n"
    }
   }
  },
  {
   "cell_type": "code",
   "execution_count": 25,
   "outputs": [],
   "source": [
    "df_possession = df_possession.loc[(df_possession['elapsed'] == '90') | df_possession['elapsed'].isna()]\n",
    "df_possession = df_possession.groupby(by=['match_api_id'])[['awaypos', 'homepos']].mean().astype(int)\n",
    "df_possession = df_possession.reset_index(level=0)"
   ],
   "metadata": {
    "collapsed": false,
    "pycharm": {
     "name": "#%%\n"
    }
   }
  },
  {
   "cell_type": "code",
   "execution_count": 26,
   "outputs": [],
   "source": [
    "df_detailed_matches = pd.merge(df_detailed_matches, df_possession, how='left', on='match_api_id')"
   ],
   "metadata": {
    "collapsed": false,
    "pycharm": {
     "name": "#%%\n"
    }
   }
  },
  {
   "cell_type": "code",
   "execution_count": 27,
   "outputs": [],
   "source": [
    "df_detailed_matches_nan_possession = df_detailed_matches.loc[(df_detailed_matches['awaypos'].isna()) | (df_detailed_matches['homepos'].isna())]"
   ],
   "metadata": {
    "collapsed": false,
    "pycharm": {
     "name": "#%%\n"
    }
   }
  },
  {
   "cell_type": "code",
   "execution_count": 28,
   "outputs": [],
   "source": [
    "for index, row in df_detailed_matches_nan_possession.iterrows():\n",
    "    home_team = row['home_team']\n",
    "    away_team = row['away_team']\n",
    "\n",
    "    mask_all_matches_between_teams = ((df_detailed_matches['home_team'] == home_team) | (df_detailed_matches['away_team'] == home_team)) &\\\n",
    "                                     ((df_detailed_matches['home_team'] == away_team) | (df_detailed_matches['away_team'] == away_team))\n",
    "    all_matches_between_teams = df_detailed_matches.loc[mask_all_matches_between_teams]\n",
    "\n",
    "    home_possessions = []\n",
    "    away_possessions = []\n",
    "\n",
    "    for idx, r in all_matches_between_teams.iterrows():\n",
    "        if (r['home_team'] == home_team) & (not pd.isna(r['homepos'])):\n",
    "            home_possessions.append(r['homepos'])\n",
    "        elif (r['away_team'] == home_team) & (not pd.isna(r['awaypos'])):\n",
    "            home_possessions.append(r['awaypos'])\n",
    "\n",
    "        if (r['home_team'] == away_team) & (not pd.isna(r['homepos'])):\n",
    "            away_possessions.append(r['homepos'])\n",
    "        elif (r['away_team'] == away_team) & (not pd.isna(r['awaypos'])):\n",
    "            away_possessions.append(r['awaypos'])\n",
    "\n",
    "    if (len(home_possessions) == 0) | (len(away_possessions) == 0):\n",
    "        res = df_detailed_matches.drop(df_detailed_matches[df_detailed_matches.match_api_id == row.match_api_id].index)\n",
    "    else:\n",
    "        avg_possession_home = sum(home_possessions) / len(home_possessions)\n",
    "        avg_possession_away = sum(away_possessions) / len(away_possessions)\n",
    "        df_detailed_matches.loc[df_detailed_matches['match_api_id'] == row['match_api_id'], 'homepos'] = int(avg_possession_home)\n",
    "        df_detailed_matches.loc[df_detailed_matches['match_api_id'] == row['match_api_id'], 'awaypos'] = int(avg_possession_away)"
   ],
   "metadata": {
    "collapsed": false,
    "pycharm": {
     "name": "#%%\n"
    }
   }
  },
  {
   "cell_type": "code",
   "execution_count": 29,
   "outputs": [],
   "source": [
    "df_detailed_matches['awaypos'] = df_detailed_matches['awaypos'].fillna(df_detailed_matches.groupby(['away_team'])['awaypos'].transform('mean'))\n",
    "df_detailed_matches['homepos'] = df_detailed_matches['homepos'].fillna(df_detailed_matches.groupby(['home_team'])['homepos'].transform('mean'))\n",
    "\n",
    "df_detailed_matches['awaypos'] = df_detailed_matches['awaypos'].fillna(df_detailed_matches.groupby(['league_name'])['awaypos'].transform('mean'))\n",
    "df_detailed_matches['homepos'] = df_detailed_matches['homepos'].fillna(df_detailed_matches.groupby(['league_name'])['homepos'].transform('mean'))"
   ],
   "metadata": {
    "collapsed": false,
    "pycharm": {
     "name": "#%%\n"
    }
   }
  },
  {
   "cell_type": "code",
   "execution_count": 30,
   "outputs": [],
   "source": [
    "teams = pd.unique(df_detailed_matches[['home_team', 'away_team']].values.ravel('K'))\n",
    "\n",
    "try:\n",
    "    for team in teams:\n",
    "        mask_team_matches = (df_detailed_matches['home_team'] == team) | (df_detailed_matches['away_team'] == team)\n",
    "        matches = df_detailed_matches.loc[mask_team_matches]\n",
    "        matches = matches.sort_values(by='date')\n",
    "\n",
    "        for index, row in matches.iterrows():\n",
    "            previous_match_possession = row['homepos'] if team == row['home_team'] else row['awaypos']\n",
    "            next_match = matches.loc[matches['match_api_id'].shift(1) == row['match_api_id']].dropna(how='all')\n",
    "\n",
    "            if not next_match.empty:\n",
    "                if team == next_match['home_team'].values:\n",
    "                    df_detailed_matches.loc[df_detailed_matches['match_api_id'] == next_match['match_api_id'].values[0],\n",
    "                                            'last_match_possession_home'] = previous_match_possession\n",
    "                else:\n",
    "                    df_detailed_matches.loc[df_detailed_matches['match_api_id'] == next_match['match_api_id'].values[0],\n",
    "                                            'last_match_possession_away'] = previous_match_possession\n",
    "\n",
    "except Exception as e:\n",
    "    print(e)"
   ],
   "metadata": {
    "collapsed": false,
    "pycharm": {
     "name": "#%%\n"
    }
   }
  },
  {
   "cell_type": "code",
   "execution_count": 31,
   "outputs": [],
   "source": [
    "df_detailed_matches['last_match_possession_away'] = df_detailed_matches['last_match_possession_away'].fillna(\n",
    "    df_detailed_matches.groupby(['away_team'])['last_match_possession_away'].transform('mean'))\n",
    "df_detailed_matches['last_match_possession_home'] = df_detailed_matches['last_match_possession_home'].fillna(\n",
    "    df_detailed_matches.groupby(['home_team'])['last_match_possession_home'].transform('mean'))\n",
    "\n",
    "df_detailed_matches['last_match_possession_away'] = df_detailed_matches['last_match_possession_away'].fillna(\n",
    "    df_detailed_matches.groupby(['league_name'])['last_match_possession_away'].transform('mean'))\n",
    "df_detailed_matches['last_match_possession_home'] = df_detailed_matches['last_match_possession_home'].fillna(\n",
    "    df_detailed_matches.groupby(['league_name'])['last_match_possession_home'].transform('mean'))"
   ],
   "metadata": {
    "collapsed": false,
    "pycharm": {
     "name": "#%%\n"
    }
   }
  },
  {
   "cell_type": "code",
   "execution_count": 32,
   "outputs": [],
   "source": [
    "df_detailed_matches.last_match_possession_home = df_detailed_matches.last_match_possession_home.astype(int)\n",
    "df_detailed_matches.last_match_possession_away = df_detailed_matches.last_match_possession_away.astype(int)"
   ],
   "metadata": {
    "collapsed": false,
    "pycharm": {
     "name": "#%%\n"
    }
   }
  },
  {
   "cell_type": "code",
   "execution_count": 33,
   "outputs": [],
   "source": [
    "try:\n",
    "    for team in teams:\n",
    "        mask_team_matches = (df_detailed_matches['home_team'] == team) | (df_detailed_matches['away_team'] == team)\n",
    "        matches = df_detailed_matches.loc[mask_team_matches]\n",
    "        matches = matches.sort_values(by='date')\n",
    "\n",
    "        for index, row in matches.iterrows():\n",
    "            match_date = row['date']\n",
    "            next_match = matches.loc[matches['match_api_id'].shift(1) == row['match_api_id']].dropna(how='all')\n",
    "\n",
    "            if not next_match.empty:\n",
    "                days_last_match = delta = next_match['date'].iloc[0] - match_date\n",
    "\n",
    "                if team == next_match.iloc[0]['home_team']:\n",
    "                    df_detailed_matches.loc[df_detailed_matches['match_api_id'] == next_match['match_api_id'].values[0],\n",
    "                                            'days_since_lmh'] = days_last_match.days\n",
    "                else:\n",
    "                    df_detailed_matches.loc[df_detailed_matches['match_api_id'] == next_match['match_api_id'].values[0],\n",
    "                                            'days_since_lma'] = days_last_match.days\n",
    "\n",
    "except Exception as e:\n",
    "    print(e)"
   ],
   "metadata": {
    "collapsed": false,
    "pycharm": {
     "name": "#%%\n"
    }
   }
  },
  {
   "cell_type": "code",
   "execution_count": 34,
   "outputs": [],
   "source": [
    "df_detailed_matches['days_since_lmh'] = df_detailed_matches['days_since_lmh'].fillna(\n",
    "    df_detailed_matches.groupby(['league_name'])['days_since_lmh'].transform('mean').astype(int))\n",
    "\n",
    "df_detailed_matches['days_since_lma'] = df_detailed_matches['days_since_lma'].fillna(\n",
    "    df_detailed_matches.groupby(['league_name'])['days_since_lma'].transform('mean').astype(int))"
   ],
   "metadata": {
    "collapsed": false,
    "pycharm": {
     "name": "#%%\n"
    }
   }
  },
  {
   "cell_type": "code",
   "execution_count": 35,
   "outputs": [],
   "source": [
    "df_detailed_matches.days_since_lma = df_detailed_matches.days_since_lma.astype(int)\n",
    "df_detailed_matches.days_since_lmh = df_detailed_matches.days_since_lmh.astype(int)"
   ],
   "metadata": {
    "collapsed": false,
    "pycharm": {
     "name": "#%%\n"
    }
   }
  },
  {
   "cell_type": "code",
   "execution_count": 36,
   "outputs": [],
   "source": [
    "# date_temp = df_detailed_matches[['match_api_id', 'stage', 'date', 'home_team', 'away_team', 'days_since_lmh', 'days_since_lma']]\n",
    "# TODO add func to handle outliers\n",
    "# outliers_date = date_temp.loc[(date_temp.days_since_lma > 50) | (date_temp.days_since_lmh > 50)].apply(lambda row: fix_lm_date_outlier(row))"
   ],
   "metadata": {
    "collapsed": false,
    "pycharm": {
     "name": "#%%\n"
    }
   }
  },
  {
   "cell_type": "code",
   "execution_count": 37,
   "outputs": [],
   "source": [
    "for index, row in df_detailed_matches.iterrows():\n",
    "    home_team = row['home_team']\n",
    "    away_team = row['away_team']\n",
    "\n",
    "    mask_all_matches_between_teams = ((df_detailed_matches['home_team'] == home_team) | (df_detailed_matches['away_team'] == home_team)) & \\\n",
    "                                     ((df_detailed_matches['home_team'] == away_team) | (df_detailed_matches['away_team'] == away_team))\n",
    "    all_matches_between_teams = df_detailed_matches.loc[mask_all_matches_between_teams]\n",
    "\n",
    "    for idx, r in all_matches_between_teams.iterrows():\n",
    "        next_match = all_matches_between_teams.loc[all_matches_between_teams['match_api_id'].shift(1) == r['match_api_id']].dropna(how='all')\n",
    "        lm_winner = ''\n",
    "        if not next_match.empty:\n",
    "            if r['home_team_goal'] > r['away_team_goal']:\n",
    "                lm_winner = r['home_team']\n",
    "            elif r['home_team_goal'] == r['away_team_goal']:\n",
    "                lm_winner = 'Draw'\n",
    "            else:\n",
    "                lm_winner = r['away_team']\n",
    "\n",
    "            df_detailed_matches.loc[df_detailed_matches['match_api_id'] == next_match.iloc[0]['match_api_id'], 'lm_winner'] = lm_winner"
   ],
   "metadata": {
    "collapsed": false,
    "pycharm": {
     "name": "#%%\n"
    }
   }
  },
  {
   "cell_type": "code",
   "execution_count": 38,
   "outputs": [],
   "source": [
    "df_detailed_matches_nan_lm_winner = df_detailed_matches.loc[df_detailed_matches.lm_winner.isna()]"
   ],
   "metadata": {
    "collapsed": false,
    "pycharm": {
     "name": "#%%\n"
    }
   }
  },
  {
   "cell_type": "code",
   "execution_count": 39,
   "outputs": [],
   "source": [
    "for index, row in df_detailed_matches_nan_lm_winner.iterrows():\n",
    "    home_team = row['home_team']\n",
    "    away_team = row['away_team']\n",
    "\n",
    "    mask_all_matches_between_teams = ((df_detailed_matches['home_team'] == home_team) | (\n",
    "            df_detailed_matches['away_team'] == home_team)) & ((df_detailed_matches['home_team'] == away_team) | (\n",
    "            df_detailed_matches['away_team'] == away_team))\n",
    "    all_matches_between_teams = df_detailed_matches.loc[mask_all_matches_between_teams]\n",
    "    all_matches_between_teams = all_matches_between_teams.sort_values(by='date')\n",
    "\n",
    "    lm_winner = all_matches_between_teams.mode()['lm_winner'][0]\n",
    "    df_detailed_matches.loc[df_detailed_matches['match_api_id'] == row['match_api_id'], 'lm_winner'] = lm_winner\n",
    "\n",
    "df_detailed_matches.lm_winner = df_detailed_matches.lm_winner.astype('category')"
   ],
   "metadata": {
    "collapsed": false,
    "pycharm": {
     "name": "#%%\n"
    }
   }
  },
  {
   "cell_type": "code",
   "execution_count": 40,
   "outputs": [],
   "source": [
    "def get_points(row, team):\n",
    "    if row['home_team'] == team:\n",
    "        if row['home_team_goal'] > row['away_team_goal']:\n",
    "            return 3\n",
    "        elif row['home_team_goal'] < row['away_team_goal']:\n",
    "            return 0\n",
    "        else:\n",
    "            return 1\n",
    "    else:\n",
    "        if row['home_team_goal'] > row['away_team_goal']:\n",
    "            return 0\n",
    "        elif row['home_team_goal'] < row['away_team_goal']:\n",
    "            return 3\n",
    "        else:\n",
    "            return 1"
   ],
   "metadata": {
    "collapsed": false,
    "pycharm": {
     "name": "#%%\n"
    }
   }
  },
  {
   "cell_type": "code",
   "execution_count": 41,
   "outputs": [],
   "source": [
    "try:\n",
    "    for team in teams:\n",
    "        mask_find_team_matches = (df_detailed_matches['home_team'] == team) | (df_detailed_matches['away_team'] == team)\n",
    "        team_matches = df_detailed_matches.loc[mask_find_team_matches]\n",
    "        team_matches = team_matches.sort_values(by='date')\n",
    "\n",
    "        for index, row in team_matches.iterrows():\n",
    "            mask = (((df_detailed_matches['home_team'] == team) | (df_detailed_matches['away_team'] == team)) & (team_matches['date'] < row['date']))\n",
    "\n",
    "            point_list = team_matches.loc[mask].iloc[-5:].apply(lambda row: get_points(row, team), axis=1)\n",
    "            avg_points_l5m = np.nan\n",
    "\n",
    "            if len(point_list) > 4:\n",
    "                avg_points_l5m = point_list.mean()\n",
    "\n",
    "            if row['home_team'] == team:\n",
    "                df_detailed_matches.loc[df_detailed_matches.match_api_id == row.match_api_id, 'avg_points_l5m_h'] = avg_points_l5m\n",
    "            else:\n",
    "                df_detailed_matches.loc[df_detailed_matches.match_api_id == row.match_api_id, 'avg_points_l5m_a'] = avg_points_l5m\n",
    "except Exception as e:\n",
    "    e.with_traceback()\n",
    "    print(e)"
   ],
   "metadata": {
    "collapsed": false,
    "pycharm": {
     "name": "#%%\n"
    }
   }
  },
  {
   "cell_type": "code",
   "execution_count": 42,
   "outputs": [
    {
     "data": {
      "text/plain": "['2008/2009', '2009/2010', '2010/2011', '2011/2012']\nCategories (4, object): ['2008/2009', '2009/2010', '2010/2011', '2011/2012']"
     },
     "execution_count": 42,
     "metadata": {},
     "output_type": "execute_result"
    }
   ],
   "source": [
    "df_detailed_matches.season.unique()"
   ],
   "metadata": {
    "collapsed": false,
    "pycharm": {
     "name": "#%%\n"
    }
   }
  },
  {
   "cell_type": "code",
   "execution_count": 43,
   "outputs": [],
   "source": [
    "try:\n",
    "    for team in teams:\n",
    "        mask_find_team_matches = (df_detailed_matches['home_team'] == team) | (df_detailed_matches['away_team'] == team)\n",
    "        team_matches = df_detailed_matches.loc[mask_find_team_matches]\n",
    "        team_matches = team_matches.sort_values(by='date')\n",
    "        seasons_unique = team_matches.season.unique()\n",
    "\n",
    "        for season in seasons_unique:\n",
    "            season_matches = team_matches.loc[team_matches.season == season]\n",
    "            for index, row in season_matches.iterrows():\n",
    "                mask = (((df_detailed_matches['home_team'] == team) | (df_detailed_matches['away_team'] == team)) & (team_matches['date'] < row['date']))\n",
    "\n",
    "                point_list = season_matches.loc[mask].apply(lambda row: get_points(row, team), axis=1)\n",
    "                points = 0\n",
    "\n",
    "                if len(point_list):\n",
    "                    points = point_list.sum()\n",
    "\n",
    "                if row['home_team'] == team:\n",
    "                    df_detailed_matches.loc[df_detailed_matches.match_api_id == row.match_api_id, 'points_home'] = points\n",
    "                else:\n",
    "                    df_detailed_matches.loc[df_detailed_matches.match_api_id == row.match_api_id, 'points_away'] = points\n",
    "except Exception as e:\n",
    "    e.with_traceback()\n",
    "    print(e)"
   ],
   "metadata": {
    "collapsed": false,
    "pycharm": {
     "name": "#%%\n"
    }
   }
  },
  {
   "cell_type": "code",
   "execution_count": 44,
   "outputs": [],
   "source": [
    "df_detailed_matches['avg_points_l5m_h'] = df_detailed_matches['avg_points_l5m_h'].fillna(\n",
    "    df_detailed_matches.groupby(['season', 'home_team'])['avg_points_l5m_h'].transform('mean'))\n",
    "\n",
    "df_detailed_matches['avg_points_l5m_a'] = df_detailed_matches['avg_points_l5m_a'].fillna(\n",
    "    df_detailed_matches.groupby(['season', 'away_team'])['avg_points_l5m_a'].transform('mean'))"
   ],
   "metadata": {
    "collapsed": false,
    "pycharm": {
     "name": "#%%\n"
    }
   }
  },
  {
   "cell_type": "code",
   "execution_count": 45,
   "outputs": [],
   "source": [
    "df_detailed_matches.points_home = df_detailed_matches.points_home.astype(int)\n",
    "df_detailed_matches.points_away = df_detailed_matches.points_away.astype(int)"
   ],
   "metadata": {
    "collapsed": false,
    "pycharm": {
     "name": "#%%\n"
    }
   }
  },
  {
   "cell_type": "code",
   "execution_count": 46,
   "outputs": [],
   "source": [
    "df_detailed_matches = df_detailed_matches.drop(['home_team_goal', 'away_team_goal', 'possession'], axis=1)\n",
    "# te = df_detailed_matches.loc[((df_detailed_matches.home_team == 'Chelsea') | (df_detailed_matches.away_team == 'Chelsea'))][\n",
    "#     ['home_team', 'away_team', 'stage', 'date', 'result_match', 'points_home', 'points_away', 'avg_points_l5m_h', 'avg_points_l5m_a']]"
   ],
   "metadata": {
    "collapsed": false,
    "pycharm": {
     "name": "#%%\n"
    }
   }
  },
  {
   "cell_type": "code",
   "execution_count": 47,
   "outputs": [
    {
     "data": {
      "text/plain": "Summarize dataset:   0%|          | 0/5 [00:00<?, ?it/s]",
      "application/vnd.jupyter.widget-view+json": {
       "version_major": 2,
       "version_minor": 0,
       "model_id": "41160b2073f347dcb69828e4e7a58e3e"
      }
     },
     "metadata": {},
     "output_type": "display_data"
    },
    {
     "data": {
      "text/plain": "Generate report structure:   0%|          | 0/1 [00:00<?, ?it/s]",
      "application/vnd.jupyter.widget-view+json": {
       "version_major": 2,
       "version_minor": 0,
       "model_id": "5033750343484ae49470fb49b93be5c5"
      }
     },
     "metadata": {},
     "output_type": "display_data"
    },
    {
     "data": {
      "text/plain": "Render HTML:   0%|          | 0/1 [00:00<?, ?it/s]",
      "application/vnd.jupyter.widget-view+json": {
       "version_major": 2,
       "version_minor": 0,
       "model_id": "bd382751b2f84894b328b86f405e1aff"
      }
     },
     "metadata": {},
     "output_type": "display_data"
    },
    {
     "data": {
      "text/plain": "Export report to file:   0%|          | 0/1 [00:00<?, ?it/s]",
      "application/vnd.jupyter.widget-view+json": {
       "version_major": 2,
       "version_minor": 0,
       "model_id": "c5408e328ab24ba9977db37631ec8a67"
      }
     },
     "metadata": {},
     "output_type": "display_data"
    }
   ],
   "source": [
    "profile = ProfileReport(df_detailed_matches, title='Detailed matches', minimal=True)\n",
    "profile.to_file(output_file=\"report/second_profile.html\")"
   ],
   "metadata": {
    "collapsed": false,
    "pycharm": {
     "name": "#%%\n"
    }
   }
  },
  {
   "cell_type": "code",
   "execution_count": 48,
   "outputs": [
    {
     "data": {
      "text/plain": "(5000, 57)"
     },
     "execution_count": 48,
     "metadata": {},
     "output_type": "execute_result"
    }
   ],
   "source": [
    "df_detailed_matches.shape"
   ],
   "metadata": {
    "collapsed": false,
    "pycharm": {
     "name": "#%%\n"
    }
   }
  },
  {
   "cell_type": "code",
   "execution_count": 49,
   "outputs": [
    {
     "data": {
      "text/plain": "float64     23\nint32       12\nint64        2\ncategory     2\ncategory     1\ncategory     1\ncategory     1\ncategory     1\ncategory     1\ncategory     1\ncategory     1\ncategory     1\ncategory     1\ncategory     1\ncategory     1\ncategory     1\ncategory     1\ncategory     1\nobject       1\ncategory     1\ncategory     1\ncategory     1\ndtype: int64"
     },
     "execution_count": 49,
     "metadata": {},
     "output_type": "execute_result"
    }
   ],
   "source": [
    "pd.value_counts(df_detailed_matches.dtypes)"
   ],
   "metadata": {
    "collapsed": false,
    "pycharm": {
     "name": "#%%\n"
    }
   }
  },
  {
   "cell_type": "code",
   "execution_count": 50,
   "outputs": [
    {
     "data": {
      "text/plain": "       country_name             league_name     season        date  home_team  \\\ncount          5000                    5000       5000        5000       5000   \nunique            5                       5          4         526        128   \ntop         England  England Premier League  2010/2011  2011-05-07  Liverpool   \nfreq           1249                    1249       1677          32         63   \n\n           away_team result_match   home_player_6  home_player_7  \\\ncount           5000         5000            4985           4963   \nunique           128            3            1002            883   \ntop     RCD Espanyol            H  Xavi Hernandez  Daniele Conti   \nfreq              63         2392              43             47   \n\n        home_player_8        home_player_9 home_player_10 home_player_11  \\\ncount            4971                 4978           4960           4973   \nunique           1072                 1017            943            691   \ntop     Frank Lampard  Matthew Etherington   Diego Castro    David Villa   \nfreq               37                   45             51             48   \n\n         away_player_6  away_player_7 away_player_8 away_player_9  \\\ncount             4980           4968          4966          4970   \nunique            1029            981          1110          1107   \ntop     Xavi Hernandez  Daniele Conti  Gareth Barry  Andrea Cossu   \nfreq                47             46            33            40   \n\n           away_player_10     away_player_11 lm_winner  \ncount                4963               4972      4783  \nunique               1041                718       118  \ntop     Sergio Pellissier  Fernando Llorente      Draw  \nfreq                   37                 42      1175  ",
      "text/html": "<div>\n<style scoped>\n    .dataframe tbody tr th:only-of-type {\n        vertical-align: middle;\n    }\n\n    .dataframe tbody tr th {\n        vertical-align: top;\n    }\n\n    .dataframe thead th {\n        text-align: right;\n    }\n</style>\n<table border=\"1\" class=\"dataframe\">\n  <thead>\n    <tr style=\"text-align: right;\">\n      <th></th>\n      <th>country_name</th>\n      <th>league_name</th>\n      <th>season</th>\n      <th>date</th>\n      <th>home_team</th>\n      <th>away_team</th>\n      <th>result_match</th>\n      <th>home_player_6</th>\n      <th>home_player_7</th>\n      <th>home_player_8</th>\n      <th>home_player_9</th>\n      <th>home_player_10</th>\n      <th>home_player_11</th>\n      <th>away_player_6</th>\n      <th>away_player_7</th>\n      <th>away_player_8</th>\n      <th>away_player_9</th>\n      <th>away_player_10</th>\n      <th>away_player_11</th>\n      <th>lm_winner</th>\n    </tr>\n  </thead>\n  <tbody>\n    <tr>\n      <th>count</th>\n      <td>5000</td>\n      <td>5000</td>\n      <td>5000</td>\n      <td>5000</td>\n      <td>5000</td>\n      <td>5000</td>\n      <td>5000</td>\n      <td>4985</td>\n      <td>4963</td>\n      <td>4971</td>\n      <td>4978</td>\n      <td>4960</td>\n      <td>4973</td>\n      <td>4980</td>\n      <td>4968</td>\n      <td>4966</td>\n      <td>4970</td>\n      <td>4963</td>\n      <td>4972</td>\n      <td>4783</td>\n    </tr>\n    <tr>\n      <th>unique</th>\n      <td>5</td>\n      <td>5</td>\n      <td>4</td>\n      <td>526</td>\n      <td>128</td>\n      <td>128</td>\n      <td>3</td>\n      <td>1002</td>\n      <td>883</td>\n      <td>1072</td>\n      <td>1017</td>\n      <td>943</td>\n      <td>691</td>\n      <td>1029</td>\n      <td>981</td>\n      <td>1110</td>\n      <td>1107</td>\n      <td>1041</td>\n      <td>718</td>\n      <td>118</td>\n    </tr>\n    <tr>\n      <th>top</th>\n      <td>England</td>\n      <td>England Premier League</td>\n      <td>2010/2011</td>\n      <td>2011-05-07</td>\n      <td>Liverpool</td>\n      <td>RCD Espanyol</td>\n      <td>H</td>\n      <td>Xavi Hernandez</td>\n      <td>Daniele Conti</td>\n      <td>Frank Lampard</td>\n      <td>Matthew Etherington</td>\n      <td>Diego Castro</td>\n      <td>David Villa</td>\n      <td>Xavi Hernandez</td>\n      <td>Daniele Conti</td>\n      <td>Gareth Barry</td>\n      <td>Andrea Cossu</td>\n      <td>Sergio Pellissier</td>\n      <td>Fernando Llorente</td>\n      <td>Draw</td>\n    </tr>\n    <tr>\n      <th>freq</th>\n      <td>1249</td>\n      <td>1249</td>\n      <td>1677</td>\n      <td>32</td>\n      <td>63</td>\n      <td>63</td>\n      <td>2392</td>\n      <td>43</td>\n      <td>47</td>\n      <td>37</td>\n      <td>45</td>\n      <td>51</td>\n      <td>48</td>\n      <td>47</td>\n      <td>46</td>\n      <td>33</td>\n      <td>40</td>\n      <td>37</td>\n      <td>42</td>\n      <td>1175</td>\n    </tr>\n  </tbody>\n</table>\n</div>"
     },
     "execution_count": 50,
     "metadata": {},
     "output_type": "execute_result"
    }
   ],
   "source": [
    "df_detailed_matches.describe(exclude=\"number\")"
   ],
   "metadata": {
    "collapsed": false,
    "pycharm": {
     "name": "#%%\n"
    }
   }
  },
  {
   "cell_type": "code",
   "execution_count": 51,
   "outputs": [],
   "source": [
    "unique_num_values = df_detailed_matches.select_dtypes(include=['number']).nunique().sort_values()"
   ],
   "metadata": {
    "collapsed": false,
    "pycharm": {
     "name": "#%%\n"
    }
   }
  },
  {
   "cell_type": "code",
   "execution_count": 52,
   "outputs": [
    {
     "data": {
      "text/plain": "<AxesSubplot:title={'center':'Unique values per feature'}>"
     },
     "execution_count": 52,
     "metadata": {},
     "output_type": "execute_result"
    }
   ],
   "source": [
    "unique_num_values.drop(['match_api_id']).plot.bar(logy=True, figsize=(15,4), title='Unique values per feature')\n",
    "# missin_values(df_detailed_matches).sort_values(by='percent_missing', ascending=False).head(15)"
   ],
   "metadata": {
    "collapsed": false,
    "pycharm": {
     "name": "#%%\n"
    }
   }
  },
  {
   "cell_type": "code",
   "execution_count": 53,
   "outputs": [
    {
     "name": "stdout",
     "output_type": "stream",
     "text": [
      "You have to seem 0 in db.\n"
     ]
    }
   ],
   "source": [
    "n_duplicates = df_detailed_matches.drop(['match_api_id'], axis=1).duplicated().sum()\n",
    "print(f'You have to seem {n_duplicates} in db.')"
   ],
   "metadata": {
    "collapsed": false,
    "pycharm": {
     "name": "#%%\n"
    }
   }
  },
  {
   "cell_type": "code",
   "execution_count": 65,
   "outputs": [
    {
     "data": {
      "text/plain": "                   column_name  percent_missing\nPSA                        PSA        46.259306\nPSD                        PSD        46.259306\nPSH                        PSH        46.259306\naway_player_11  away_player_11         0.501216\nhome_player_10  home_player_10         0.501216\naway_player_10  away_player_10         0.434879\nhome_player_11  home_player_11         0.420137\naway_player_8    away_player_8         0.346429\nhome_player_7    home_player_7         0.339058\nIWD                        IWD         0.316946",
      "text/html": "<div>\n<style scoped>\n    .dataframe tbody tr th:only-of-type {\n        vertical-align: middle;\n    }\n\n    .dataframe tbody tr th {\n        vertical-align: top;\n    }\n\n    .dataframe thead th {\n        text-align: right;\n    }\n</style>\n<table border=\"1\" class=\"dataframe\">\n  <thead>\n    <tr style=\"text-align: right;\">\n      <th></th>\n      <th>column_name</th>\n      <th>percent_missing</th>\n    </tr>\n  </thead>\n  <tbody>\n    <tr>\n      <th>PSA</th>\n      <td>PSA</td>\n      <td>46.259306</td>\n    </tr>\n    <tr>\n      <th>PSD</th>\n      <td>PSD</td>\n      <td>46.259306</td>\n    </tr>\n    <tr>\n      <th>PSH</th>\n      <td>PSH</td>\n      <td>46.259306</td>\n    </tr>\n    <tr>\n      <th>away_player_11</th>\n      <td>away_player_11</td>\n      <td>0.501216</td>\n    </tr>\n    <tr>\n      <th>home_player_10</th>\n      <td>home_player_10</td>\n      <td>0.501216</td>\n    </tr>\n    <tr>\n      <th>away_player_10</th>\n      <td>away_player_10</td>\n      <td>0.434879</td>\n    </tr>\n    <tr>\n      <th>home_player_11</th>\n      <td>home_player_11</td>\n      <td>0.420137</td>\n    </tr>\n    <tr>\n      <th>away_player_8</th>\n      <td>away_player_8</td>\n      <td>0.346429</td>\n    </tr>\n    <tr>\n      <th>home_player_7</th>\n      <td>home_player_7</td>\n      <td>0.339058</td>\n    </tr>\n    <tr>\n      <th>IWD</th>\n      <td>IWD</td>\n      <td>0.316946</td>\n    </tr>\n  </tbody>\n</table>\n</div>"
     },
     "execution_count": 65,
     "metadata": {},
     "output_type": "execute_result"
    }
   ],
   "source": [
    "missin_values(df_detailed_matches).sort_values(by='percent_missing', ascending=False).head(10)"
   ],
   "metadata": {
    "collapsed": false,
    "pycharm": {
     "name": "#%%\n"
    }
   }
  },
  {
   "cell_type": "code",
   "execution_count": null,
   "outputs": [],
   "source": [],
   "metadata": {
    "collapsed": false,
    "pycharm": {
     "name": "#%%\n"
    }
   }
  }
 ],
 "metadata": {
  "kernelspec": {
   "display_name": "Python 3",
   "language": "python",
   "name": "python3"
  },
  "language_info": {
   "codemirror_mode": {
    "name": "ipython",
    "version": 2
   },
   "file_extension": ".py",
   "mimetype": "text/x-python",
   "name": "python",
   "nbconvert_exporter": "python",
   "pygments_lexer": "ipython2",
   "version": "2.7.6"
  }
 },
 "nbformat": 4,
 "nbformat_minor": 0
}
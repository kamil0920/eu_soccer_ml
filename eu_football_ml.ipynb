{
 "cells": [
  {
   "cell_type": "code",
   "execution_count": 1,
   "outputs": [],
   "source": [
    "import traceback\n",
    "\n",
    "import numpy as np\n",
    "import pandas as pd\n",
    "from pandas_profiling import ProfileReport\n",
    "\n",
    "import seaborn as sns\n",
    "\n",
    "import sqlite3 as db\n",
    "\n",
    "import xml.etree.cElementTree as et"
   ],
   "metadata": {
    "collapsed": false,
    "pycharm": {
     "name": "#%%\n"
    }
   }
  },
  {
   "cell_type": "code",
   "execution_count": 2,
   "outputs": [],
   "source": [
    "def process_xml_columns(df_new_cols, cols, match, xml_col):\n",
    "    path = match[xml_col]\n",
    "    if path is not None:\n",
    "        root = et.fromstring(path)\n",
    "        try:\n",
    "            temp_column_list = []\n",
    "            for column in cols:\n",
    "                row_elements = root.findall('.//{}'.format(column))\n",
    "                row_list = []\n",
    "                for row in row_elements:\n",
    "                    row_list.append(row.text)\n",
    "                temp_column_list.append(row_list)\n",
    "            df = pd.DataFrame(temp_column_list)\n",
    "            df = df.transpose()\n",
    "            df.columns = df_new_cols\n",
    "            df['match_api_id'] = match.match_api_id\n",
    "            return df\n",
    "        except Exception as e:\n",
    "            print(e)\n",
    "\n",
    "\n",
    "def create_new_df_from_xml(df, xml_column, df_cols, df_new_cols):\n",
    "    new_df = pd.DataFrame()\n",
    "    for index, row in df[df[xml_column].notna()].iterrows():\n",
    "        df = process_xml_columns(df_new_cols, df_cols, row, xml_column)\n",
    "        new_df = pd.concat([new_df, df], ignore_index=True)\n",
    "    return new_df\n",
    "\n",
    "\n",
    "def fill_nan_goals(df, col1, col2):\n",
    "    df_col1_nan = df.loc[df[col1].isna()]\n",
    "    df_col2_nan = df.loc[df[col2].isna()]\n",
    "    for index, row in df_col1_nan.iterrows():\n",
    "        avg_mean = df.loc[df.home_team == row.home_team][col1].mean()\n",
    "        if avg_mean == avg_mean:\n",
    "            df.loc[df.match_api_id == row.match_api_id, col1] = round(avg_mean)\n",
    "        else:\n",
    "            df.loc[df.match_api_id == row.match_api_id, col1] = 0\n",
    "    for index, row in df_col2_nan.iterrows():\n",
    "        avg_mean = df.loc[df.away_team == row.away_team][col2].mean()\n",
    "        if avg_mean == avg_mean:\n",
    "            df.loc[df.match_api_id == row.match_api_id, col2] = round(avg_mean)\n",
    "        else:\n",
    "            df.loc[df.match_api_id == row.match_api_id, col1] = 0\n",
    "    return df\n",
    "\n",
    "\n",
    "def missin_values(df):\n",
    "    percent_missing = df.isnull().sum() * 100 / len(df)\n",
    "    missing_value_df = pd.DataFrame({'column_name': df.columns,\n",
    "                                     'percent_missing': percent_missing})\n",
    "    return missing_value_df\n",
    "\n",
    "def get_winner(row):\n",
    "    if row['result_match'] == 'H':\n",
    "        m_winner = row['home_team']\n",
    "    elif row['home_team_goal'] == 'D':\n",
    "        m_winner = 'Draw'\n",
    "    else:\n",
    "        m_winner = row['away_team']\n",
    "    return m_winner\n",
    "\n",
    "\n",
    "def get_points(row, team):\n",
    "    if row['home_team'] == team:\n",
    "        if row['result_match']== 'H':\n",
    "            return 3\n",
    "        elif row['result_match'] == 'A':\n",
    "            return 0\n",
    "        else:\n",
    "            return 1\n",
    "    else:\n",
    "        if row['home_team_goal'] == 'H':\n",
    "            return 0\n",
    "        elif row['home_team_goal'] == 'A':\n",
    "            return 3\n",
    "        else:\n",
    "            return 1"
   ],
   "metadata": {
    "collapsed": false,
    "pycharm": {
     "name": "#%%\n"
    }
   }
  },
  {
   "cell_type": "code",
   "execution_count": 3,
   "outputs": [],
   "source": [
    "conn = db.connect('eu_soccer_database/database.sqlite')\n",
    "chunk_size = 5000\n",
    "batch_no = 1\n",
    "for chunk in pd.read_sql(\"SELECT m.match_api_id,\"\n",
    "                         \" Country.name AS country_name,\"\n",
    "                         \" League.name AS league_name,\"\n",
    "                         \" season,\"\n",
    "                         \" stage,\"\n",
    "                         \" m.date,\"\n",
    "                         \" HT.team_long_name AS  home_team,\"\n",
    "                         \" AT.team_long_name AS away_team,\"\n",
    "                         \" home_team_goal,\"\n",
    "                         \" away_team_goal,\"\n",
    "                         \" m.possession,\"\n",
    "                         \" CASE\"\n",
    "                         \" WHEN m.home_team_goal > m.away_team_goal THEN 'H'\"\n",
    "                         \" WHEN m.home_team_goal < m.away_team_goal THEN 'A'\"\n",
    "                         \" WHEN m.home_team_goal = m.away_team_goal THEN 'D'\"\n",
    "                         \" END AS result_match,\"\n",
    "                         \" m.B365H,\"\n",
    "                         \" m.B365D,\"\n",
    "                         \" m.B365A,\"\n",
    "                         \" m.BWH,\"\n",
    "                         \" m.BWD,\"\n",
    "                         \" m.BWA,\"\n",
    "                         \" m.IWH,\"\n",
    "                         \" m.IWD,\"\n",
    "                         \" m.IWA,\"\n",
    "                         \" m.LBH,\"\n",
    "                         \" m.LBD,\"\n",
    "                         \" m.LBA,\"\n",
    "                         \" m.PSH,\"\n",
    "                         \" m.PSD,\"\n",
    "                         \" m.PSA,\"\n",
    "                         \" m.WHH,\"\n",
    "                         \" m.WHD,\"\n",
    "                         \" m.WHA\"\n",
    "                         \" FROM Match as m\"\n",
    "                         \" JOIN Country on Country.id = m.country_id\"\n",
    "                         \" JOIN League on League.id = m.league_id\"\n",
    "                         \" LEFT JOIN Team AS HT on HT.team_api_id = m.home_team_api_id\"\n",
    "                         \" LEFT JOIN Team AS AT on AT.team_api_id = m.away_team_api_id\"\n",
    "                         \" LEFT JOIN Player AS H6 on H6.player_api_id = m.home_player_6\"\n",
    "                         \" LEFT JOIN Player AS H7 on H7.player_api_id = m.home_player_7\"\n",
    "                         \" LEFT JOIN Player AS H8 on H8.player_api_id = m.home_player_8\"\n",
    "                         \" LEFT JOIN Player AS H9 on H9.player_api_id = m.home_player_9\"\n",
    "                         \" LEFT JOIN Player AS H10 on H10.player_api_id = m.home_player_10\"\n",
    "                         \" LEFT JOIN Player AS H11 on H11.player_api_id = m.home_player_11\"\n",
    "                         \" LEFT JOIN Player AS A6 on A6.player_api_id = m.away_player_6\"\n",
    "                         \" LEFT JOIN Player AS A7 on A7.player_api_id = m.away_player_7\"\n",
    "                         \" LEFT JOIN Player AS A8 on A8.player_api_id = m.away_player_8\"\n",
    "                         \" LEFT JOIN Player AS A9 on A9.player_api_id = m.away_player_9\"\n",
    "                         \" LEFT JOIN Player AS A10 on A10.player_api_id = m.away_player_10\"\n",
    "                         \" LEFT JOIN Player AS A11 on A11.player_api_id = m.away_player_11\"\n",
    "                         \" WHERE League.id IN (1729, 4769, 7809, 10257, 21518)\"\n",
    "                         \" AND m.possession IS NOT NULL\"\n",
    "                         \" ORDER by date;\", conn, chunksize=chunk_size):\n",
    "    chunk.to_csv('chunk_data/chunk' + str(batch_no) + '.csv', index=False)\n",
    "    batch_no += 1"
   ],
   "metadata": {
    "collapsed": false,
    "pycharm": {
     "name": "#%%\n"
    }
   }
  },
  {
   "cell_type": "code",
   "execution_count": 4,
   "outputs": [],
   "source": [
    "df_detailed_matches = pd.read_csv('chunk_data/chunk1.csv')"
   ],
   "metadata": {
    "collapsed": false,
    "pycharm": {
     "name": "#%%\n"
    }
   }
  },
  {
   "cell_type": "code",
   "execution_count": 5,
   "outputs": [
    {
     "data": {
      "text/plain": "Summarize dataset:   0%|          | 0/5 [00:00<?, ?it/s]",
      "application/vnd.jupyter.widget-view+json": {
       "version_major": 2,
       "version_minor": 0,
       "model_id": "475903e512c547ecb28c0a9a52f17fa7"
      }
     },
     "metadata": {},
     "output_type": "display_data"
    },
    {
     "data": {
      "text/plain": "Generate report structure:   0%|          | 0/1 [00:00<?, ?it/s]",
      "application/vnd.jupyter.widget-view+json": {
       "version_major": 2,
       "version_minor": 0,
       "model_id": "fce32bb51ca349cca76a7afb4a3f1ab0"
      }
     },
     "metadata": {},
     "output_type": "display_data"
    },
    {
     "data": {
      "text/plain": "Render HTML:   0%|          | 0/1 [00:00<?, ?it/s]",
      "application/vnd.jupyter.widget-view+json": {
       "version_major": 2,
       "version_minor": 0,
       "model_id": "d3b90208a9b54797bbf1050a28522515"
      }
     },
     "metadata": {},
     "output_type": "display_data"
    },
    {
     "data": {
      "text/plain": "Export report to file:   0%|          | 0/1 [00:00<?, ?it/s]",
      "application/vnd.jupyter.widget-view+json": {
       "version_major": 2,
       "version_minor": 0,
       "model_id": "6790162310664748979599d35c7eec9c"
      }
     },
     "metadata": {},
     "output_type": "display_data"
    }
   ],
   "source": [
    "profile = ProfileReport(df_detailed_matches, title='Detailed matches', minimal=True)\n",
    "profile.to_file(output_file=\"report/first_profile.html\")"
   ],
   "metadata": {
    "collapsed": false,
    "pycharm": {
     "name": "#%%\n"
    }
   }
  },
  {
   "cell_type": "code",
   "execution_count": 6,
   "outputs": [],
   "source": [
    "df_detailed_matches['date'] = pd.to_datetime(df_detailed_matches['date']).dt.date\n",
    "df_detailed_matches[\n",
    "    ['country_name', 'league_name', 'season', 'home_team', 'away_team', 'result_match', 'possession']] = df_detailed_matches[\n",
    "    ['country_name', 'league_name', 'season', 'home_team', 'away_team', 'result_match', 'possession']].astype('category')"
   ],
   "metadata": {
    "collapsed": false,
    "pycharm": {
     "name": "#%%\n"
    }
   }
  },
  {
   "cell_type": "code",
   "execution_count": 7,
   "outputs": [],
   "source": [
    "df_detailed_matches = df_detailed_matches.drop(['PSH', 'PSD', 'PSA'], axis=1)"
   ],
   "metadata": {
    "collapsed": false,
    "pycharm": {
     "name": "#%%\n"
    }
   }
  },
  {
   "cell_type": "code",
   "execution_count": 8,
   "outputs": [],
   "source": [
    "teams = pd.unique(df_detailed_matches[['home_team', 'away_team']].values.ravel('K'))"
   ],
   "metadata": {
    "collapsed": false,
    "pycharm": {
     "name": "#%%\n"
    }
   }
  },
  {
   "cell_type": "code",
   "execution_count": 9,
   "outputs": [],
   "source": [
    "try:\n",
    "    for team in teams:\n",
    "        mask_team_matches = (df_detailed_matches['home_team'] == team) | (df_detailed_matches['away_team'] == team)\n",
    "        matches = df_detailed_matches.loc[mask_team_matches]\n",
    "        matches = matches.sort_values(by='date')\n",
    "\n",
    "        for index, row in matches.iterrows():\n",
    "            previous_match_goals = row['home_team_goal'] if team == row['home_team'] else row['away_team_goal']\n",
    "            last_match = matches.loc[matches['match_api_id'].shift(1) == row['match_api_id']].dropna(how='all')\n",
    "            if not last_match.empty:\n",
    "                if team == last_match['home_team'].values:\n",
    "                    df_detailed_matches.loc[\n",
    "                        df_detailed_matches['match_api_id'] == last_match.iloc[0]['match_api_id'], 'lm_goals_home'] = previous_match_goals\n",
    "                else:\n",
    "                    df_detailed_matches.loc[\n",
    "                        df_detailed_matches['match_api_id'] == last_match.iloc[0]['match_api_id'], 'lm_goals_away'] = previous_match_goals\n",
    "except Exception as e:\n",
    "    e.with_traceback()\n",
    "    print(e)\n",
    "\n",
    "df_detailed_matches = fill_nan_goals(df_detailed_matches, 'lm_goals_home', 'lm_goals_away')\n",
    "df_detailed_matches.lm_goals_home = df_detailed_matches.lm_goals_home.astype(int)\n",
    "df_detailed_matches.lm_goals_away = df_detailed_matches.lm_goals_away.astype(int)"
   ],
   "metadata": {
    "collapsed": false,
    "pycharm": {
     "name": "#%%\n"
    }
   }
  },
  {
   "cell_type": "code",
   "execution_count": 10,
   "outputs": [],
   "source": [
    "try:\n",
    "    for team in teams:\n",
    "        mask_find_team_matches = (df_detailed_matches['home_team'] == team) | (\n",
    "                df_detailed_matches['away_team'] == team)\n",
    "        team_matches = df_detailed_matches.loc[mask_find_team_matches]\n",
    "        team_matches = team_matches.sort_values(by='date')\n",
    "\n",
    "        for index, row in team_matches.iterrows():\n",
    "            mask_home = ((team_matches['home_team'] == row['home_team']) & (team_matches['date'] < row['date']))\n",
    "            mask_away = ((team_matches['away_team'] == row['away_team']) & (team_matches['date'] < row['date']))\n",
    "            mask_both = (team_matches['date'] < row['date'])\n",
    "\n",
    "            avg_l5m_hh = team_matches.loc[mask_home].iloc[-5:]['home_team_goal'].mean()\n",
    "            avg_l5m_aa = team_matches.loc[mask_away].iloc[-5:]['away_team_goal'].mean()\n",
    "            l5_m = team_matches.loc[mask_both].iloc[-5:]\n",
    "\n",
    "            goals = []\n",
    "\n",
    "            for idx, r in l5_m.iterrows():\n",
    "                if r['home_team'] == team:\n",
    "                    goals.append(r['home_team_goal'])\n",
    "                else:\n",
    "                    goals.append(r['away_team_goal'])\n",
    "\n",
    "            avg_l5_m = np.nan if len(goals) == 0 else sum(goals) / len(goals)\n",
    "            if team == row['home_team']:\n",
    "                if pd.isna(avg_l5m_aa):\n",
    "                    avg_l5m_aa = row['home_team_goal']\n",
    "                df_detailed_matches.loc[\n",
    "                    df_detailed_matches['match_api_id'] == row['match_api_id'], 'avg_l5m_hh'] = avg_l5m_hh\n",
    "                df_detailed_matches.loc[\n",
    "                    df_detailed_matches['match_api_id'] == row['match_api_id'], 'avg_l5m_h'] = avg_l5_m\n",
    "            else:\n",
    "                if pd.isna(avg_l5m_aa):\n",
    "                    avg_l5m_aa = row['away_team_goal']\n",
    "                df_detailed_matches.loc[\n",
    "                    df_detailed_matches['match_api_id'] == row['match_api_id'], 'avg_l5m_aa'] = avg_l5m_aa\n",
    "                df_detailed_matches.loc[\n",
    "                    df_detailed_matches['match_api_id'] == row['match_api_id'], 'avg_l5m_a'] = avg_l5_m\n",
    "except Exception as e:\n",
    "    print(e)\n",
    "\n",
    "df_detailed_matches = fill_nan_goals(df_detailed_matches, 'avg_l5m_h', 'avg_l5m_hh')\n",
    "df_detailed_matches = fill_nan_goals(df_detailed_matches, 'avg_l5m_a', 'avg_l5m_aa')"
   ],
   "metadata": {
    "collapsed": false,
    "pycharm": {
     "name": "#%%\n"
    }
   }
  },
  {
   "cell_type": "code",
   "execution_count": 11,
   "outputs": [],
   "source": [
    "try:\n",
    "    for team in teams:\n",
    "        mask_team_matches = (df_detailed_matches['home_team'] == team) | (df_detailed_matches['away_team'] == team)\n",
    "        team_matches = df_detailed_matches.loc[mask_team_matches]\n",
    "        team_matches = team_matches.sort_values(by='date', ascending=False)\n",
    "\n",
    "        for index, row in team_matches.iterrows():\n",
    "            mask_both = (team_matches['date'] < row['date'])\n",
    "            matches_filtering_by_date = team_matches.loc[mask_both]\n",
    "            win_counter = 0\n",
    "\n",
    "            for idx in range(len(matches_filtering_by_date)):\n",
    "                if team == matches_filtering_by_date.iloc[idx]['home_team']:\n",
    "                    match_goals = matches_filtering_by_date[['home_team_goal', 'away_team_goal']].iloc[idx]\n",
    "                    if match_goals.loc['home_team_goal'] > match_goals.loc['away_team_goal']:\n",
    "                        win_counter = win_counter + 1\n",
    "                    else:\n",
    "                        break\n",
    "                else:\n",
    "                    match_goals = matches_filtering_by_date[['home_team_goal', 'away_team_goal']].iloc[idx]\n",
    "                    if match_goals.loc['home_team_goal'] < match_goals.loc['away_team_goal']:\n",
    "                        win_counter = win_counter + 1\n",
    "                    else:\n",
    "                        break\n",
    "            if team == row['home_team']:\n",
    "                df_detailed_matches.loc[df_detailed_matches['match_api_id'] == row['match_api_id'], 'streak_last_wh'] = win_counter\n",
    "            else:\n",
    "                df_detailed_matches.loc[df_detailed_matches['match_api_id'] == row['match_api_id'], 'streak_last_wa'] = win_counter\n",
    "except Exception as e:\n",
    "    print(e)"
   ],
   "metadata": {
    "collapsed": false,
    "pycharm": {
     "name": "#%%\n"
    }
   }
  },
  {
   "cell_type": "code",
   "execution_count": 12,
   "outputs": [],
   "source": [
    "try:\n",
    "    for team in teams:\n",
    "        mask_team_matches = (df_detailed_matches['home_team'] == team) | (df_detailed_matches['away_team'] == team)\n",
    "        team_matches = df_detailed_matches.loc[mask_team_matches]\n",
    "        team_matches = team_matches.sort_values(by='date', ascending=False)\n",
    "\n",
    "        for index, row in team_matches.iterrows():\n",
    "            mask_both = (team_matches['date'] < row['date'])\n",
    "            matches_filtering_by_date = team_matches.loc[mask_both]\n",
    "            lose_counter = 0\n",
    "\n",
    "            for idx in range(len(matches_filtering_by_date)):\n",
    "                if team == matches_filtering_by_date.iloc[idx]['home_team']:\n",
    "                    match_goals = matches_filtering_by_date[['home_team_goal', 'away_team_goal']].iloc[idx]\n",
    "                    if match_goals.loc['home_team_goal'] > match_goals.loc['away_team_goal']:\n",
    "                        break\n",
    "                    else:\n",
    "                        lose_counter = lose_counter + 1\n",
    "                else:\n",
    "                    match_goals = matches_filtering_by_date[['home_team_goal', 'away_team_goal']].iloc[idx]\n",
    "                    if match_goals.loc['home_team_goal'] < match_goals.loc['away_team_goal']:\n",
    "                        break\n",
    "                    else:\n",
    "                        lose_counter = lose_counter + 1\n",
    "\n",
    "            if team == row['home_team']:\n",
    "                df_detailed_matches.loc[df_detailed_matches['match_api_id'] == row['match_api_id'], 'streak_last_lh'] = lose_counter\n",
    "            else:\n",
    "                df_detailed_matches.loc[df_detailed_matches['match_api_id'] == row['match_api_id'], 'streak_last_la'] = lose_counter\n",
    "except Exception as e:\n",
    "    print(e)\n",
    "\n",
    "df_detailed_matches.streak_last_la = df_detailed_matches.streak_last_la.astype(int)\n",
    "df_detailed_matches.streak_last_lh = df_detailed_matches.streak_last_lh.astype(int)\n",
    "\n",
    "df_detailed_matches.streak_last_wh = df_detailed_matches.streak_last_wh.astype(int)\n",
    "df_detailed_matches.streak_last_wa = df_detailed_matches.streak_last_wa.astype(int)"
   ],
   "metadata": {
    "collapsed": false,
    "pycharm": {
     "name": "#%%\n"
    }
   }
  },
  {
   "cell_type": "code",
   "execution_count": 13,
   "outputs": [],
   "source": [
    "columns_possession = ['awaypos', 'homepos', 'subtype', 'elapsed']\n",
    "new_columns_possession = ['awaypos', 'homepos', 'subtype', 'elapsed']\n",
    "df_possession = create_new_df_from_xml(df_detailed_matches, 'possession', columns_possession, new_columns_possession)"
   ],
   "metadata": {
    "collapsed": false,
    "pycharm": {
     "name": "#%%\n"
    }
   }
  },
  {
   "cell_type": "code",
   "execution_count": 14,
   "outputs": [],
   "source": [
    "df_possession[['awaypos', 'homepos']] = df_possession[['awaypos', 'homepos']].fillna(0).astype('int')\n",
    "df_possession[['awaypos', 'homepos']] = df_possession[['awaypos', 'homepos']].replace(0, np.nan)\n",
    "df_possession['awaypos'] = df_possession['awaypos'].fillna(df_possession.groupby('match_api_id')['awaypos'].transform('mean'))\n",
    "df_possession['homepos'] = df_possession['homepos'].fillna(df_possession.groupby('match_api_id')['homepos'].transform('mean'))\n",
    "df_possession[['awaypos', 'homepos']] = df_possession[['awaypos', 'homepos']].astype('int')"
   ],
   "metadata": {
    "collapsed": false,
    "pycharm": {
     "name": "#%%\n"
    }
   }
  },
  {
   "cell_type": "code",
   "execution_count": 15,
   "outputs": [],
   "source": [
    "df_possession = df_possession.loc[(df_possession['elapsed'] == '90') | df_possession['elapsed'].isna()]\n",
    "df_possession = df_possession.groupby(by=['match_api_id'])[['awaypos', 'homepos']].mean().astype(int)\n",
    "df_possession = df_possession.reset_index(level=0)"
   ],
   "metadata": {
    "collapsed": false,
    "pycharm": {
     "name": "#%%\n"
    }
   }
  },
  {
   "cell_type": "code",
   "execution_count": 16,
   "outputs": [],
   "source": [
    "df_detailed_matches = pd.merge(df_detailed_matches, df_possession, how='left', on='match_api_id')"
   ],
   "metadata": {
    "collapsed": false,
    "pycharm": {
     "name": "#%%\n"
    }
   }
  },
  {
   "cell_type": "code",
   "execution_count": 17,
   "outputs": [],
   "source": [
    "df_detailed_matches_nan_possession = df_detailed_matches.loc[(df_detailed_matches['awaypos'].isna()) | (df_detailed_matches['homepos'].isna())]"
   ],
   "metadata": {
    "collapsed": false,
    "pycharm": {
     "name": "#%%\n"
    }
   }
  },
  {
   "cell_type": "code",
   "execution_count": 18,
   "outputs": [],
   "source": [
    "for index, row in df_detailed_matches_nan_possession.iterrows():\n",
    "    home_team = row['home_team']\n",
    "    away_team = row['away_team']\n",
    "\n",
    "    mask_all_matches_between_teams = ((df_detailed_matches['home_team'] == home_team) | (df_detailed_matches['away_team'] == home_team)) &\\\n",
    "                                     ((df_detailed_matches['home_team'] == away_team) | (df_detailed_matches['away_team'] == away_team))\n",
    "    all_matches_between_teams = df_detailed_matches.loc[mask_all_matches_between_teams]\n",
    "\n",
    "    home_possessions = []\n",
    "    away_possessions = []\n",
    "\n",
    "    for idx, r in all_matches_between_teams.iterrows():\n",
    "        if (r['home_team'] == home_team) & (not pd.isna(r['homepos'])):\n",
    "            home_possessions.append(r['homepos'])\n",
    "        elif (r['away_team'] == home_team) & (not pd.isna(r['awaypos'])):\n",
    "            home_possessions.append(r['awaypos'])\n",
    "\n",
    "        if (r['home_team'] == away_team) & (not pd.isna(r['homepos'])):\n",
    "            away_possessions.append(r['homepos'])\n",
    "        elif (r['away_team'] == away_team) & (not pd.isna(r['awaypos'])):\n",
    "            away_possessions.append(r['awaypos'])\n",
    "\n",
    "    if (len(home_possessions) == 0) | (len(away_possessions) == 0):\n",
    "        res = df_detailed_matches.drop(df_detailed_matches[df_detailed_matches.match_api_id == row.match_api_id].index)\n",
    "    else:\n",
    "        avg_possession_home = sum(home_possessions) / len(home_possessions)\n",
    "        avg_possession_away = sum(away_possessions) / len(away_possessions)\n",
    "        df_detailed_matches.loc[df_detailed_matches['match_api_id'] == row['match_api_id'], 'homepos'] = int(avg_possession_home)\n",
    "        df_detailed_matches.loc[df_detailed_matches['match_api_id'] == row['match_api_id'], 'awaypos'] = int(avg_possession_away)\n",
    "\n",
    "df_detailed_matches['awaypos'] = df_detailed_matches['awaypos'].fillna(df_detailed_matches.groupby(['away_team'])['awaypos'].transform('mean'))\n",
    "df_detailed_matches['homepos'] = df_detailed_matches['homepos'].fillna(df_detailed_matches.groupby(['home_team'])['homepos'].transform('mean'))\n",
    "\n",
    "df_detailed_matches['awaypos'] = df_detailed_matches['awaypos'].fillna(df_detailed_matches.groupby(['league_name'])['awaypos'].transform('mean'))\n",
    "df_detailed_matches['homepos'] = df_detailed_matches['homepos'].fillna(df_detailed_matches.groupby(['league_name'])['homepos'].transform('mean'))"
   ],
   "metadata": {
    "collapsed": false,
    "pycharm": {
     "name": "#%%\n"
    }
   }
  },
  {
   "cell_type": "code",
   "execution_count": 19,
   "outputs": [],
   "source": [
    "try:\n",
    "    for team in teams:\n",
    "        mask_team_matches = (df_detailed_matches['home_team'] == team) | (df_detailed_matches['away_team'] == team)\n",
    "        matches = df_detailed_matches.loc[mask_team_matches]\n",
    "        matches = matches.sort_values(by='date')\n",
    "\n",
    "        for index, row in matches.iterrows():\n",
    "            previous_match_possession = row['homepos'] if team == row['home_team'] else row['awaypos']\n",
    "            last_match = matches.loc[matches['match_api_id'].shift(1) == row['match_api_id']].dropna(how='all')\n",
    "\n",
    "            if not last_match.empty:\n",
    "                if team == last_match['home_team'].values:\n",
    "                    df_detailed_matches.loc[df_detailed_matches['match_api_id'] == last_match['match_api_id'].values[0],\n",
    "                                            'last_match_possession_home'] = previous_match_possession\n",
    "                else:\n",
    "                    df_detailed_matches.loc[df_detailed_matches['match_api_id'] == last_match['match_api_id'].values[0],\n",
    "                                            'last_match_possession_away'] = previous_match_possession\n",
    "except Exception as e:\n",
    "    print(e)\n",
    "\n",
    "df_detailed_matches['last_match_possession_away'] = df_detailed_matches['last_match_possession_away'].fillna(\n",
    "    df_detailed_matches.groupby(['away_team'])['last_match_possession_away'].transform('mean'))\n",
    "df_detailed_matches['last_match_possession_home'] = df_detailed_matches['last_match_possession_home'].fillna(\n",
    "    df_detailed_matches.groupby(['home_team'])['last_match_possession_home'].transform('mean'))\n",
    "\n",
    "df_detailed_matches['last_match_possession_away'] = df_detailed_matches['last_match_possession_away'].fillna(\n",
    "    df_detailed_matches.groupby(['league_name'])['last_match_possession_away'].transform('mean'))\n",
    "df_detailed_matches['last_match_possession_home'] = df_detailed_matches['last_match_possession_home'].fillna(\n",
    "    df_detailed_matches.groupby(['league_name'])['last_match_possession_home'].transform('mean'))\n",
    "\n",
    "df_detailed_matches.last_match_possession_home = df_detailed_matches.last_match_possession_home.astype(int)\n",
    "df_detailed_matches.last_match_possession_away = df_detailed_matches.last_match_possession_away.astype(int)"
   ],
   "metadata": {
    "collapsed": false,
    "pycharm": {
     "name": "#%%\n"
    }
   }
  },
  {
   "cell_type": "code",
   "execution_count": 20,
   "outputs": [],
   "source": [
    "try:\n",
    "    for team in teams:\n",
    "        mask_team_matches = (df_detailed_matches['home_team'] == team) | (df_detailed_matches['away_team'] == team)\n",
    "        matches = df_detailed_matches.loc[mask_team_matches]\n",
    "        matches = matches.sort_values(by='date')\n",
    "\n",
    "        for index, row in matches.iterrows():\n",
    "            match_date = row['date']\n",
    "            next_match = matches.loc[matches['match_api_id'].shift(1) == row['match_api_id']].dropna(how='all')\n",
    "\n",
    "            if not next_match.empty:\n",
    "                days_last_match = delta = next_match['date'].iloc[0] - match_date\n",
    "\n",
    "                if team == next_match.iloc[0]['home_team']:\n",
    "                    df_detailed_matches.loc[df_detailed_matches['match_api_id'] == next_match['match_api_id'].values[0],\n",
    "                                            'days_since_lmh'] = days_last_match.days\n",
    "                else:\n",
    "                    df_detailed_matches.loc[df_detailed_matches['match_api_id'] == next_match['match_api_id'].values[0],\n",
    "                                            'days_since_lma'] = days_last_match.days\n",
    "\n",
    "except Exception as e:\n",
    "    print(e)\n",
    "\n",
    "df_detailed_matches['days_since_lmh'] = df_detailed_matches['days_since_lmh'].fillna(\n",
    "    df_detailed_matches.groupby(['league_name'])['days_since_lmh'].transform('mean').astype(int))\n",
    "\n",
    "df_detailed_matches['days_since_lma'] = df_detailed_matches['days_since_lma'].fillna(\n",
    "    df_detailed_matches.groupby(['league_name'])['days_since_lma'].transform('mean').astype(int))\n",
    "\n",
    "df_detailed_matches.days_since_lma = df_detailed_matches.days_since_lma.astype(int)\n",
    "df_detailed_matches.days_since_lmh = df_detailed_matches.days_since_lmh.astype(int)"
   ],
   "metadata": {
    "collapsed": false,
    "pycharm": {
     "name": "#%%\n"
    }
   }
  },
  {
   "cell_type": "code",
   "execution_count": 21,
   "outputs": [],
   "source": [
    "for index, row in df_detailed_matches.iterrows():\n",
    "    home_team = row['home_team']\n",
    "    away_team = row['away_team']\n",
    "\n",
    "    mask_all_matches_between_teams = ((df_detailed_matches['home_team'] == home_team) | (df_detailed_matches['away_team'] == home_team)) &\\\n",
    "                                     ((df_detailed_matches['home_team'] == away_team) | (df_detailed_matches['away_team'] == away_team))\n",
    "    all_matches_between_teams = df_detailed_matches.loc[mask_all_matches_between_teams]\n",
    "\n",
    "    for idx, r in all_matches_between_teams.iterrows():\n",
    "        last_match = all_matches_between_teams.loc[all_matches_between_teams['match_api_id'].shift(1) == r['match_api_id']].dropna(how='all')\n",
    "        m_winner = ''\n",
    "        if not last_match.empty:\n",
    "            m_winner = get_winner(r)\n",
    "\n",
    "            match_api_id_ = df_detailed_matches['match_api_id'] == last_match.iloc[0]['match_api_id']\n",
    "            df_detailed_matches.loc[match_api_id_, 'lm_winner'] = m_winner"
   ],
   "metadata": {
    "collapsed": false,
    "pycharm": {
     "name": "#%%\n"
    }
   }
  },
  {
   "cell_type": "code",
   "execution_count": 22,
   "outputs": [
    {
     "data": {
      "text/plain": "(1355, 44)"
     },
     "execution_count": 22,
     "metadata": {},
     "output_type": "execute_result"
    }
   ],
   "source": [
    "df_detailed_matches_nan_lm_winner = df_detailed_matches.loc[df_detailed_matches.lm_winner.isna()]\n",
    "df_detailed_matches_nan_lm_winner.shape"
   ],
   "metadata": {
    "collapsed": false,
    "pycharm": {
     "name": "#%%\n"
    }
   }
  },
  {
   "cell_type": "code",
   "execution_count": 23,
   "outputs": [],
   "source": [
    "for index, row in df_detailed_matches_nan_lm_winner.iterrows():\n",
    "    home_team = row['home_team']\n",
    "    away_team = row['away_team']\n",
    "\n",
    "    mask_all_matches_between_teams = ((df_detailed_matches['home_team'] == home_team) | (\n",
    "            df_detailed_matches['away_team'] == home_team)) & ((df_detailed_matches['home_team'] == away_team) | (\n",
    "            df_detailed_matches['away_team'] == away_team))\n",
    "    all_matches_between_teams = df_detailed_matches.loc[mask_all_matches_between_teams]\n",
    "    all_matches_between_teams = all_matches_between_teams.sort_values(by='date')\n",
    "\n",
    "    lm_winner = all_matches_between_teams.mode()['lm_winner'][0]\n",
    "    if pd.isna(lm_winner):\n",
    "        lm_winner = get_winner(row)\n",
    "    df_detailed_matches.loc[df_detailed_matches['match_api_id'] == row['match_api_id'], 'lm_winner'] = lm_winner\n",
    "\n",
    "df_detailed_matches.lm_winner = df_detailed_matches.lm_winner.astype('category')"
   ],
   "metadata": {
    "collapsed": false,
    "pycharm": {
     "name": "#%%\n"
    }
   }
  },
  {
   "cell_type": "code",
   "execution_count": 24,
   "outputs": [],
   "source": [
    "try:\n",
    "    for team in teams:\n",
    "        mask_find_team_matches = (df_detailed_matches['home_team'] == team) | (df_detailed_matches['away_team'] == team)\n",
    "        team_matches = df_detailed_matches.loc[mask_find_team_matches]\n",
    "        team_matches = team_matches.sort_values(by='date')\n",
    "\n",
    "        for index, row in team_matches.iterrows():\n",
    "            mask = (((df_detailed_matches['home_team'] == team) | (df_detailed_matches['away_team'] == team)) & (team_matches['date'] < row['date']))\n",
    "\n",
    "            point_list = team_matches.loc[mask].iloc[-5:].apply(lambda row: get_points(row, team), axis=1)\n",
    "            avg_points_l5m = np.nan\n",
    "\n",
    "            if len(point_list) > 4:\n",
    "                avg_points_l5m = point_list.mean()\n",
    "\n",
    "            if row['home_team'] == team:\n",
    "                df_detailed_matches.loc[df_detailed_matches.match_api_id == row.match_api_id, 'avg_points_l5m_h'] = avg_points_l5m\n",
    "            else:\n",
    "                df_detailed_matches.loc[df_detailed_matches.match_api_id == row.match_api_id, 'avg_points_l5m_a'] = avg_points_l5m\n",
    "except Exception as e:\n",
    "    e.with_traceback()\n",
    "    print(e)"
   ],
   "metadata": {
    "collapsed": false,
    "pycharm": {
     "name": "#%%\n"
    }
   }
  },
  {
   "cell_type": "code",
   "execution_count": 25,
   "outputs": [],
   "source": [
    "try:\n",
    "    for team in teams:\n",
    "        mask_find_team_matches = (df_detailed_matches['home_team'] == team) | (df_detailed_matches['away_team'] == team)\n",
    "        team_matches = df_detailed_matches.loc[mask_find_team_matches]\n",
    "        team_matches = team_matches.sort_values(by='date')\n",
    "        seasons_unique = team_matches.season.unique()\n",
    "\n",
    "        for season in seasons_unique:\n",
    "            season_matches = team_matches.loc[team_matches.season == season]\n",
    "            for index, row in season_matches.iterrows():\n",
    "                mask = (((df_detailed_matches['home_team'] == team) | (df_detailed_matches['away_team'] == team)) & (\n",
    "                            team_matches['date'] < row['date']))\n",
    "\n",
    "                point_list = season_matches.loc[mask].apply(lambda row: get_points(row, team), axis=1)\n",
    "                points = 0\n",
    "\n",
    "                if len(point_list):\n",
    "                    points = point_list.sum()\n",
    "\n",
    "                if row['home_team'] == team:\n",
    "                    df_detailed_matches.loc[df_detailed_matches.match_api_id == row.match_api_id, 'points_home'] = points\n",
    "                else:\n",
    "                    df_detailed_matches.loc[df_detailed_matches.match_api_id == row.match_api_id, 'points_away'] = points\n",
    "except Exception as e:\n",
    "    e.with_traceback()\n",
    "    print(e)\n",
    "\n",
    "df_detailed_matches['avg_points_l5m_h'] = df_detailed_matches['avg_points_l5m_h'].fillna(\n",
    "    df_detailed_matches.groupby(['season', 'home_team'])['avg_points_l5m_h'].transform('mean'))\n",
    "\n",
    "df_detailed_matches['avg_points_l5m_a'] = df_detailed_matches['avg_points_l5m_a'].fillna(\n",
    "    df_detailed_matches.groupby(['season', 'away_team'])['avg_points_l5m_a'].transform('mean'))\n",
    "\n",
    "df_detailed_matches['avg_points_l5m_h'] = df_detailed_matches['avg_points_l5m_h'].fillna(0)\n",
    "df_detailed_matches['avg_points_l5m_a'] = df_detailed_matches['avg_points_l5m_a'].fillna(0)\n",
    "\n",
    "df_detailed_matches.points_home = df_detailed_matches.points_home.astype(int)\n",
    "df_detailed_matches.points_away = df_detailed_matches.points_away.astype(int)"
   ],
   "metadata": {
    "collapsed": false,
    "pycharm": {
     "name": "#%%\n"
    }
   }
  },
  {
   "cell_type": "code",
   "execution_count": 38,
   "outputs": [],
   "source": [
    "df_detailed_matches_dropped = df_detailed_matches.drop(['home_team_goal', 'away_team_goal', 'possession', 'result_match', 'IWH', 'IWA','IWD'], axis=1)\n",
    "df_detailed_matches_dropped = df_detailed_matches_dropped.dropna(subset=['B365H','B365D','B365A','BWH','BWD','BWA','LBH','LBD','LBA','WHH','WHD','WHA'], thresh=4)"
   ],
   "metadata": {
    "collapsed": false,
    "pycharm": {
     "name": "#%%\n"
    }
   }
  },
  {
   "cell_type": "code",
   "execution_count": 39,
   "outputs": [],
   "source": [
    "bets_df = df_detailed_matches_dropped[['match_api_id', 'B365H','B365D','B365A','BWH','BWD','BWA','LBH','LBD','LBA','WHH','WHD','WHA']]"
   ],
   "metadata": {
    "collapsed": false,
    "pycharm": {
     "name": "#%%\n"
    }
   }
  },
  {
   "cell_type": "code",
   "execution_count": 40,
   "outputs": [],
   "source": [
    "bets_df_nan = bets_df[bets_df.isna().any(axis=1)]\n",
    "for idx, row in bets_df_nan.iterrows():\n",
    "    df_detailed_matches_dropped.loc[df_detailed_matches_dropped.match_api_id == row.match_api_id, 'BWH'] = round(row[['B365H', 'LBH', 'WHH']].mean(), 2)\n",
    "    df_detailed_matches_dropped.loc[df_detailed_matches_dropped.match_api_id == row.match_api_id, 'BWD'] = round(row[['B365D', 'LBD', 'WHD']].mean(), 2)\n",
    "    df_detailed_matches_dropped.loc[df_detailed_matches_dropped.match_api_id == row.match_api_id, 'BWA'] = round(row[['B365A', 'LBA', 'WHA']].mean(), 2)"
   ],
   "metadata": {
    "collapsed": false,
    "pycharm": {
     "name": "#%%\n"
    }
   }
  },
  {
   "cell_type": "code",
   "execution_count": 43,
   "outputs": [
    {
     "data": {
      "text/plain": "               column_name  percent_missing\nmatch_api_id  match_api_id              0.0\ncountry_name  country_name              0.0\nleague_name    league_name              0.0\nseason              season              0.0\nstage                stage              0.0",
      "text/html": "<div>\n<style scoped>\n    .dataframe tbody tr th:only-of-type {\n        vertical-align: middle;\n    }\n\n    .dataframe tbody tr th {\n        vertical-align: top;\n    }\n\n    .dataframe thead th {\n        text-align: right;\n    }\n</style>\n<table border=\"1\" class=\"dataframe\">\n  <thead>\n    <tr style=\"text-align: right;\">\n      <th></th>\n      <th>column_name</th>\n      <th>percent_missing</th>\n    </tr>\n  </thead>\n  <tbody>\n    <tr>\n      <th>match_api_id</th>\n      <td>match_api_id</td>\n      <td>0.0</td>\n    </tr>\n    <tr>\n      <th>country_name</th>\n      <td>country_name</td>\n      <td>0.0</td>\n    </tr>\n    <tr>\n      <th>league_name</th>\n      <td>league_name</td>\n      <td>0.0</td>\n    </tr>\n    <tr>\n      <th>season</th>\n      <td>season</td>\n      <td>0.0</td>\n    </tr>\n    <tr>\n      <th>stage</th>\n      <td>stage</td>\n      <td>0.0</td>\n    </tr>\n  </tbody>\n</table>\n</div>"
     },
     "execution_count": 43,
     "metadata": {},
     "output_type": "execute_result"
    }
   ],
   "source": [
    "missin_values(df_detailed_matches_dropped).head(5)"
   ],
   "metadata": {
    "collapsed": false,
    "pycharm": {
     "name": "#%%\n"
    }
   }
  },
  {
   "cell_type": "code",
   "execution_count": 42,
   "outputs": [
    {
     "ename": "AttributeError",
     "evalue": "'ProfileReport' object has no attribute 'head'",
     "output_type": "error",
     "traceback": [
      "\u001B[1;31m---------------------------------------------------------------------------\u001B[0m",
      "\u001B[1;31mAttributeError\u001B[0m                            Traceback (most recent call last)",
      "Cell \u001B[1;32mIn [42], line 1\u001B[0m\n\u001B[1;32m----> 1\u001B[0m profile \u001B[38;5;241m=\u001B[39m \u001B[43mProfileReport\u001B[49m\u001B[43m(\u001B[49m\u001B[43mdf_detailed_matches\u001B[49m\u001B[43m,\u001B[49m\u001B[43m \u001B[49m\u001B[43mtitle\u001B[49m\u001B[38;5;241;43m=\u001B[39;49m\u001B[38;5;124;43m'\u001B[39;49m\u001B[38;5;124;43mDetailed matches\u001B[39;49m\u001B[38;5;124;43m'\u001B[39;49m\u001B[43m)\u001B[49m\u001B[38;5;241;43m.\u001B[39;49m\u001B[43mhead\u001B[49m(\u001B[38;5;241m5\u001B[39m)\n\u001B[0;32m      2\u001B[0m profile\u001B[38;5;241m.\u001B[39mconfig\u001B[38;5;241m.\u001B[39minteractions\u001B[38;5;241m.\u001B[39mtargets \u001B[38;5;241m=\u001B[39m []\n\u001B[0;32m      3\u001B[0m profile\u001B[38;5;241m.\u001B[39mto_file(output_file\u001B[38;5;241m=\u001B[39m\u001B[38;5;124m\"\u001B[39m\u001B[38;5;124mreport/second_profile.html\u001B[39m\u001B[38;5;124m\"\u001B[39m)\n",
      "\u001B[1;31mAttributeError\u001B[0m: 'ProfileReport' object has no attribute 'head'"
     ]
    }
   ],
   "source": [
    "profile = ProfileReport(df_detailed_matches, title='Detailed matches')\n",
    "profile.config.interactions.targets = []\n",
    "profile.to_file(output_file=\"report/second_profile.html\")"
   ],
   "metadata": {
    "collapsed": false,
    "pycharm": {
     "name": "#%%\n"
    }
   }
  },
  {
   "cell_type": "code",
   "execution_count": null,
   "outputs": [],
   "source": [],
   "metadata": {
    "collapsed": false,
    "pycharm": {
     "name": "#%%\n"
    }
   }
  }
 ],
 "metadata": {
  "kernelspec": {
   "display_name": "Python 3",
   "language": "python",
   "name": "python3"
  },
  "language_info": {
   "codemirror_mode": {
    "name": "ipython",
    "version": 2
   },
   "file_extension": ".py",
   "mimetype": "text/x-python",
   "name": "python",
   "nbconvert_exporter": "python",
   "pygments_lexer": "ipython2",
   "version": "2.7.6"
  }
 },
 "nbformat": 4,
 "nbformat_minor": 0
}